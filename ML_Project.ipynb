{
  "nbformat": 4,
  "nbformat_minor": 0,
  "metadata": {
    "colab": {
      "name": "ML-Project.ipynb",
      "provenance": []
    },
    "kernelspec": {
      "name": "python3",
      "display_name": "Python 3"
    },
    "language_info": {
      "name": "python"
    }
  },
  "cells": [
    {
      "cell_type": "markdown",
      "source": [
        "# ML Project - Fall 2021\n",
        "---\n",
        "In this project we are going to predict the behavior of customers when cliking on an advertisements that whether they buy that product or not."
      ],
      "metadata": {
        "id": "tKKIkKVEBYgh"
      }
    },
    {
      "cell_type": "code",
      "execution_count": null,
      "metadata": {
        "id": "CWPY5azWpQxo"
      },
      "outputs": [],
      "source": [
        "import pandas as pd\n",
        "import numpy as np\n",
        "import matplotlib.pyplot as plt\n",
        "import seaborn as sns"
      ]
    },
    {
      "cell_type": "code",
      "source": [
        "data = pd.read_csv('train_dataset.csv')\n",
        "data.head()"
      ],
      "metadata": {
        "colab": {
          "base_uri": "https://localhost:8080/",
          "height": 357
        },
        "id": "CWnXZlXFpZua",
        "outputId": "f0262336-d33a-42c2-c030-613a9a0d295a"
      },
      "execution_count": 4,
      "outputs": [
        {
          "output_type": "execute_result",
          "data": {
            "text/html": [
              "\n",
              "  <div id=\"df-188be118-e295-4b5c-bf68-0071e74d9130\">\n",
              "    <div class=\"colab-df-container\">\n",
              "      <div>\n",
              "<style scoped>\n",
              "    .dataframe tbody tr th:only-of-type {\n",
              "        vertical-align: middle;\n",
              "    }\n",
              "\n",
              "    .dataframe tbody tr th {\n",
              "        vertical-align: top;\n",
              "    }\n",
              "\n",
              "    .dataframe thead th {\n",
              "        text-align: right;\n",
              "    }\n",
              "</style>\n",
              "<table border=\"1\" class=\"dataframe\">\n",
              "  <thead>\n",
              "    <tr style=\"text-align: right;\">\n",
              "      <th></th>\n",
              "      <th>Sale</th>\n",
              "      <th>SalesAmountInEuro</th>\n",
              "      <th>time_delay_for_conversion</th>\n",
              "      <th>click_timestamp</th>\n",
              "      <th>nb_clicks_1week</th>\n",
              "      <th>product_price</th>\n",
              "      <th>product_age_group</th>\n",
              "      <th>device_type</th>\n",
              "      <th>audience_id</th>\n",
              "      <th>product_gender</th>\n",
              "      <th>product_brand</th>\n",
              "      <th>product_category(1)</th>\n",
              "      <th>product_category(2)</th>\n",
              "      <th>product_category(3)</th>\n",
              "      <th>product_category(4)</th>\n",
              "      <th>product_category(5)</th>\n",
              "      <th>product_category(6)</th>\n",
              "      <th>product_category(7)</th>\n",
              "      <th>product_country</th>\n",
              "      <th>product_id</th>\n",
              "      <th>product_title</th>\n",
              "      <th>partner_id</th>\n",
              "      <th>user_id</th>\n",
              "    </tr>\n",
              "  </thead>\n",
              "  <tbody>\n",
              "    <tr>\n",
              "      <th>0</th>\n",
              "      <td>0</td>\n",
              "      <td>-1.0</td>\n",
              "      <td>-1</td>\n",
              "      <td>2020-08-04 04:07:56</td>\n",
              "      <td>-1</td>\n",
              "      <td>0.0</td>\n",
              "      <td>-1</td>\n",
              "      <td>7E56C27BFF0305E788DA55A029EC4988</td>\n",
              "      <td>-1</td>\n",
              "      <td>-1</td>\n",
              "      <td>-1</td>\n",
              "      <td>-1</td>\n",
              "      <td>-1</td>\n",
              "      <td>-1</td>\n",
              "      <td>-1</td>\n",
              "      <td>-1</td>\n",
              "      <td>-1</td>\n",
              "      <td>-1</td>\n",
              "      <td>57A1D462A03BD076E029CF9310C11FC5</td>\n",
              "      <td>B69E439E41E0BEAD764ABF16D7FD96C9</td>\n",
              "      <td>-1</td>\n",
              "      <td>E3DDEB04F8AFF944B11943BB57D2F620</td>\n",
              "      <td>5E2C678F6586B67F61A377E1534E01FC</td>\n",
              "    </tr>\n",
              "    <tr>\n",
              "      <th>1</th>\n",
              "      <td>0</td>\n",
              "      <td>-1.0</td>\n",
              "      <td>-1</td>\n",
              "      <td>2020-08-04 01:47:40</td>\n",
              "      <td>-1</td>\n",
              "      <td>0.0</td>\n",
              "      <td>-1</td>\n",
              "      <td>7E56C27BFF0305E788DA55A029EC4988</td>\n",
              "      <td>-1</td>\n",
              "      <td>-1</td>\n",
              "      <td>-1</td>\n",
              "      <td>-1</td>\n",
              "      <td>-1</td>\n",
              "      <td>-1</td>\n",
              "      <td>-1</td>\n",
              "      <td>-1</td>\n",
              "      <td>-1</td>\n",
              "      <td>-1</td>\n",
              "      <td>57A1D462A03BD076E029CF9310C11FC5</td>\n",
              "      <td>404D3D9D03297504F3509032DCFA02F0</td>\n",
              "      <td>-1</td>\n",
              "      <td>E3DDEB04F8AFF944B11943BB57D2F620</td>\n",
              "      <td>E8247702C0DD294E0AE6B5B5E2F9E810</td>\n",
              "    </tr>\n",
              "    <tr>\n",
              "      <th>2</th>\n",
              "      <td>0</td>\n",
              "      <td>-1.0</td>\n",
              "      <td>-1</td>\n",
              "      <td>2020-08-04 16:54:31</td>\n",
              "      <td>-1</td>\n",
              "      <td>0.0</td>\n",
              "      <td>4C90FD52FC53D2C1C205844CB69575AB</td>\n",
              "      <td>FF2C446555E3822B0E0FC3406116E86D</td>\n",
              "      <td>-1</td>\n",
              "      <td>C45A9AC6D102ACAEEDF0D6F78636D84A</td>\n",
              "      <td>3DF2BEDE6A8FDFA7F97B97FFF6EF38CC</td>\n",
              "      <td>033E492229C2222EFAA16EE8A6462D8B</td>\n",
              "      <td>CD599E5A946D00A81A875E085F7EF1E8</td>\n",
              "      <td>-1</td>\n",
              "      <td>-1</td>\n",
              "      <td>-1</td>\n",
              "      <td>-1</td>\n",
              "      <td>-1</td>\n",
              "      <td>2AC62132FBCFA093B9426894A4BC6278</td>\n",
              "      <td>B09E51338E0EED59C5A859B13631C370</td>\n",
              "      <td>3DF2BEDE6A8FDFA7F97B97FFF6EF38CC 516EE9C34B839...</td>\n",
              "      <td>12E43E51784BDE3CB9E0EF6310A7D5C5</td>\n",
              "      <td>9FD001258907F541D497040C64383696</td>\n",
              "    </tr>\n",
              "    <tr>\n",
              "      <th>3</th>\n",
              "      <td>0</td>\n",
              "      <td>-1.0</td>\n",
              "      <td>-1</td>\n",
              "      <td>2020-08-03 20:34:28</td>\n",
              "      <td>-1</td>\n",
              "      <td>0.0</td>\n",
              "      <td>-1</td>\n",
              "      <td>D7D1FB49049702BF6338894757E0D959</td>\n",
              "      <td>-1</td>\n",
              "      <td>-1</td>\n",
              "      <td>-1</td>\n",
              "      <td>-1</td>\n",
              "      <td>-1</td>\n",
              "      <td>-1</td>\n",
              "      <td>-1</td>\n",
              "      <td>-1</td>\n",
              "      <td>-1</td>\n",
              "      <td>-1</td>\n",
              "      <td>57A1D462A03BD076E029CF9310C11FC5</td>\n",
              "      <td>080614393A57816D7A655695E2DBE728</td>\n",
              "      <td>-1</td>\n",
              "      <td>E3DDEB04F8AFF944B11943BB57D2F620</td>\n",
              "      <td>225741ACF2DBB2E5948268F5D5D352E6</td>\n",
              "    </tr>\n",
              "    <tr>\n",
              "      <th>4</th>\n",
              "      <td>0</td>\n",
              "      <td>-1.0</td>\n",
              "      <td>-1</td>\n",
              "      <td>2020-08-03 20:54:17</td>\n",
              "      <td>1064</td>\n",
              "      <td>0.0</td>\n",
              "      <td>4C90FD52FC53D2C1C205844CB69575AB</td>\n",
              "      <td>7E56C27BFF0305E788DA55A029EC4988</td>\n",
              "      <td>-1</td>\n",
              "      <td>1B491180398E2F0390E6A588B3BCE291</td>\n",
              "      <td>9B57D98465FD7D5AF39448DC29E95DC8</td>\n",
              "      <td>13C26D10258053889D75D9B9CA922EC7</td>\n",
              "      <td>346AC0DECB71FFDC9114236B419D7814</td>\n",
              "      <td>1E629AECC2FB9BEF43331CBE8F2D7C08</td>\n",
              "      <td>341C9BD18A3277E6B104CAFC177DE796</td>\n",
              "      <td>-1</td>\n",
              "      <td>-1</td>\n",
              "      <td>-1</td>\n",
              "      <td>989EEF92F2A525DD896557425EA7C4C7</td>\n",
              "      <td>350271BAFD7C7AAF6FB1424CF3DD4827</td>\n",
              "      <td>097C90F8BF5398AC7C486804F0801DEE E09E084DB8937...</td>\n",
              "      <td>F0FD783189F55BAFC331AD347EAE6863</td>\n",
              "      <td>160A90377E54124D0BD31DB6735F0B33</td>\n",
              "    </tr>\n",
              "  </tbody>\n",
              "</table>\n",
              "</div>\n",
              "      <button class=\"colab-df-convert\" onclick=\"convertToInteractive('df-188be118-e295-4b5c-bf68-0071e74d9130')\"\n",
              "              title=\"Convert this dataframe to an interactive table.\"\n",
              "              style=\"display:none;\">\n",
              "        \n",
              "  <svg xmlns=\"http://www.w3.org/2000/svg\" height=\"24px\"viewBox=\"0 0 24 24\"\n",
              "       width=\"24px\">\n",
              "    <path d=\"M0 0h24v24H0V0z\" fill=\"none\"/>\n",
              "    <path d=\"M18.56 5.44l.94 2.06.94-2.06 2.06-.94-2.06-.94-.94-2.06-.94 2.06-2.06.94zm-11 1L8.5 8.5l.94-2.06 2.06-.94-2.06-.94L8.5 2.5l-.94 2.06-2.06.94zm10 10l.94 2.06.94-2.06 2.06-.94-2.06-.94-.94-2.06-.94 2.06-2.06.94z\"/><path d=\"M17.41 7.96l-1.37-1.37c-.4-.4-.92-.59-1.43-.59-.52 0-1.04.2-1.43.59L10.3 9.45l-7.72 7.72c-.78.78-.78 2.05 0 2.83L4 21.41c.39.39.9.59 1.41.59.51 0 1.02-.2 1.41-.59l7.78-7.78 2.81-2.81c.8-.78.8-2.07 0-2.86zM5.41 20L4 18.59l7.72-7.72 1.47 1.35L5.41 20z\"/>\n",
              "  </svg>\n",
              "      </button>\n",
              "      \n",
              "  <style>\n",
              "    .colab-df-container {\n",
              "      display:flex;\n",
              "      flex-wrap:wrap;\n",
              "      gap: 12px;\n",
              "    }\n",
              "\n",
              "    .colab-df-convert {\n",
              "      background-color: #E8F0FE;\n",
              "      border: none;\n",
              "      border-radius: 50%;\n",
              "      cursor: pointer;\n",
              "      display: none;\n",
              "      fill: #1967D2;\n",
              "      height: 32px;\n",
              "      padding: 0 0 0 0;\n",
              "      width: 32px;\n",
              "    }\n",
              "\n",
              "    .colab-df-convert:hover {\n",
              "      background-color: #E2EBFA;\n",
              "      box-shadow: 0px 1px 2px rgba(60, 64, 67, 0.3), 0px 1px 3px 1px rgba(60, 64, 67, 0.15);\n",
              "      fill: #174EA6;\n",
              "    }\n",
              "\n",
              "    [theme=dark] .colab-df-convert {\n",
              "      background-color: #3B4455;\n",
              "      fill: #D2E3FC;\n",
              "    }\n",
              "\n",
              "    [theme=dark] .colab-df-convert:hover {\n",
              "      background-color: #434B5C;\n",
              "      box-shadow: 0px 1px 3px 1px rgba(0, 0, 0, 0.15);\n",
              "      filter: drop-shadow(0px 1px 2px rgba(0, 0, 0, 0.3));\n",
              "      fill: #FFFFFF;\n",
              "    }\n",
              "  </style>\n",
              "\n",
              "      <script>\n",
              "        const buttonEl =\n",
              "          document.querySelector('#df-188be118-e295-4b5c-bf68-0071e74d9130 button.colab-df-convert');\n",
              "        buttonEl.style.display =\n",
              "          google.colab.kernel.accessAllowed ? 'block' : 'none';\n",
              "\n",
              "        async function convertToInteractive(key) {\n",
              "          const element = document.querySelector('#df-188be118-e295-4b5c-bf68-0071e74d9130');\n",
              "          const dataTable =\n",
              "            await google.colab.kernel.invokeFunction('convertToInteractive',\n",
              "                                                     [key], {});\n",
              "          if (!dataTable) return;\n",
              "\n",
              "          const docLinkHtml = 'Like what you see? Visit the ' +\n",
              "            '<a target=\"_blank\" href=https://colab.research.google.com/notebooks/data_table.ipynb>data table notebook</a>'\n",
              "            + ' to learn more about interactive tables.';\n",
              "          element.innerHTML = '';\n",
              "          dataTable['output_type'] = 'display_data';\n",
              "          await google.colab.output.renderOutput(dataTable, element);\n",
              "          const docLink = document.createElement('div');\n",
              "          docLink.innerHTML = docLinkHtml;\n",
              "          element.appendChild(docLink);\n",
              "        }\n",
              "      </script>\n",
              "    </div>\n",
              "  </div>\n",
              "  "
            ],
            "text/plain": [
              "   Sale  ...                           user_id\n",
              "0     0  ...  5E2C678F6586B67F61A377E1534E01FC\n",
              "1     0  ...  E8247702C0DD294E0AE6B5B5E2F9E810\n",
              "2     0  ...  9FD001258907F541D497040C64383696\n",
              "3     0  ...  225741ACF2DBB2E5948268F5D5D352E6\n",
              "4     0  ...  160A90377E54124D0BD31DB6735F0B33\n",
              "\n",
              "[5 rows x 23 columns]"
            ]
          },
          "metadata": {},
          "execution_count": 4
        }
      ]
    },
    {
      "cell_type": "markdown",
      "source": [
        "# New Section"
      ],
      "metadata": {
        "id": "7AdN8g3cDjJA"
      }
    },
    {
      "cell_type": "markdown",
      "source": [
        "---\n",
        "#1. EDA\n",
        "\n",
        "In this part we are going to get some insights about our data and find out what information each variable gets. To do so we will follow bellow steps:\n",
        "1. Understanding variables\n",
        "2. Analyzing relationships between variables"
      ],
      "metadata": {
        "id": "RogynRBL-skv"
      }
    },
    {
      "cell_type": "markdown",
      "source": [
        "Deleting 2 columns: todo"
      ],
      "metadata": {
        "id": "L8ASDxQ-LlnQ"
      }
    },
    {
      "cell_type": "code",
      "source": [
        "data = data.drop(columns=['SalesAmountInEuro',\t'time_delay_for_conversion'], errors='ignore')"
      ],
      "metadata": {
        "id": "y9SbxzAvLikB"
      },
      "execution_count": 24,
      "outputs": []
    },
    {
      "cell_type": "code",
      "source": [
        "data['click_timestamp'].apply(lambda x: x.split(' ')[0]).unique()"
      ],
      "metadata": {
        "id": "aZzz70CqFFK4",
        "outputId": "50c55288-e5e3-4a8c-a09f-7ba06cc89747",
        "colab": {
          "base_uri": "https://localhost:8080/"
        }
      },
      "execution_count": 22,
      "outputs": [
        {
          "output_type": "execute_result",
          "data": {
            "text/plain": [
              "array(['2020-08-04', '2020-08-03'], dtype=object)"
            ]
          },
          "metadata": {},
          "execution_count": 22
        }
      ]
    },
    {
      "cell_type": "code",
      "source": [
        "from datetime import datetime\n",
        "import time\n",
        "def get_seconds(time_str):\n",
        "  date, hour = time_str.split(' ')\n",
        "  t = map(int, hour.split(':'))\n",
        "  return t[0] * 3600 + t[1] * 60 + t[2]\n",
        "\n",
        "get_seconds('2020-08-04 04:07:56')"
      ],
      "metadata": {
        "colab": {
          "base_uri": "https://localhost:8080/",
          "height": 322
        },
        "id": "Hr0rivmlMySh",
        "outputId": "c211117f-8eeb-44cd-872d-7eb700e1d25e"
      },
      "execution_count": 47,
      "outputs": [
        {
          "output_type": "error",
          "ename": "TypeError",
          "evalue": "ignored",
          "traceback": [
            "\u001b[0;31m---------------------------------------------------------------------------\u001b[0m",
            "\u001b[0;31mTypeError\u001b[0m                                 Traceback (most recent call last)",
            "\u001b[0;32m<ipython-input-47-600458dca38f>\u001b[0m in \u001b[0;36m<module>\u001b[0;34m()\u001b[0m\n\u001b[1;32m      6\u001b[0m   \u001b[0;32mreturn\u001b[0m \u001b[0mt\u001b[0m\u001b[0;34m[\u001b[0m\u001b[0;36m0\u001b[0m\u001b[0;34m]\u001b[0m \u001b[0;34m*\u001b[0m \u001b[0;36m3600\u001b[0m \u001b[0;34m+\u001b[0m \u001b[0mt\u001b[0m\u001b[0;34m[\u001b[0m\u001b[0;36m1\u001b[0m\u001b[0;34m]\u001b[0m \u001b[0;34m*\u001b[0m \u001b[0;36m60\u001b[0m \u001b[0;34m+\u001b[0m \u001b[0mt\u001b[0m\u001b[0;34m[\u001b[0m\u001b[0;36m2\u001b[0m\u001b[0;34m]\u001b[0m\u001b[0;34m\u001b[0m\u001b[0;34m\u001b[0m\u001b[0m\n\u001b[1;32m      7\u001b[0m \u001b[0;34m\u001b[0m\u001b[0m\n\u001b[0;32m----> 8\u001b[0;31m \u001b[0mget_seconds\u001b[0m\u001b[0;34m(\u001b[0m\u001b[0;34m'2020-08-04 04:07:56'\u001b[0m\u001b[0;34m)\u001b[0m\u001b[0;34m\u001b[0m\u001b[0;34m\u001b[0m\u001b[0m\n\u001b[0m",
            "\u001b[0;32m<ipython-input-47-600458dca38f>\u001b[0m in \u001b[0;36mget_seconds\u001b[0;34m(time_str)\u001b[0m\n\u001b[1;32m      4\u001b[0m   \u001b[0mdate\u001b[0m\u001b[0;34m,\u001b[0m \u001b[0mhour\u001b[0m \u001b[0;34m=\u001b[0m \u001b[0mtime_str\u001b[0m\u001b[0;34m.\u001b[0m\u001b[0msplit\u001b[0m\u001b[0;34m(\u001b[0m\u001b[0;34m' '\u001b[0m\u001b[0;34m)\u001b[0m\u001b[0;34m\u001b[0m\u001b[0;34m\u001b[0m\u001b[0m\n\u001b[1;32m      5\u001b[0m   \u001b[0mt\u001b[0m \u001b[0;34m=\u001b[0m \u001b[0mmap\u001b[0m\u001b[0;34m(\u001b[0m\u001b[0mint\u001b[0m\u001b[0;34m,\u001b[0m \u001b[0mhour\u001b[0m\u001b[0;34m.\u001b[0m\u001b[0msplit\u001b[0m\u001b[0;34m(\u001b[0m\u001b[0;34m':'\u001b[0m\u001b[0;34m)\u001b[0m\u001b[0;34m)\u001b[0m\u001b[0;34m\u001b[0m\u001b[0;34m\u001b[0m\u001b[0m\n\u001b[0;32m----> 6\u001b[0;31m   \u001b[0;32mreturn\u001b[0m \u001b[0mt\u001b[0m\u001b[0;34m[\u001b[0m\u001b[0;36m0\u001b[0m\u001b[0;34m]\u001b[0m \u001b[0;34m*\u001b[0m \u001b[0;36m3600\u001b[0m \u001b[0;34m+\u001b[0m \u001b[0mt\u001b[0m\u001b[0;34m[\u001b[0m\u001b[0;36m1\u001b[0m\u001b[0;34m]\u001b[0m \u001b[0;34m*\u001b[0m \u001b[0;36m60\u001b[0m \u001b[0;34m+\u001b[0m \u001b[0mt\u001b[0m\u001b[0;34m[\u001b[0m\u001b[0;36m2\u001b[0m\u001b[0;34m]\u001b[0m\u001b[0;34m\u001b[0m\u001b[0;34m\u001b[0m\u001b[0m\n\u001b[0m\u001b[1;32m      7\u001b[0m \u001b[0;34m\u001b[0m\u001b[0m\n\u001b[1;32m      8\u001b[0m \u001b[0mget_seconds\u001b[0m\u001b[0;34m(\u001b[0m\u001b[0;34m'2020-08-04 04:07:56'\u001b[0m\u001b[0;34m)\u001b[0m\u001b[0;34m\u001b[0m\u001b[0;34m\u001b[0m\u001b[0m\n",
            "\u001b[0;31mTypeError\u001b[0m: 'map' object is not subscriptable"
          ]
        }
      ]
    },
    {
      "cell_type": "code",
      "source": [
        "numerical_cols = ['Sale', 'nb_clicks_1week',\t'product_price']\n",
        "categorical_cols = []"
      ],
      "metadata": {
        "id": "3KcST1ybK-4S"
      },
      "execution_count": null,
      "outputs": []
    }
  ]
}