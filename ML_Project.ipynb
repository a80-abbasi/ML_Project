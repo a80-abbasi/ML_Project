{
  "cells": [
    {
      "cell_type": "markdown",
      "metadata": {
        "id": "tKKIkKVEBYgh"
      },
      "source": [
        "# ML Project - Fall 2021  \n",
        "---\n",
        "Javad Hezare  \n",
        "Ali Abbasi  \n",
        "---\n",
        "In this project, we are going to predict customers' behavior when clicking on an advertisement; whether they buy the product or not."
      ]
    },
    {
      "cell_type": "code",
      "execution_count": 74,
      "metadata": {
        "colab": {
          "base_uri": "https://localhost:8080/"
        },
        "id": "CWPY5azWpQxo",
        "outputId": "94ed8bc3-9dd5-49d5-bfa0-b408a853cea1"
      },
      "outputs": [
        {
          "name": "stdout",
          "output_type": "stream",
          "text": [
            "Requirement already satisfied: category_encoders in /usr/local/lib/python3.7/dist-packages (2.3.0)\n",
            "Requirement already satisfied: numpy>=1.14.0 in /usr/local/lib/python3.7/dist-packages (from category_encoders) (1.19.5)\n",
            "Requirement already satisfied: scipy>=1.0.0 in /usr/local/lib/python3.7/dist-packages (from category_encoders) (1.4.1)\n",
            "Requirement already satisfied: patsy>=0.5.1 in /usr/local/lib/python3.7/dist-packages (from category_encoders) (0.5.2)\n",
            "Requirement already satisfied: scikit-learn>=0.20.0 in /usr/local/lib/python3.7/dist-packages (from category_encoders) (1.0.2)\n",
            "Requirement already satisfied: pandas>=0.21.1 in /usr/local/lib/python3.7/dist-packages (from category_encoders) (1.3.5)\n",
            "Requirement already satisfied: statsmodels>=0.9.0 in /usr/local/lib/python3.7/dist-packages (from category_encoders) (0.10.2)\n",
            "Requirement already satisfied: pytz>=2017.3 in /usr/local/lib/python3.7/dist-packages (from pandas>=0.21.1->category_encoders) (2018.9)\n",
            "Requirement already satisfied: python-dateutil>=2.7.3 in /usr/local/lib/python3.7/dist-packages (from pandas>=0.21.1->category_encoders) (2.8.2)\n",
            "Requirement already satisfied: six in /usr/local/lib/python3.7/dist-packages (from patsy>=0.5.1->category_encoders) (1.15.0)\n",
            "Requirement already satisfied: joblib>=0.11 in /usr/local/lib/python3.7/dist-packages (from scikit-learn>=0.20.0->category_encoders) (1.1.0)\n",
            "Requirement already satisfied: threadpoolctl>=2.0.0 in /usr/local/lib/python3.7/dist-packages (from scikit-learn>=0.20.0->category_encoders) (3.1.0)\n"
          ]
        }
      ],
      "source": [
        "!pip install category_encoders\n",
        "import pandas as pd\n",
        "import numpy as np\n",
        "from category_encoders import TargetEncoder\n",
        "import matplotlib.pyplot as plt\n",
        "import seaborn as sns\n",
        "from sklearn.model_selection import train_test_split\n",
        "from sklearn.metrics import precision_score, recall_score, accuracy_score, f1_score\n",
        "pd.options.mode.chained_assignment = None"
      ]
    },
    {
      "cell_type": "markdown",
      "metadata": {
        "id": "WlA7ZhdQOFve"
      },
      "source": [
        "Importing dataset:"
      ]
    },
    {
      "cell_type": "code",
      "execution_count": 75,
      "metadata": {
        "colab": {
          "base_uri": "https://localhost:8080/",
          "height": 357
        },
        "id": "CWnXZlXFpZua",
        "outputId": "bd663778-e49b-4772-c77f-efe4ba3099af"
      },
      "outputs": [
        {
          "data": {
            "text/html": [
              "\n",
              "  <div id=\"df-3211cb5c-47cc-482d-b682-deb13def9526\">\n",
              "    <div class=\"colab-df-container\">\n",
              "      <div>\n",
              "<style scoped>\n",
              "    .dataframe tbody tr th:only-of-type {\n",
              "        vertical-align: middle;\n",
              "    }\n",
              "\n",
              "    .dataframe tbody tr th {\n",
              "        vertical-align: top;\n",
              "    }\n",
              "\n",
              "    .dataframe thead th {\n",
              "        text-align: right;\n",
              "    }\n",
              "</style>\n",
              "<table border=\"1\" class=\"dataframe\">\n",
              "  <thead>\n",
              "    <tr style=\"text-align: right;\">\n",
              "      <th></th>\n",
              "      <th>Sale</th>\n",
              "      <th>SalesAmountInEuro</th>\n",
              "      <th>time_delay_for_conversion</th>\n",
              "      <th>click_timestamp</th>\n",
              "      <th>nb_clicks_1week</th>\n",
              "      <th>product_price</th>\n",
              "      <th>product_age_group</th>\n",
              "      <th>device_type</th>\n",
              "      <th>audience_id</th>\n",
              "      <th>product_gender</th>\n",
              "      <th>product_brand</th>\n",
              "      <th>product_category(1)</th>\n",
              "      <th>product_category(2)</th>\n",
              "      <th>product_category(3)</th>\n",
              "      <th>product_category(4)</th>\n",
              "      <th>product_category(5)</th>\n",
              "      <th>product_category(6)</th>\n",
              "      <th>product_category(7)</th>\n",
              "      <th>product_country</th>\n",
              "      <th>product_id</th>\n",
              "      <th>product_title</th>\n",
              "      <th>partner_id</th>\n",
              "      <th>user_id</th>\n",
              "    </tr>\n",
              "  </thead>\n",
              "  <tbody>\n",
              "    <tr>\n",
              "      <th>0</th>\n",
              "      <td>0</td>\n",
              "      <td>-1.0</td>\n",
              "      <td>-1</td>\n",
              "      <td>2020-08-04 04:07:56</td>\n",
              "      <td>-1</td>\n",
              "      <td>0.0</td>\n",
              "      <td>-1</td>\n",
              "      <td>7E56C27BFF0305E788DA55A029EC4988</td>\n",
              "      <td>-1</td>\n",
              "      <td>-1</td>\n",
              "      <td>-1</td>\n",
              "      <td>-1</td>\n",
              "      <td>-1</td>\n",
              "      <td>-1</td>\n",
              "      <td>-1</td>\n",
              "      <td>-1</td>\n",
              "      <td>-1</td>\n",
              "      <td>-1</td>\n",
              "      <td>57A1D462A03BD076E029CF9310C11FC5</td>\n",
              "      <td>B69E439E41E0BEAD764ABF16D7FD96C9</td>\n",
              "      <td>-1</td>\n",
              "      <td>E3DDEB04F8AFF944B11943BB57D2F620</td>\n",
              "      <td>5E2C678F6586B67F61A377E1534E01FC</td>\n",
              "    </tr>\n",
              "    <tr>\n",
              "      <th>1</th>\n",
              "      <td>0</td>\n",
              "      <td>-1.0</td>\n",
              "      <td>-1</td>\n",
              "      <td>2020-08-04 01:47:40</td>\n",
              "      <td>-1</td>\n",
              "      <td>0.0</td>\n",
              "      <td>-1</td>\n",
              "      <td>7E56C27BFF0305E788DA55A029EC4988</td>\n",
              "      <td>-1</td>\n",
              "      <td>-1</td>\n",
              "      <td>-1</td>\n",
              "      <td>-1</td>\n",
              "      <td>-1</td>\n",
              "      <td>-1</td>\n",
              "      <td>-1</td>\n",
              "      <td>-1</td>\n",
              "      <td>-1</td>\n",
              "      <td>-1</td>\n",
              "      <td>57A1D462A03BD076E029CF9310C11FC5</td>\n",
              "      <td>404D3D9D03297504F3509032DCFA02F0</td>\n",
              "      <td>-1</td>\n",
              "      <td>E3DDEB04F8AFF944B11943BB57D2F620</td>\n",
              "      <td>E8247702C0DD294E0AE6B5B5E2F9E810</td>\n",
              "    </tr>\n",
              "    <tr>\n",
              "      <th>2</th>\n",
              "      <td>0</td>\n",
              "      <td>-1.0</td>\n",
              "      <td>-1</td>\n",
              "      <td>2020-08-04 16:54:31</td>\n",
              "      <td>-1</td>\n",
              "      <td>0.0</td>\n",
              "      <td>4C90FD52FC53D2C1C205844CB69575AB</td>\n",
              "      <td>FF2C446555E3822B0E0FC3406116E86D</td>\n",
              "      <td>-1</td>\n",
              "      <td>C45A9AC6D102ACAEEDF0D6F78636D84A</td>\n",
              "      <td>3DF2BEDE6A8FDFA7F97B97FFF6EF38CC</td>\n",
              "      <td>033E492229C2222EFAA16EE8A6462D8B</td>\n",
              "      <td>CD599E5A946D00A81A875E085F7EF1E8</td>\n",
              "      <td>-1</td>\n",
              "      <td>-1</td>\n",
              "      <td>-1</td>\n",
              "      <td>-1</td>\n",
              "      <td>-1</td>\n",
              "      <td>2AC62132FBCFA093B9426894A4BC6278</td>\n",
              "      <td>B09E51338E0EED59C5A859B13631C370</td>\n",
              "      <td>3DF2BEDE6A8FDFA7F97B97FFF6EF38CC 516EE9C34B839...</td>\n",
              "      <td>12E43E51784BDE3CB9E0EF6310A7D5C5</td>\n",
              "      <td>9FD001258907F541D497040C64383696</td>\n",
              "    </tr>\n",
              "    <tr>\n",
              "      <th>3</th>\n",
              "      <td>0</td>\n",
              "      <td>-1.0</td>\n",
              "      <td>-1</td>\n",
              "      <td>2020-08-03 20:34:28</td>\n",
              "      <td>-1</td>\n",
              "      <td>0.0</td>\n",
              "      <td>-1</td>\n",
              "      <td>D7D1FB49049702BF6338894757E0D959</td>\n",
              "      <td>-1</td>\n",
              "      <td>-1</td>\n",
              "      <td>-1</td>\n",
              "      <td>-1</td>\n",
              "      <td>-1</td>\n",
              "      <td>-1</td>\n",
              "      <td>-1</td>\n",
              "      <td>-1</td>\n",
              "      <td>-1</td>\n",
              "      <td>-1</td>\n",
              "      <td>57A1D462A03BD076E029CF9310C11FC5</td>\n",
              "      <td>080614393A57816D7A655695E2DBE728</td>\n",
              "      <td>-1</td>\n",
              "      <td>E3DDEB04F8AFF944B11943BB57D2F620</td>\n",
              "      <td>225741ACF2DBB2E5948268F5D5D352E6</td>\n",
              "    </tr>\n",
              "    <tr>\n",
              "      <th>4</th>\n",
              "      <td>0</td>\n",
              "      <td>-1.0</td>\n",
              "      <td>-1</td>\n",
              "      <td>2020-08-03 20:54:17</td>\n",
              "      <td>1064</td>\n",
              "      <td>0.0</td>\n",
              "      <td>4C90FD52FC53D2C1C205844CB69575AB</td>\n",
              "      <td>7E56C27BFF0305E788DA55A029EC4988</td>\n",
              "      <td>-1</td>\n",
              "      <td>1B491180398E2F0390E6A588B3BCE291</td>\n",
              "      <td>9B57D98465FD7D5AF39448DC29E95DC8</td>\n",
              "      <td>13C26D10258053889D75D9B9CA922EC7</td>\n",
              "      <td>346AC0DECB71FFDC9114236B419D7814</td>\n",
              "      <td>1E629AECC2FB9BEF43331CBE8F2D7C08</td>\n",
              "      <td>341C9BD18A3277E6B104CAFC177DE796</td>\n",
              "      <td>-1</td>\n",
              "      <td>-1</td>\n",
              "      <td>-1</td>\n",
              "      <td>989EEF92F2A525DD896557425EA7C4C7</td>\n",
              "      <td>350271BAFD7C7AAF6FB1424CF3DD4827</td>\n",
              "      <td>097C90F8BF5398AC7C486804F0801DEE E09E084DB8937...</td>\n",
              "      <td>F0FD783189F55BAFC331AD347EAE6863</td>\n",
              "      <td>160A90377E54124D0BD31DB6735F0B33</td>\n",
              "    </tr>\n",
              "  </tbody>\n",
              "</table>\n",
              "</div>\n",
              "      <button class=\"colab-df-convert\" onclick=\"convertToInteractive('df-3211cb5c-47cc-482d-b682-deb13def9526')\"\n",
              "              title=\"Convert this dataframe to an interactive table.\"\n",
              "              style=\"display:none;\">\n",
              "        \n",
              "  <svg xmlns=\"http://www.w3.org/2000/svg\" height=\"24px\"viewBox=\"0 0 24 24\"\n",
              "       width=\"24px\">\n",
              "    <path d=\"M0 0h24v24H0V0z\" fill=\"none\"/>\n",
              "    <path d=\"M18.56 5.44l.94 2.06.94-2.06 2.06-.94-2.06-.94-.94-2.06-.94 2.06-2.06.94zm-11 1L8.5 8.5l.94-2.06 2.06-.94-2.06-.94L8.5 2.5l-.94 2.06-2.06.94zm10 10l.94 2.06.94-2.06 2.06-.94-2.06-.94-.94-2.06-.94 2.06-2.06.94z\"/><path d=\"M17.41 7.96l-1.37-1.37c-.4-.4-.92-.59-1.43-.59-.52 0-1.04.2-1.43.59L10.3 9.45l-7.72 7.72c-.78.78-.78 2.05 0 2.83L4 21.41c.39.39.9.59 1.41.59.51 0 1.02-.2 1.41-.59l7.78-7.78 2.81-2.81c.8-.78.8-2.07 0-2.86zM5.41 20L4 18.59l7.72-7.72 1.47 1.35L5.41 20z\"/>\n",
              "  </svg>\n",
              "      </button>\n",
              "      \n",
              "  <style>\n",
              "    .colab-df-container {\n",
              "      display:flex;\n",
              "      flex-wrap:wrap;\n",
              "      gap: 12px;\n",
              "    }\n",
              "\n",
              "    .colab-df-convert {\n",
              "      background-color: #E8F0FE;\n",
              "      border: none;\n",
              "      border-radius: 50%;\n",
              "      cursor: pointer;\n",
              "      display: none;\n",
              "      fill: #1967D2;\n",
              "      height: 32px;\n",
              "      padding: 0 0 0 0;\n",
              "      width: 32px;\n",
              "    }\n",
              "\n",
              "    .colab-df-convert:hover {\n",
              "      background-color: #E2EBFA;\n",
              "      box-shadow: 0px 1px 2px rgba(60, 64, 67, 0.3), 0px 1px 3px 1px rgba(60, 64, 67, 0.15);\n",
              "      fill: #174EA6;\n",
              "    }\n",
              "\n",
              "    [theme=dark] .colab-df-convert {\n",
              "      background-color: #3B4455;\n",
              "      fill: #D2E3FC;\n",
              "    }\n",
              "\n",
              "    [theme=dark] .colab-df-convert:hover {\n",
              "      background-color: #434B5C;\n",
              "      box-shadow: 0px 1px 3px 1px rgba(0, 0, 0, 0.15);\n",
              "      filter: drop-shadow(0px 1px 2px rgba(0, 0, 0, 0.3));\n",
              "      fill: #FFFFFF;\n",
              "    }\n",
              "  </style>\n",
              "\n",
              "      <script>\n",
              "        const buttonEl =\n",
              "          document.querySelector('#df-3211cb5c-47cc-482d-b682-deb13def9526 button.colab-df-convert');\n",
              "        buttonEl.style.display =\n",
              "          google.colab.kernel.accessAllowed ? 'block' : 'none';\n",
              "\n",
              "        async function convertToInteractive(key) {\n",
              "          const element = document.querySelector('#df-3211cb5c-47cc-482d-b682-deb13def9526');\n",
              "          const dataTable =\n",
              "            await google.colab.kernel.invokeFunction('convertToInteractive',\n",
              "                                                     [key], {});\n",
              "          if (!dataTable) return;\n",
              "\n",
              "          const docLinkHtml = 'Like what you see? Visit the ' +\n",
              "            '<a target=\"_blank\" href=https://colab.research.google.com/notebooks/data_table.ipynb>data table notebook</a>'\n",
              "            + ' to learn more about interactive tables.';\n",
              "          element.innerHTML = '';\n",
              "          dataTable['output_type'] = 'display_data';\n",
              "          await google.colab.output.renderOutput(dataTable, element);\n",
              "          const docLink = document.createElement('div');\n",
              "          docLink.innerHTML = docLinkHtml;\n",
              "          element.appendChild(docLink);\n",
              "        }\n",
              "      </script>\n",
              "    </div>\n",
              "  </div>\n",
              "  "
            ],
            "text/plain": [
              "   Sale  ...                           user_id\n",
              "0     0  ...  5E2C678F6586B67F61A377E1534E01FC\n",
              "1     0  ...  E8247702C0DD294E0AE6B5B5E2F9E810\n",
              "2     0  ...  9FD001258907F541D497040C64383696\n",
              "3     0  ...  225741ACF2DBB2E5948268F5D5D352E6\n",
              "4     0  ...  160A90377E54124D0BD31DB6735F0B33\n",
              "\n",
              "[5 rows x 23 columns]"
            ]
          },
          "execution_count": 75,
          "metadata": {},
          "output_type": "execute_result"
        }
      ],
      "source": [
        "df = pd.read_csv('https://github.com/a80-abbasi/ML_Project/blob/main/train_dataset.csv?raw=true')\n",
        "# df = pd.read_csv('train_dataset.csv')\n",
        "df.head()"
      ]
    },
    {
      "cell_type": "markdown",
      "metadata": {
        "id": "Jy3IdMoZOFvf"
      },
      "source": [
        "For better results, we seperate train set and validation set from the begining:"
      ]
    },
    {
      "cell_type": "code",
      "execution_count": 76,
      "metadata": {
        "colab": {
          "base_uri": "https://localhost:8080/"
        },
        "id": "a2gaGHp1OFvf",
        "outputId": "01d40f7a-1399-4fda-cd1b-5817958cfb5e"
      },
      "outputs": [
        {
          "data": {
            "text/plain": [
              "((80000, 23), (20000, 23))"
            ]
          },
          "execution_count": 76,
          "metadata": {},
          "output_type": "execute_result"
        }
      ],
      "source": [
        "train_data, val_data = train_test_split(df, test_size=0.2)\n",
        "train_data.shape, val_data.shape"
      ]
    },
    {
      "cell_type": "code",
      "execution_count": 77,
      "metadata": {
        "id": "6Rl8GMqWOFvf"
      },
      "outputs": [],
      "source": [
        "# for convenience\n",
        "data = train_data"
      ]
    },
    {
      "cell_type": "markdown",
      "metadata": {
        "id": "RogynRBL-skv"
      },
      "source": [
        "---\n",
        "# 1. EDA, Data Cleaning and Feature Engineering\n",
        "\n",
        "In this part we are going to get some insights about our data and find out what information each variable gives us and then, we start preparing our data for modeling by cleaning and deciding our policy for missing data. To do so we will follow bellow steps:\n",
        "1. Understanding variables\n",
        "2. Analyzing and Visualizing relationships between variables\n",
        "3. Deciding what we should do with missing data\n",
        "4. Choosing which features of data we are going to use to train our model"
      ]
    },
    {
      "cell_type": "markdown",
      "metadata": {
        "id": "vl9WAunIOFvg"
      },
      "source": [
        "Inspecting datatypes of each feature:"
      ]
    },
    {
      "cell_type": "code",
      "execution_count": 78,
      "metadata": {
        "colab": {
          "base_uri": "https://localhost:8080/"
        },
        "id": "VPqT2QhGigVX",
        "outputId": "65ebbb3f-684a-4093-e0a4-1028f9f49799"
      },
      "outputs": [
        {
          "data": {
            "text/plain": [
              "Sale                           int64\n",
              "SalesAmountInEuro            float64\n",
              "time_delay_for_conversion      int64\n",
              "click_timestamp               object\n",
              "nb_clicks_1week                int64\n",
              "product_price                float64\n",
              "product_age_group             object\n",
              "device_type                   object\n",
              "audience_id                   object\n",
              "product_gender                object\n",
              "product_brand                 object\n",
              "product_category(1)           object\n",
              "product_category(2)           object\n",
              "product_category(3)           object\n",
              "product_category(4)           object\n",
              "product_category(5)           object\n",
              "product_category(6)           object\n",
              "product_category(7)            int64\n",
              "product_country               object\n",
              "product_id                    object\n",
              "product_title                 object\n",
              "partner_id                    object\n",
              "user_id                       object\n",
              "dtype: object"
            ]
          },
          "execution_count": 78,
          "metadata": {},
          "output_type": "execute_result"
        }
      ],
      "source": [
        "data.dtypes"
      ]
    },
    {
      "cell_type": "markdown",
      "metadata": {
        "id": "O7SeE5bormso"
      },
      "source": [
        "Columns with _object_ data type contain a hashed string."
      ]
    },
    {
      "cell_type": "markdown",
      "metadata": {
        "id": "wTJlwCpeigVd"
      },
      "source": [
        "With a little inspection we notice that _'click_timestamp'_ seem to contain only two dates:"
      ]
    },
    {
      "cell_type": "code",
      "execution_count": 79,
      "metadata": {
        "colab": {
          "base_uri": "https://localhost:8080/"
        },
        "id": "aZzz70CqFFK4",
        "outputId": "ee63a4b9-303d-4945-f5be-5e2df500a750"
      },
      "outputs": [
        {
          "data": {
            "text/plain": [
              "array(['2020-08-04', '2020-08-03'], dtype=object)"
            ]
          },
          "execution_count": 79,
          "metadata": {},
          "output_type": "execute_result"
        }
      ],
      "source": [
        "# getting data part of click_timestamp\n",
        "data['click_timestamp'].apply(lambda x: x.split(' ')[0]).unique()"
      ]
    },
    {
      "cell_type": "markdown",
      "metadata": {
        "id": "8Ew73dw7igVe"
      },
      "source": [
        "We were right. So we can convert this column to 2 columns: one indicating the day and one indicating the number of seconds from the start of the day as integer values. But because _day_ value of these dates contains only two values, if we get a date other than these two in the test set, our model may have unpredictable behavior. And it seems a reasonable choice; time in a day can influence people decision of buying (or not buying) the product much more than which day they are in. So we only use _click seconds_:"
      ]
    },
    {
      "cell_type": "code",
      "execution_count": 80,
      "metadata": {
        "id": "Hr0rivmlMySh"
      },
      "outputs": [],
      "source": [
        "def get_seconds(time_str):\n",
        "  _, hour = time_str.split(' ')\n",
        "  t = list(map(int, hour.split(':')))\n",
        "  return t[0] * 3600 + t[1] * 60 + t[2]\n",
        "\n",
        "# creating column click_seconds\n",
        "data['click_second'] = data['click_timestamp'].apply(get_seconds)"
      ]
    },
    {
      "cell_type": "code",
      "execution_count": 81,
      "metadata": {
        "colab": {
          "base_uri": "https://localhost:8080/",
          "height": 322
        },
        "id": "IEsOO_WjigVg",
        "outputId": "8eee7d43-f1ae-41a3-bdb5-9b3cf1de2f3e"
      },
      "outputs": [
        {
          "data": {
            "text/html": [
              "\n",
              "  <div id=\"df-10acffaf-c10e-4bf3-9e1c-c9befd5796e4\">\n",
              "    <div class=\"colab-df-container\">\n",
              "      <div>\n",
              "<style scoped>\n",
              "    .dataframe tbody tr th:only-of-type {\n",
              "        vertical-align: middle;\n",
              "    }\n",
              "\n",
              "    .dataframe tbody tr th {\n",
              "        vertical-align: top;\n",
              "    }\n",
              "\n",
              "    .dataframe thead th {\n",
              "        text-align: right;\n",
              "    }\n",
              "</style>\n",
              "<table border=\"1\" class=\"dataframe\">\n",
              "  <thead>\n",
              "    <tr style=\"text-align: right;\">\n",
              "      <th></th>\n",
              "      <th>Sale</th>\n",
              "      <th>SalesAmountInEuro</th>\n",
              "      <th>time_delay_for_conversion</th>\n",
              "      <th>nb_clicks_1week</th>\n",
              "      <th>product_price</th>\n",
              "      <th>product_age_group</th>\n",
              "      <th>device_type</th>\n",
              "      <th>audience_id</th>\n",
              "      <th>product_gender</th>\n",
              "      <th>product_brand</th>\n",
              "      <th>product_category(1)</th>\n",
              "      <th>product_category(2)</th>\n",
              "      <th>product_category(3)</th>\n",
              "      <th>product_category(4)</th>\n",
              "      <th>product_category(5)</th>\n",
              "      <th>product_category(6)</th>\n",
              "      <th>product_category(7)</th>\n",
              "      <th>product_country</th>\n",
              "      <th>product_id</th>\n",
              "      <th>product_title</th>\n",
              "      <th>partner_id</th>\n",
              "      <th>user_id</th>\n",
              "      <th>click_second</th>\n",
              "    </tr>\n",
              "  </thead>\n",
              "  <tbody>\n",
              "    <tr>\n",
              "      <th>96611</th>\n",
              "      <td>0</td>\n",
              "      <td>-1.0</td>\n",
              "      <td>-1</td>\n",
              "      <td>-1</td>\n",
              "      <td>0.0</td>\n",
              "      <td>-1</td>\n",
              "      <td>D7D1FB49049702BF6338894757E0D959</td>\n",
              "      <td>-1</td>\n",
              "      <td>-1</td>\n",
              "      <td>-1</td>\n",
              "      <td>-1</td>\n",
              "      <td>-1</td>\n",
              "      <td>-1</td>\n",
              "      <td>-1</td>\n",
              "      <td>-1</td>\n",
              "      <td>-1</td>\n",
              "      <td>-1</td>\n",
              "      <td>57A1D462A03BD076E029CF9310C11FC5</td>\n",
              "      <td>131E5010A476C9744E2075CB1CC17E0E</td>\n",
              "      <td>-1</td>\n",
              "      <td>AEA3CF80A8E52184841528BC5251A71A</td>\n",
              "      <td>BFF48FC0B6D9E62551E7BED5340E7916</td>\n",
              "      <td>69877</td>\n",
              "    </tr>\n",
              "    <tr>\n",
              "      <th>13194</th>\n",
              "      <td>0</td>\n",
              "      <td>-1.0</td>\n",
              "      <td>-1</td>\n",
              "      <td>66</td>\n",
              "      <td>0.0</td>\n",
              "      <td>4C90FD52FC53D2C1C205844CB69575AB</td>\n",
              "      <td>D7D1FB49049702BF6338894757E0D959</td>\n",
              "      <td>-1</td>\n",
              "      <td>C45A9AC6D102ACAEEDF0D6F78636D84A</td>\n",
              "      <td>EFB1122EAF034D2671AE815ACFFC7B9E</td>\n",
              "      <td>033E492229C2222EFAA16EE8A6462D8B</td>\n",
              "      <td>CD599E5A946D00A81A875E085F7EF1E8</td>\n",
              "      <td>-1</td>\n",
              "      <td>-1</td>\n",
              "      <td>-1</td>\n",
              "      <td>-1</td>\n",
              "      <td>-1</td>\n",
              "      <td>F0C08A161AA0404193A7EF78F5C3E06C</td>\n",
              "      <td>7C39A3A4434334AF4540E7396F160D31</td>\n",
              "      <td>1EB4F37DC106620AC6499E7D10F0E690 9C2363F33DC9E...</td>\n",
              "      <td>CC14152DD0806823ED88BA55D9A5240B</td>\n",
              "      <td>C50D6F63D0812026E9D55119DD7F2271</td>\n",
              "      <td>36634</td>\n",
              "    </tr>\n",
              "    <tr>\n",
              "      <th>58902</th>\n",
              "      <td>0</td>\n",
              "      <td>-1.0</td>\n",
              "      <td>-1</td>\n",
              "      <td>409</td>\n",
              "      <td>0.0</td>\n",
              "      <td>-1</td>\n",
              "      <td>FF2C446555E3822B0E0FC3406116E86D</td>\n",
              "      <td>-1</td>\n",
              "      <td>-1</td>\n",
              "      <td>0D989962AF75DFF7D579B2FFB9CCCA71</td>\n",
              "      <td>7532B3FBAFEC164460C4ED6FEB0C022C</td>\n",
              "      <td>FE4A86571601A1EF619CDB48BCD7F9A3</td>\n",
              "      <td>58D6D0E7760308F75E5FA67E03740C1E</td>\n",
              "      <td>-1</td>\n",
              "      <td>-1</td>\n",
              "      <td>-1</td>\n",
              "      <td>-1</td>\n",
              "      <td>57A1D462A03BD076E029CF9310C11FC5</td>\n",
              "      <td>6A0163065042DD153BE4987DC6B0BAA1</td>\n",
              "      <td>E81B4B9ABD03B8D1FDE7478A40367F9D AF24F32608196...</td>\n",
              "      <td>8B573DDAF7E0C5B6BE6195E737251064</td>\n",
              "      <td>5D2DFA90296912C702A386D1D1D74C75</td>\n",
              "      <td>72660</td>\n",
              "    </tr>\n",
              "    <tr>\n",
              "      <th>75063</th>\n",
              "      <td>0</td>\n",
              "      <td>-1.0</td>\n",
              "      <td>-1</td>\n",
              "      <td>166</td>\n",
              "      <td>0.0</td>\n",
              "      <td>-1</td>\n",
              "      <td>7E56C27BFF0305E788DA55A029EC4988</td>\n",
              "      <td>4C8E310D7152DE70B060550D00CF9BD2</td>\n",
              "      <td>-1</td>\n",
              "      <td>B11F83250E97B9AE77366F23AD8D8567</td>\n",
              "      <td>7F286560861764CCB93C90B7AA833949</td>\n",
              "      <td>891EE660A73D9A6E1F4BD6149E613C44</td>\n",
              "      <td>0279CBF3081FFB710CE52B9E0BA4AABF</td>\n",
              "      <td>35A13FB2AB63E920B7D71C5957131606</td>\n",
              "      <td>-1</td>\n",
              "      <td>-1</td>\n",
              "      <td>-1</td>\n",
              "      <td>989EEF92F2A525DD896557425EA7C4C7</td>\n",
              "      <td>1E458ADEFF2968AE82C51FEC92601259</td>\n",
              "      <td>616ECCB228546AE965263A89C50B77B3 B44908651DC5F...</td>\n",
              "      <td>6BFFDE668C5BC3938C875D3D0940E699</td>\n",
              "      <td>8F6415061DDB822A21F5B8B95C4BB361</td>\n",
              "      <td>27275</td>\n",
              "    </tr>\n",
              "    <tr>\n",
              "      <th>37502</th>\n",
              "      <td>0</td>\n",
              "      <td>-1.0</td>\n",
              "      <td>-1</td>\n",
              "      <td>-1</td>\n",
              "      <td>0.0</td>\n",
              "      <td>-1</td>\n",
              "      <td>D7D1FB49049702BF6338894757E0D959</td>\n",
              "      <td>-1</td>\n",
              "      <td>-1</td>\n",
              "      <td>-1</td>\n",
              "      <td>-1</td>\n",
              "      <td>-1</td>\n",
              "      <td>-1</td>\n",
              "      <td>-1</td>\n",
              "      <td>-1</td>\n",
              "      <td>-1</td>\n",
              "      <td>-1</td>\n",
              "      <td>-1</td>\n",
              "      <td>-1</td>\n",
              "      <td>-1</td>\n",
              "      <td>6CA1C3B2EF2011BCF281AA085370D386</td>\n",
              "      <td>7C7B76C0860076123E01C0D13F9D51B7</td>\n",
              "      <td>27625</td>\n",
              "    </tr>\n",
              "  </tbody>\n",
              "</table>\n",
              "</div>\n",
              "      <button class=\"colab-df-convert\" onclick=\"convertToInteractive('df-10acffaf-c10e-4bf3-9e1c-c9befd5796e4')\"\n",
              "              title=\"Convert this dataframe to an interactive table.\"\n",
              "              style=\"display:none;\">\n",
              "        \n",
              "  <svg xmlns=\"http://www.w3.org/2000/svg\" height=\"24px\"viewBox=\"0 0 24 24\"\n",
              "       width=\"24px\">\n",
              "    <path d=\"M0 0h24v24H0V0z\" fill=\"none\"/>\n",
              "    <path d=\"M18.56 5.44l.94 2.06.94-2.06 2.06-.94-2.06-.94-.94-2.06-.94 2.06-2.06.94zm-11 1L8.5 8.5l.94-2.06 2.06-.94-2.06-.94L8.5 2.5l-.94 2.06-2.06.94zm10 10l.94 2.06.94-2.06 2.06-.94-2.06-.94-.94-2.06-.94 2.06-2.06.94z\"/><path d=\"M17.41 7.96l-1.37-1.37c-.4-.4-.92-.59-1.43-.59-.52 0-1.04.2-1.43.59L10.3 9.45l-7.72 7.72c-.78.78-.78 2.05 0 2.83L4 21.41c.39.39.9.59 1.41.59.51 0 1.02-.2 1.41-.59l7.78-7.78 2.81-2.81c.8-.78.8-2.07 0-2.86zM5.41 20L4 18.59l7.72-7.72 1.47 1.35L5.41 20z\"/>\n",
              "  </svg>\n",
              "      </button>\n",
              "      \n",
              "  <style>\n",
              "    .colab-df-container {\n",
              "      display:flex;\n",
              "      flex-wrap:wrap;\n",
              "      gap: 12px;\n",
              "    }\n",
              "\n",
              "    .colab-df-convert {\n",
              "      background-color: #E8F0FE;\n",
              "      border: none;\n",
              "      border-radius: 50%;\n",
              "      cursor: pointer;\n",
              "      display: none;\n",
              "      fill: #1967D2;\n",
              "      height: 32px;\n",
              "      padding: 0 0 0 0;\n",
              "      width: 32px;\n",
              "    }\n",
              "\n",
              "    .colab-df-convert:hover {\n",
              "      background-color: #E2EBFA;\n",
              "      box-shadow: 0px 1px 2px rgba(60, 64, 67, 0.3), 0px 1px 3px 1px rgba(60, 64, 67, 0.15);\n",
              "      fill: #174EA6;\n",
              "    }\n",
              "\n",
              "    [theme=dark] .colab-df-convert {\n",
              "      background-color: #3B4455;\n",
              "      fill: #D2E3FC;\n",
              "    }\n",
              "\n",
              "    [theme=dark] .colab-df-convert:hover {\n",
              "      background-color: #434B5C;\n",
              "      box-shadow: 0px 1px 3px 1px rgba(0, 0, 0, 0.15);\n",
              "      filter: drop-shadow(0px 1px 2px rgba(0, 0, 0, 0.3));\n",
              "      fill: #FFFFFF;\n",
              "    }\n",
              "  </style>\n",
              "\n",
              "      <script>\n",
              "        const buttonEl =\n",
              "          document.querySelector('#df-10acffaf-c10e-4bf3-9e1c-c9befd5796e4 button.colab-df-convert');\n",
              "        buttonEl.style.display =\n",
              "          google.colab.kernel.accessAllowed ? 'block' : 'none';\n",
              "\n",
              "        async function convertToInteractive(key) {\n",
              "          const element = document.querySelector('#df-10acffaf-c10e-4bf3-9e1c-c9befd5796e4');\n",
              "          const dataTable =\n",
              "            await google.colab.kernel.invokeFunction('convertToInteractive',\n",
              "                                                     [key], {});\n",
              "          if (!dataTable) return;\n",
              "\n",
              "          const docLinkHtml = 'Like what you see? Visit the ' +\n",
              "            '<a target=\"_blank\" href=https://colab.research.google.com/notebooks/data_table.ipynb>data table notebook</a>'\n",
              "            + ' to learn more about interactive tables.';\n",
              "          element.innerHTML = '';\n",
              "          dataTable['output_type'] = 'display_data';\n",
              "          await google.colab.output.renderOutput(dataTable, element);\n",
              "          const docLink = document.createElement('div');\n",
              "          docLink.innerHTML = docLinkHtml;\n",
              "          element.appendChild(docLink);\n",
              "        }\n",
              "      </script>\n",
              "    </div>\n",
              "  </div>\n",
              "  "
            ],
            "text/plain": [
              "       Sale  SalesAmountInEuro  ...                           user_id  click_second\n",
              "96611     0               -1.0  ...  BFF48FC0B6D9E62551E7BED5340E7916         69877\n",
              "13194     0               -1.0  ...  C50D6F63D0812026E9D55119DD7F2271         36634\n",
              "58902     0               -1.0  ...  5D2DFA90296912C702A386D1D1D74C75         72660\n",
              "75063     0               -1.0  ...  8F6415061DDB822A21F5B8B95C4BB361         27275\n",
              "37502     0               -1.0  ...  7C7B76C0860076123E01C0D13F9D51B7         27625\n",
              "\n",
              "[5 rows x 23 columns]"
            ]
          },
          "execution_count": 81,
          "metadata": {},
          "output_type": "execute_result"
        }
      ],
      "source": [
        "# dropping click_timestamp column\n",
        "data.drop(columns=['click_timestamp'], errors='ignore', inplace=True)\n",
        "data.head()"
      ]
    },
    {
      "cell_type": "markdown",
      "metadata": {
        "id": "FTeDejJ5OFvi"
      },
      "source": [
        "For further examination, we split columns to 'numerical' and 'categorical' values:"
      ]
    },
    {
      "cell_type": "code",
      "execution_count": 82,
      "metadata": {
        "id": "3KcST1ybK-4S"
      },
      "outputs": [],
      "source": [
        "target = 'Sale'\n",
        "numerical_cols = ['click_second', 'nb_clicks_1week', 'product_price', 'SalesAmountInEuro', 'time_delay_for_conversion']\n",
        "# getting left columns as categorical_columns\n",
        "categorical_cols = list(set(data.columns) - set(numerical_cols) - set([target]))"
      ]
    },
    {
      "cell_type": "markdown",
      "metadata": {
        "id": "IgXqK2moOFvj"
      },
      "source": [
        "Inspecting correlation matrix for numerical data:"
      ]
    },
    {
      "cell_type": "code",
      "execution_count": 83,
      "metadata": {
        "colab": {
          "base_uri": "https://localhost:8080/",
          "height": 238
        },
        "id": "702Q4MB4OFvj",
        "outputId": "a29f9cd0-283f-4922-ffca-1b7824a1c763"
      },
      "outputs": [
        {
          "data": {
            "text/html": [
              "\n",
              "  <div id=\"df-de475672-5275-452a-9bdc-a1ab7fadf965\">\n",
              "    <div class=\"colab-df-container\">\n",
              "      <div>\n",
              "<style scoped>\n",
              "    .dataframe tbody tr th:only-of-type {\n",
              "        vertical-align: middle;\n",
              "    }\n",
              "\n",
              "    .dataframe tbody tr th {\n",
              "        vertical-align: top;\n",
              "    }\n",
              "\n",
              "    .dataframe thead th {\n",
              "        text-align: right;\n",
              "    }\n",
              "</style>\n",
              "<table border=\"1\" class=\"dataframe\">\n",
              "  <thead>\n",
              "    <tr style=\"text-align: right;\">\n",
              "      <th></th>\n",
              "      <th>Sale</th>\n",
              "      <th>click_second</th>\n",
              "      <th>nb_clicks_1week</th>\n",
              "      <th>product_price</th>\n",
              "      <th>SalesAmountInEuro</th>\n",
              "      <th>time_delay_for_conversion</th>\n",
              "    </tr>\n",
              "  </thead>\n",
              "  <tbody>\n",
              "    <tr>\n",
              "      <th>Sale</th>\n",
              "      <td>1.000000</td>\n",
              "      <td>0.029373</td>\n",
              "      <td>-0.043810</td>\n",
              "      <td>0.418493</td>\n",
              "      <td>0.257800</td>\n",
              "      <td>0.451897</td>\n",
              "    </tr>\n",
              "    <tr>\n",
              "      <th>click_second</th>\n",
              "      <td>0.029373</td>\n",
              "      <td>1.000000</td>\n",
              "      <td>-0.028320</td>\n",
              "      <td>0.004628</td>\n",
              "      <td>0.003566</td>\n",
              "      <td>0.010424</td>\n",
              "    </tr>\n",
              "    <tr>\n",
              "      <th>nb_clicks_1week</th>\n",
              "      <td>-0.043810</td>\n",
              "      <td>-0.028320</td>\n",
              "      <td>1.000000</td>\n",
              "      <td>0.030323</td>\n",
              "      <td>-0.007193</td>\n",
              "      <td>-0.023884</td>\n",
              "    </tr>\n",
              "    <tr>\n",
              "      <th>product_price</th>\n",
              "      <td>0.418493</td>\n",
              "      <td>0.004628</td>\n",
              "      <td>0.030323</td>\n",
              "      <td>1.000000</td>\n",
              "      <td>0.377618</td>\n",
              "      <td>0.180574</td>\n",
              "    </tr>\n",
              "    <tr>\n",
              "      <th>SalesAmountInEuro</th>\n",
              "      <td>0.257800</td>\n",
              "      <td>0.003566</td>\n",
              "      <td>-0.007193</td>\n",
              "      <td>0.377618</td>\n",
              "      <td>1.000000</td>\n",
              "      <td>0.154534</td>\n",
              "    </tr>\n",
              "    <tr>\n",
              "      <th>time_delay_for_conversion</th>\n",
              "      <td>0.451897</td>\n",
              "      <td>0.010424</td>\n",
              "      <td>-0.023884</td>\n",
              "      <td>0.180574</td>\n",
              "      <td>0.154534</td>\n",
              "      <td>1.000000</td>\n",
              "    </tr>\n",
              "  </tbody>\n",
              "</table>\n",
              "</div>\n",
              "      <button class=\"colab-df-convert\" onclick=\"convertToInteractive('df-de475672-5275-452a-9bdc-a1ab7fadf965')\"\n",
              "              title=\"Convert this dataframe to an interactive table.\"\n",
              "              style=\"display:none;\">\n",
              "        \n",
              "  <svg xmlns=\"http://www.w3.org/2000/svg\" height=\"24px\"viewBox=\"0 0 24 24\"\n",
              "       width=\"24px\">\n",
              "    <path d=\"M0 0h24v24H0V0z\" fill=\"none\"/>\n",
              "    <path d=\"M18.56 5.44l.94 2.06.94-2.06 2.06-.94-2.06-.94-.94-2.06-.94 2.06-2.06.94zm-11 1L8.5 8.5l.94-2.06 2.06-.94-2.06-.94L8.5 2.5l-.94 2.06-2.06.94zm10 10l.94 2.06.94-2.06 2.06-.94-2.06-.94-.94-2.06-.94 2.06-2.06.94z\"/><path d=\"M17.41 7.96l-1.37-1.37c-.4-.4-.92-.59-1.43-.59-.52 0-1.04.2-1.43.59L10.3 9.45l-7.72 7.72c-.78.78-.78 2.05 0 2.83L4 21.41c.39.39.9.59 1.41.59.51 0 1.02-.2 1.41-.59l7.78-7.78 2.81-2.81c.8-.78.8-2.07 0-2.86zM5.41 20L4 18.59l7.72-7.72 1.47 1.35L5.41 20z\"/>\n",
              "  </svg>\n",
              "      </button>\n",
              "      \n",
              "  <style>\n",
              "    .colab-df-container {\n",
              "      display:flex;\n",
              "      flex-wrap:wrap;\n",
              "      gap: 12px;\n",
              "    }\n",
              "\n",
              "    .colab-df-convert {\n",
              "      background-color: #E8F0FE;\n",
              "      border: none;\n",
              "      border-radius: 50%;\n",
              "      cursor: pointer;\n",
              "      display: none;\n",
              "      fill: #1967D2;\n",
              "      height: 32px;\n",
              "      padding: 0 0 0 0;\n",
              "      width: 32px;\n",
              "    }\n",
              "\n",
              "    .colab-df-convert:hover {\n",
              "      background-color: #E2EBFA;\n",
              "      box-shadow: 0px 1px 2px rgba(60, 64, 67, 0.3), 0px 1px 3px 1px rgba(60, 64, 67, 0.15);\n",
              "      fill: #174EA6;\n",
              "    }\n",
              "\n",
              "    [theme=dark] .colab-df-convert {\n",
              "      background-color: #3B4455;\n",
              "      fill: #D2E3FC;\n",
              "    }\n",
              "\n",
              "    [theme=dark] .colab-df-convert:hover {\n",
              "      background-color: #434B5C;\n",
              "      box-shadow: 0px 1px 3px 1px rgba(0, 0, 0, 0.15);\n",
              "      filter: drop-shadow(0px 1px 2px rgba(0, 0, 0, 0.3));\n",
              "      fill: #FFFFFF;\n",
              "    }\n",
              "  </style>\n",
              "\n",
              "      <script>\n",
              "        const buttonEl =\n",
              "          document.querySelector('#df-de475672-5275-452a-9bdc-a1ab7fadf965 button.colab-df-convert');\n",
              "        buttonEl.style.display =\n",
              "          google.colab.kernel.accessAllowed ? 'block' : 'none';\n",
              "\n",
              "        async function convertToInteractive(key) {\n",
              "          const element = document.querySelector('#df-de475672-5275-452a-9bdc-a1ab7fadf965');\n",
              "          const dataTable =\n",
              "            await google.colab.kernel.invokeFunction('convertToInteractive',\n",
              "                                                     [key], {});\n",
              "          if (!dataTable) return;\n",
              "\n",
              "          const docLinkHtml = 'Like what you see? Visit the ' +\n",
              "            '<a target=\"_blank\" href=https://colab.research.google.com/notebooks/data_table.ipynb>data table notebook</a>'\n",
              "            + ' to learn more about interactive tables.';\n",
              "          element.innerHTML = '';\n",
              "          dataTable['output_type'] = 'display_data';\n",
              "          await google.colab.output.renderOutput(dataTable, element);\n",
              "          const docLink = document.createElement('div');\n",
              "          docLink.innerHTML = docLinkHtml;\n",
              "          element.appendChild(docLink);\n",
              "        }\n",
              "      </script>\n",
              "    </div>\n",
              "  </div>\n",
              "  "
            ],
            "text/plain": [
              "                               Sale  ...  time_delay_for_conversion\n",
              "Sale                       1.000000  ...                   0.451897\n",
              "click_second               0.029373  ...                   0.010424\n",
              "nb_clicks_1week           -0.043810  ...                  -0.023884\n",
              "product_price              0.418493  ...                   0.180574\n",
              "SalesAmountInEuro          0.257800  ...                   0.154534\n",
              "time_delay_for_conversion  0.451897  ...                   1.000000\n",
              "\n",
              "[6 rows x 6 columns]"
            ]
          },
          "execution_count": 83,
          "metadata": {},
          "output_type": "execute_result"
        }
      ],
      "source": [
        "data[[target] + numerical_cols].corr()"
      ]
    },
    {
      "cell_type": "markdown",
      "metadata": {
        "id": "qCdMzAXMOFvj"
      },
      "source": [
        "Three of columns seem suspicious. _'SalesAmountInEuro'_, _'time_delay_for_conversion'_ and _'product_price'_ have relatively high value of correlation with _'Sale'_ and seem to have valid values whenever _'Sale'_ is one and vice versa. So we'd better examine them more closely and decide wether we should retain them or not. If our doubt is right, we should delete those columns and train our model on other columns. Otherwise, our model would be trained only on these columns and most probably do very terribly on test set."
      ]
    },
    {
      "cell_type": "code",
      "execution_count": 84,
      "metadata": {
        "id": "FF25IJYZOFvk"
      },
      "outputs": [],
      "source": [
        "# we'll use this function for evaluation of metrics: accuracy, precision, recall, and f1 of our models in the future\n",
        "def print_metrics_evaluation(true_y, pred_y, model_name=None):\n",
        "    if model_name is not None:\n",
        "        print(f'{model_name}:')\n",
        "    print(\n",
        "f'''accuracy_score = {accuracy_score(true_y, pred_y)}\n",
        "precision_score = {precision_score(true_y, pred_y)}\n",
        "recall_score = {recall_score(true_y, pred_y)}\n",
        "f1_score = {f1_score(true_y, pred_y)}\n",
        "''')"
      ]
    },
    {
      "cell_type": "markdown",
      "metadata": {
        "id": "t00Uc3Jfrms1"
      },
      "source": [
        "We'll test our idea about these columns by predicting _'Sale'_ only based on these columns having valid values and print result metrics:"
      ]
    },
    {
      "cell_type": "code",
      "execution_count": 85,
      "metadata": {
        "colab": {
          "base_uri": "https://localhost:8080/"
        },
        "id": "IigKJ8xqigVZ",
        "outputId": "0d842156-0209-4e56-d4a6-2419d36a677f"
      },
      "outputs": [
        {
          "name": "stdout",
          "output_type": "stream",
          "text": [
            "SalesAmountInEuro:\n",
            "accuracy_score = 1.0\n",
            "precision_score = 1.0\n",
            "recall_score = 1.0\n",
            "f1_score = 1.0\n",
            "\n",
            "time_delay_for_conversion:\n",
            "accuracy_score = 0.99945\n",
            "precision_score = 1.0\n",
            "recall_score = 0.9959890610756609\n",
            "f1_score = 0.9979905005480454\n",
            "\n",
            "product_price:\n",
            "accuracy_score = 0.9912625\n",
            "precision_score = 0.9362807657247038\n",
            "recall_score = 1.0\n",
            "f1_score = 0.9670919448236901\n",
            "\n"
          ]
        }
      ],
      "source": [
        "SalesAmountInEuro_predict = data['SalesAmountInEuro'] != -1\n",
        "time_delay_for_conversion_predict = data['time_delay_for_conversion'] != -1\n",
        "product_price_predict = data['product_price'] > 0\n",
        "print_metrics_evaluation(data['Sale'], SalesAmountInEuro_predict, 'SalesAmountInEuro')\n",
        "print_metrics_evaluation(data['Sale'], time_delay_for_conversion_predict, 'time_delay_for_conversion')\n",
        "print_metrics_evaluation(product_price_predict, data['Sale'], 'product_price')"
      ]
    },
    {
      "cell_type": "markdown",
      "metadata": {
        "id": "nNE4up8pOFvk"
      },
      "source": [
        "So for sure, we must drop those columns. They are almost equivalent to label (Sale) and we can't use them in training or our model will solely consider these columns:"
      ]
    },
    {
      "cell_type": "code",
      "execution_count": 86,
      "metadata": {
        "id": "y9SbxzAvLikB"
      },
      "outputs": [],
      "source": [
        "# dropping named columns from dataframe and numerical columns:\n",
        "dropping_columns = ['SalesAmountInEuro', 'time_delay_for_conversion', 'product_price']\n",
        "data = data.drop(columns=dropping_columns, errors='ignore')\n",
        "\n",
        "# for more convinece, we define a function for removing values from a list:\n",
        "def remove_from_list(lst, value):\n",
        "    value = value if isinstance(value, list) else [value]\n",
        "    return list(set(lst).difference(value))\n",
        "\n",
        "numerical_cols = remove_from_list(numerical_cols, dropping_columns)"
      ]
    },
    {
      "cell_type": "markdown",
      "metadata": {
        "id": "XbWYIeMsigVi"
      },
      "source": [
        "Describing numerical columns:"
      ]
    },
    {
      "cell_type": "code",
      "execution_count": 87,
      "metadata": {
        "colab": {
          "base_uri": "https://localhost:8080/",
          "height": 112
        },
        "id": "qdZTrwB9igVi",
        "outputId": "13689eb8-2823-4091-a5a5-5be790023322"
      },
      "outputs": [
        {
          "data": {
            "text/html": [
              "\n",
              "  <div id=\"df-62acc266-d75e-486c-95ac-3acf23904f34\">\n",
              "    <div class=\"colab-df-container\">\n",
              "      <div>\n",
              "<style scoped>\n",
              "    .dataframe tbody tr th:only-of-type {\n",
              "        vertical-align: middle;\n",
              "    }\n",
              "\n",
              "    .dataframe tbody tr th {\n",
              "        vertical-align: top;\n",
              "    }\n",
              "\n",
              "    .dataframe thead th {\n",
              "        text-align: right;\n",
              "    }\n",
              "</style>\n",
              "<table border=\"1\" class=\"dataframe\">\n",
              "  <thead>\n",
              "    <tr style=\"text-align: right;\">\n",
              "      <th></th>\n",
              "      <th>count</th>\n",
              "      <th>mean</th>\n",
              "      <th>std</th>\n",
              "      <th>min</th>\n",
              "      <th>25%</th>\n",
              "      <th>50%</th>\n",
              "      <th>75%</th>\n",
              "      <th>max</th>\n",
              "    </tr>\n",
              "  </thead>\n",
              "  <tbody>\n",
              "    <tr>\n",
              "      <th>click_second</th>\n",
              "      <td>80000.0</td>\n",
              "      <td>44581.484987</td>\n",
              "      <td>25528.284859</td>\n",
              "      <td>0.0</td>\n",
              "      <td>21294.0</td>\n",
              "      <td>47163.5</td>\n",
              "      <td>66798.25</td>\n",
              "      <td>86399.0</td>\n",
              "    </tr>\n",
              "    <tr>\n",
              "      <th>nb_clicks_1week</th>\n",
              "      <td>80000.0</td>\n",
              "      <td>239.283500</td>\n",
              "      <td>1162.385457</td>\n",
              "      <td>-1.0</td>\n",
              "      <td>-1.0</td>\n",
              "      <td>0.0</td>\n",
              "      <td>49.00</td>\n",
              "      <td>25390.0</td>\n",
              "    </tr>\n",
              "  </tbody>\n",
              "</table>\n",
              "</div>\n",
              "      <button class=\"colab-df-convert\" onclick=\"convertToInteractive('df-62acc266-d75e-486c-95ac-3acf23904f34')\"\n",
              "              title=\"Convert this dataframe to an interactive table.\"\n",
              "              style=\"display:none;\">\n",
              "        \n",
              "  <svg xmlns=\"http://www.w3.org/2000/svg\" height=\"24px\"viewBox=\"0 0 24 24\"\n",
              "       width=\"24px\">\n",
              "    <path d=\"M0 0h24v24H0V0z\" fill=\"none\"/>\n",
              "    <path d=\"M18.56 5.44l.94 2.06.94-2.06 2.06-.94-2.06-.94-.94-2.06-.94 2.06-2.06.94zm-11 1L8.5 8.5l.94-2.06 2.06-.94-2.06-.94L8.5 2.5l-.94 2.06-2.06.94zm10 10l.94 2.06.94-2.06 2.06-.94-2.06-.94-.94-2.06-.94 2.06-2.06.94z\"/><path d=\"M17.41 7.96l-1.37-1.37c-.4-.4-.92-.59-1.43-.59-.52 0-1.04.2-1.43.59L10.3 9.45l-7.72 7.72c-.78.78-.78 2.05 0 2.83L4 21.41c.39.39.9.59 1.41.59.51 0 1.02-.2 1.41-.59l7.78-7.78 2.81-2.81c.8-.78.8-2.07 0-2.86zM5.41 20L4 18.59l7.72-7.72 1.47 1.35L5.41 20z\"/>\n",
              "  </svg>\n",
              "      </button>\n",
              "      \n",
              "  <style>\n",
              "    .colab-df-container {\n",
              "      display:flex;\n",
              "      flex-wrap:wrap;\n",
              "      gap: 12px;\n",
              "    }\n",
              "\n",
              "    .colab-df-convert {\n",
              "      background-color: #E8F0FE;\n",
              "      border: none;\n",
              "      border-radius: 50%;\n",
              "      cursor: pointer;\n",
              "      display: none;\n",
              "      fill: #1967D2;\n",
              "      height: 32px;\n",
              "      padding: 0 0 0 0;\n",
              "      width: 32px;\n",
              "    }\n",
              "\n",
              "    .colab-df-convert:hover {\n",
              "      background-color: #E2EBFA;\n",
              "      box-shadow: 0px 1px 2px rgba(60, 64, 67, 0.3), 0px 1px 3px 1px rgba(60, 64, 67, 0.15);\n",
              "      fill: #174EA6;\n",
              "    }\n",
              "\n",
              "    [theme=dark] .colab-df-convert {\n",
              "      background-color: #3B4455;\n",
              "      fill: #D2E3FC;\n",
              "    }\n",
              "\n",
              "    [theme=dark] .colab-df-convert:hover {\n",
              "      background-color: #434B5C;\n",
              "      box-shadow: 0px 1px 3px 1px rgba(0, 0, 0, 0.15);\n",
              "      filter: drop-shadow(0px 1px 2px rgba(0, 0, 0, 0.3));\n",
              "      fill: #FFFFFF;\n",
              "    }\n",
              "  </style>\n",
              "\n",
              "      <script>\n",
              "        const buttonEl =\n",
              "          document.querySelector('#df-62acc266-d75e-486c-95ac-3acf23904f34 button.colab-df-convert');\n",
              "        buttonEl.style.display =\n",
              "          google.colab.kernel.accessAllowed ? 'block' : 'none';\n",
              "\n",
              "        async function convertToInteractive(key) {\n",
              "          const element = document.querySelector('#df-62acc266-d75e-486c-95ac-3acf23904f34');\n",
              "          const dataTable =\n",
              "            await google.colab.kernel.invokeFunction('convertToInteractive',\n",
              "                                                     [key], {});\n",
              "          if (!dataTable) return;\n",
              "\n",
              "          const docLinkHtml = 'Like what you see? Visit the ' +\n",
              "            '<a target=\"_blank\" href=https://colab.research.google.com/notebooks/data_table.ipynb>data table notebook</a>'\n",
              "            + ' to learn more about interactive tables.';\n",
              "          element.innerHTML = '';\n",
              "          dataTable['output_type'] = 'display_data';\n",
              "          await google.colab.output.renderOutput(dataTable, element);\n",
              "          const docLink = document.createElement('div');\n",
              "          docLink.innerHTML = docLinkHtml;\n",
              "          element.appendChild(docLink);\n",
              "        }\n",
              "      </script>\n",
              "    </div>\n",
              "  </div>\n",
              "  "
            ],
            "text/plain": [
              "                   count          mean  ...       75%      max\n",
              "click_second     80000.0  44581.484987  ...  66798.25  86399.0\n",
              "nb_clicks_1week  80000.0    239.283500  ...     49.00  25390.0\n",
              "\n",
              "[2 rows x 8 columns]"
            ]
          },
          "execution_count": 87,
          "metadata": {},
          "output_type": "execute_result"
        }
      ],
      "source": [
        "data[numerical_cols].describe().T"
      ]
    },
    {
      "cell_type": "markdown",
      "metadata": {
        "id": "D38XH9s7igVj"
      },
      "source": [
        "As we can see the difference between 75% and max in _'nb_clicks_1week'_ is too much and it suggests that there must exist some outlier records in this column. But values in _'click_second'_ seem appropriately distributed."
      ]
    },
    {
      "cell_type": "markdown",
      "metadata": {
        "id": "aunyK9Cirms5"
      },
      "source": [
        "Printing number of unique value in each column:  \n",
        "These values will help us later with converting categorical values to their equivalent label (used for converting data to one hot) and deciding how many unique values to retain for each column."
      ]
    },
    {
      "cell_type": "code",
      "execution_count": 88,
      "metadata": {
        "colab": {
          "base_uri": "https://localhost:8080/"
        },
        "id": "BQa6TP29igVj",
        "outputId": "e44816dc-7853-47e7-ea4a-2871e3dea15b"
      },
      "outputs": [
        {
          "data": {
            "text/plain": [
              "product_country           17\n",
              "product_category(5)      422\n",
              "product_category(4)      877\n",
              "user_id                77897\n",
              "partner_id               183\n",
              "product_category(6)       84\n",
              "product_category(1)       22\n",
              "product_title          23593\n",
              "product_category(7)        1\n",
              "audience_id             2887\n",
              "product_gender            11\n",
              "product_id             38183\n",
              "product_brand           4347\n",
              "product_category(2)      143\n",
              "product_age_group          9\n",
              "product_category(3)      677\n",
              "device_type                4\n",
              "dtype: int64"
            ]
          },
          "execution_count": 88,
          "metadata": {},
          "output_type": "execute_result"
        }
      ],
      "source": [
        "data[categorical_cols].nunique(axis=0)"
      ]
    },
    {
      "cell_type": "markdown",
      "metadata": {
        "id": "y3ToKHwOigVk"
      },
      "source": [
        "As we can see, product_category(7) contains only one value, -1. It means non of our records have product_category(7) and we can drop it."
      ]
    },
    {
      "cell_type": "code",
      "execution_count": 89,
      "metadata": {
        "id": "reQoFXkErms7"
      },
      "outputs": [],
      "source": [
        "dropping_columns += ['product_category(7)']\n",
        "data.drop(columns=dropping_columns, errors='ignore', inplace=True)\n",
        "categorical_cols = remove_from_list(categorical_cols, dropping_columns)"
      ]
    },
    {
      "cell_type": "markdown",
      "metadata": {
        "id": "Ut9DeD6oigVl"
      },
      "source": [
        "Describing categorical columns:"
      ]
    },
    {
      "cell_type": "code",
      "execution_count": 90,
      "metadata": {
        "colab": {
          "base_uri": "https://localhost:8080/",
          "height": 551
        },
        "id": "T2zIAc-yigVm",
        "outputId": "dc238890-4e49-43b9-b938-dfa8480e0e43"
      },
      "outputs": [
        {
          "data": {
            "text/html": [
              "\n",
              "  <div id=\"df-038b3589-1ef6-4728-b899-f769197dd63f\">\n",
              "    <div class=\"colab-df-container\">\n",
              "      <div>\n",
              "<style scoped>\n",
              "    .dataframe tbody tr th:only-of-type {\n",
              "        vertical-align: middle;\n",
              "    }\n",
              "\n",
              "    .dataframe tbody tr th {\n",
              "        vertical-align: top;\n",
              "    }\n",
              "\n",
              "    .dataframe thead th {\n",
              "        text-align: right;\n",
              "    }\n",
              "</style>\n",
              "<table border=\"1\" class=\"dataframe\">\n",
              "  <thead>\n",
              "    <tr style=\"text-align: right;\">\n",
              "      <th></th>\n",
              "      <th>count</th>\n",
              "      <th>unique</th>\n",
              "      <th>top</th>\n",
              "      <th>freq</th>\n",
              "    </tr>\n",
              "  </thead>\n",
              "  <tbody>\n",
              "    <tr>\n",
              "      <th>product_country</th>\n",
              "      <td>80000</td>\n",
              "      <td>17</td>\n",
              "      <td>57A1D462A03BD076E029CF9310C11FC5</td>\n",
              "      <td>30442</td>\n",
              "    </tr>\n",
              "    <tr>\n",
              "      <th>product_category(5)</th>\n",
              "      <td>80000</td>\n",
              "      <td>422</td>\n",
              "      <td>-1</td>\n",
              "      <td>73565</td>\n",
              "    </tr>\n",
              "    <tr>\n",
              "      <th>product_category(4)</th>\n",
              "      <td>80000</td>\n",
              "      <td>877</td>\n",
              "      <td>-1</td>\n",
              "      <td>56874</td>\n",
              "    </tr>\n",
              "    <tr>\n",
              "      <th>user_id</th>\n",
              "      <td>80000</td>\n",
              "      <td>77897</td>\n",
              "      <td>953CC020FA7459BC16D81E311EDF271E</td>\n",
              "      <td>35</td>\n",
              "    </tr>\n",
              "    <tr>\n",
              "      <th>partner_id</th>\n",
              "      <td>80000</td>\n",
              "      <td>183</td>\n",
              "      <td>E3DDEB04F8AFF944B11943BB57D2F620</td>\n",
              "      <td>24851</td>\n",
              "    </tr>\n",
              "    <tr>\n",
              "      <th>product_category(6)</th>\n",
              "      <td>80000</td>\n",
              "      <td>84</td>\n",
              "      <td>-1</td>\n",
              "      <td>79076</td>\n",
              "    </tr>\n",
              "    <tr>\n",
              "      <th>product_category(1)</th>\n",
              "      <td>80000</td>\n",
              "      <td>22</td>\n",
              "      <td>-1</td>\n",
              "      <td>36392</td>\n",
              "    </tr>\n",
              "    <tr>\n",
              "      <th>product_title</th>\n",
              "      <td>79791</td>\n",
              "      <td>23593</td>\n",
              "      <td>-1</td>\n",
              "      <td>36392</td>\n",
              "    </tr>\n",
              "    <tr>\n",
              "      <th>audience_id</th>\n",
              "      <td>80000</td>\n",
              "      <td>2887</td>\n",
              "      <td>-1</td>\n",
              "      <td>57535</td>\n",
              "    </tr>\n",
              "    <tr>\n",
              "      <th>product_gender</th>\n",
              "      <td>80000</td>\n",
              "      <td>11</td>\n",
              "      <td>-1</td>\n",
              "      <td>60418</td>\n",
              "    </tr>\n",
              "    <tr>\n",
              "      <th>product_id</th>\n",
              "      <td>80000</td>\n",
              "      <td>38183</td>\n",
              "      <td>-1</td>\n",
              "      <td>18993</td>\n",
              "    </tr>\n",
              "    <tr>\n",
              "      <th>product_brand</th>\n",
              "      <td>80000</td>\n",
              "      <td>4347</td>\n",
              "      <td>-1</td>\n",
              "      <td>52657</td>\n",
              "    </tr>\n",
              "    <tr>\n",
              "      <th>product_category(2)</th>\n",
              "      <td>80000</td>\n",
              "      <td>143</td>\n",
              "      <td>-1</td>\n",
              "      <td>36404</td>\n",
              "    </tr>\n",
              "    <tr>\n",
              "      <th>product_age_group</th>\n",
              "      <td>80000</td>\n",
              "      <td>9</td>\n",
              "      <td>-1</td>\n",
              "      <td>60465</td>\n",
              "    </tr>\n",
              "    <tr>\n",
              "      <th>product_category(3)</th>\n",
              "      <td>80000</td>\n",
              "      <td>677</td>\n",
              "      <td>-1</td>\n",
              "      <td>41844</td>\n",
              "    </tr>\n",
              "    <tr>\n",
              "      <th>device_type</th>\n",
              "      <td>80000</td>\n",
              "      <td>4</td>\n",
              "      <td>7E56C27BFF0305E788DA55A029EC4988</td>\n",
              "      <td>41992</td>\n",
              "    </tr>\n",
              "  </tbody>\n",
              "</table>\n",
              "</div>\n",
              "      <button class=\"colab-df-convert\" onclick=\"convertToInteractive('df-038b3589-1ef6-4728-b899-f769197dd63f')\"\n",
              "              title=\"Convert this dataframe to an interactive table.\"\n",
              "              style=\"display:none;\">\n",
              "        \n",
              "  <svg xmlns=\"http://www.w3.org/2000/svg\" height=\"24px\"viewBox=\"0 0 24 24\"\n",
              "       width=\"24px\">\n",
              "    <path d=\"M0 0h24v24H0V0z\" fill=\"none\"/>\n",
              "    <path d=\"M18.56 5.44l.94 2.06.94-2.06 2.06-.94-2.06-.94-.94-2.06-.94 2.06-2.06.94zm-11 1L8.5 8.5l.94-2.06 2.06-.94-2.06-.94L8.5 2.5l-.94 2.06-2.06.94zm10 10l.94 2.06.94-2.06 2.06-.94-2.06-.94-.94-2.06-.94 2.06-2.06.94z\"/><path d=\"M17.41 7.96l-1.37-1.37c-.4-.4-.92-.59-1.43-.59-.52 0-1.04.2-1.43.59L10.3 9.45l-7.72 7.72c-.78.78-.78 2.05 0 2.83L4 21.41c.39.39.9.59 1.41.59.51 0 1.02-.2 1.41-.59l7.78-7.78 2.81-2.81c.8-.78.8-2.07 0-2.86zM5.41 20L4 18.59l7.72-7.72 1.47 1.35L5.41 20z\"/>\n",
              "  </svg>\n",
              "      </button>\n",
              "      \n",
              "  <style>\n",
              "    .colab-df-container {\n",
              "      display:flex;\n",
              "      flex-wrap:wrap;\n",
              "      gap: 12px;\n",
              "    }\n",
              "\n",
              "    .colab-df-convert {\n",
              "      background-color: #E8F0FE;\n",
              "      border: none;\n",
              "      border-radius: 50%;\n",
              "      cursor: pointer;\n",
              "      display: none;\n",
              "      fill: #1967D2;\n",
              "      height: 32px;\n",
              "      padding: 0 0 0 0;\n",
              "      width: 32px;\n",
              "    }\n",
              "\n",
              "    .colab-df-convert:hover {\n",
              "      background-color: #E2EBFA;\n",
              "      box-shadow: 0px 1px 2px rgba(60, 64, 67, 0.3), 0px 1px 3px 1px rgba(60, 64, 67, 0.15);\n",
              "      fill: #174EA6;\n",
              "    }\n",
              "\n",
              "    [theme=dark] .colab-df-convert {\n",
              "      background-color: #3B4455;\n",
              "      fill: #D2E3FC;\n",
              "    }\n",
              "\n",
              "    [theme=dark] .colab-df-convert:hover {\n",
              "      background-color: #434B5C;\n",
              "      box-shadow: 0px 1px 3px 1px rgba(0, 0, 0, 0.15);\n",
              "      filter: drop-shadow(0px 1px 2px rgba(0, 0, 0, 0.3));\n",
              "      fill: #FFFFFF;\n",
              "    }\n",
              "  </style>\n",
              "\n",
              "      <script>\n",
              "        const buttonEl =\n",
              "          document.querySelector('#df-038b3589-1ef6-4728-b899-f769197dd63f button.colab-df-convert');\n",
              "        buttonEl.style.display =\n",
              "          google.colab.kernel.accessAllowed ? 'block' : 'none';\n",
              "\n",
              "        async function convertToInteractive(key) {\n",
              "          const element = document.querySelector('#df-038b3589-1ef6-4728-b899-f769197dd63f');\n",
              "          const dataTable =\n",
              "            await google.colab.kernel.invokeFunction('convertToInteractive',\n",
              "                                                     [key], {});\n",
              "          if (!dataTable) return;\n",
              "\n",
              "          const docLinkHtml = 'Like what you see? Visit the ' +\n",
              "            '<a target=\"_blank\" href=https://colab.research.google.com/notebooks/data_table.ipynb>data table notebook</a>'\n",
              "            + ' to learn more about interactive tables.';\n",
              "          element.innerHTML = '';\n",
              "          dataTable['output_type'] = 'display_data';\n",
              "          await google.colab.output.renderOutput(dataTable, element);\n",
              "          const docLink = document.createElement('div');\n",
              "          docLink.innerHTML = docLinkHtml;\n",
              "          element.appendChild(docLink);\n",
              "        }\n",
              "      </script>\n",
              "    </div>\n",
              "  </div>\n",
              "  "
            ],
            "text/plain": [
              "                     count unique                               top   freq\n",
              "product_country      80000     17  57A1D462A03BD076E029CF9310C11FC5  30442\n",
              "product_category(5)  80000    422                                -1  73565\n",
              "product_category(4)  80000    877                                -1  56874\n",
              "user_id              80000  77897  953CC020FA7459BC16D81E311EDF271E     35\n",
              "partner_id           80000    183  E3DDEB04F8AFF944B11943BB57D2F620  24851\n",
              "product_category(6)  80000     84                                -1  79076\n",
              "product_category(1)  80000     22                                -1  36392\n",
              "product_title        79791  23593                                -1  36392\n",
              "audience_id          80000   2887                                -1  57535\n",
              "product_gender       80000     11                                -1  60418\n",
              "product_id           80000  38183                                -1  18993\n",
              "product_brand        80000   4347                                -1  52657\n",
              "product_category(2)  80000    143                                -1  36404\n",
              "product_age_group    80000      9                                -1  60465\n",
              "product_category(3)  80000    677                                -1  41844\n",
              "device_type          80000      4  7E56C27BFF0305E788DA55A029EC4988  41992"
            ]
          },
          "execution_count": 90,
          "metadata": {},
          "output_type": "execute_result"
        }
      ],
      "source": [
        "data[categorical_cols].describe().T"
      ]
    },
    {
      "cell_type": "markdown",
      "metadata": {
        "id": "IgSAXaGjigVn"
      },
      "source": [
        "Note that _'product_title'_ has nan values.  \n",
        "We replace its nans with '-1' (it may seem strange but you'll know the reason when we decide our policy about missing values) and replace -1 in numerical values with nan:"
      ]
    },
    {
      "cell_type": "code",
      "execution_count": 91,
      "metadata": {
        "colab": {
          "base_uri": "https://localhost:8080/",
          "height": 322
        },
        "id": "HHoYzJVtigVn",
        "outputId": "5d6d6a5f-2062-407b-8e10-6c159cc7d420"
      },
      "outputs": [
        {
          "data": {
            "text/html": [
              "\n",
              "  <div id=\"df-145cbfa2-13ee-4dad-a5c0-951dddf7c4e2\">\n",
              "    <div class=\"colab-df-container\">\n",
              "      <div>\n",
              "<style scoped>\n",
              "    .dataframe tbody tr th:only-of-type {\n",
              "        vertical-align: middle;\n",
              "    }\n",
              "\n",
              "    .dataframe tbody tr th {\n",
              "        vertical-align: top;\n",
              "    }\n",
              "\n",
              "    .dataframe thead th {\n",
              "        text-align: right;\n",
              "    }\n",
              "</style>\n",
              "<table border=\"1\" class=\"dataframe\">\n",
              "  <thead>\n",
              "    <tr style=\"text-align: right;\">\n",
              "      <th></th>\n",
              "      <th>Sale</th>\n",
              "      <th>nb_clicks_1week</th>\n",
              "      <th>product_age_group</th>\n",
              "      <th>device_type</th>\n",
              "      <th>audience_id</th>\n",
              "      <th>product_gender</th>\n",
              "      <th>product_brand</th>\n",
              "      <th>product_category(1)</th>\n",
              "      <th>product_category(2)</th>\n",
              "      <th>product_category(3)</th>\n",
              "      <th>product_category(4)</th>\n",
              "      <th>product_category(5)</th>\n",
              "      <th>product_category(6)</th>\n",
              "      <th>product_country</th>\n",
              "      <th>product_id</th>\n",
              "      <th>product_title</th>\n",
              "      <th>partner_id</th>\n",
              "      <th>user_id</th>\n",
              "      <th>click_second</th>\n",
              "    </tr>\n",
              "  </thead>\n",
              "  <tbody>\n",
              "    <tr>\n",
              "      <th>96611</th>\n",
              "      <td>0</td>\n",
              "      <td>NaN</td>\n",
              "      <td>-1</td>\n",
              "      <td>D7D1FB49049702BF6338894757E0D959</td>\n",
              "      <td>-1</td>\n",
              "      <td>-1</td>\n",
              "      <td>-1</td>\n",
              "      <td>-1</td>\n",
              "      <td>-1</td>\n",
              "      <td>-1</td>\n",
              "      <td>-1</td>\n",
              "      <td>-1</td>\n",
              "      <td>-1</td>\n",
              "      <td>57A1D462A03BD076E029CF9310C11FC5</td>\n",
              "      <td>131E5010A476C9744E2075CB1CC17E0E</td>\n",
              "      <td>-1</td>\n",
              "      <td>AEA3CF80A8E52184841528BC5251A71A</td>\n",
              "      <td>BFF48FC0B6D9E62551E7BED5340E7916</td>\n",
              "      <td>69877</td>\n",
              "    </tr>\n",
              "    <tr>\n",
              "      <th>13194</th>\n",
              "      <td>0</td>\n",
              "      <td>66.0</td>\n",
              "      <td>4C90FD52FC53D2C1C205844CB69575AB</td>\n",
              "      <td>D7D1FB49049702BF6338894757E0D959</td>\n",
              "      <td>-1</td>\n",
              "      <td>C45A9AC6D102ACAEEDF0D6F78636D84A</td>\n",
              "      <td>EFB1122EAF034D2671AE815ACFFC7B9E</td>\n",
              "      <td>033E492229C2222EFAA16EE8A6462D8B</td>\n",
              "      <td>CD599E5A946D00A81A875E085F7EF1E8</td>\n",
              "      <td>-1</td>\n",
              "      <td>-1</td>\n",
              "      <td>-1</td>\n",
              "      <td>-1</td>\n",
              "      <td>F0C08A161AA0404193A7EF78F5C3E06C</td>\n",
              "      <td>7C39A3A4434334AF4540E7396F160D31</td>\n",
              "      <td>1EB4F37DC106620AC6499E7D10F0E690 9C2363F33DC9E...</td>\n",
              "      <td>CC14152DD0806823ED88BA55D9A5240B</td>\n",
              "      <td>C50D6F63D0812026E9D55119DD7F2271</td>\n",
              "      <td>36634</td>\n",
              "    </tr>\n",
              "    <tr>\n",
              "      <th>58902</th>\n",
              "      <td>0</td>\n",
              "      <td>409.0</td>\n",
              "      <td>-1</td>\n",
              "      <td>FF2C446555E3822B0E0FC3406116E86D</td>\n",
              "      <td>-1</td>\n",
              "      <td>-1</td>\n",
              "      <td>0D989962AF75DFF7D579B2FFB9CCCA71</td>\n",
              "      <td>7532B3FBAFEC164460C4ED6FEB0C022C</td>\n",
              "      <td>FE4A86571601A1EF619CDB48BCD7F9A3</td>\n",
              "      <td>58D6D0E7760308F75E5FA67E03740C1E</td>\n",
              "      <td>-1</td>\n",
              "      <td>-1</td>\n",
              "      <td>-1</td>\n",
              "      <td>57A1D462A03BD076E029CF9310C11FC5</td>\n",
              "      <td>6A0163065042DD153BE4987DC6B0BAA1</td>\n",
              "      <td>E81B4B9ABD03B8D1FDE7478A40367F9D AF24F32608196...</td>\n",
              "      <td>8B573DDAF7E0C5B6BE6195E737251064</td>\n",
              "      <td>5D2DFA90296912C702A386D1D1D74C75</td>\n",
              "      <td>72660</td>\n",
              "    </tr>\n",
              "    <tr>\n",
              "      <th>75063</th>\n",
              "      <td>0</td>\n",
              "      <td>166.0</td>\n",
              "      <td>-1</td>\n",
              "      <td>7E56C27BFF0305E788DA55A029EC4988</td>\n",
              "      <td>4C8E310D7152DE70B060550D00CF9BD2</td>\n",
              "      <td>-1</td>\n",
              "      <td>B11F83250E97B9AE77366F23AD8D8567</td>\n",
              "      <td>7F286560861764CCB93C90B7AA833949</td>\n",
              "      <td>891EE660A73D9A6E1F4BD6149E613C44</td>\n",
              "      <td>0279CBF3081FFB710CE52B9E0BA4AABF</td>\n",
              "      <td>35A13FB2AB63E920B7D71C5957131606</td>\n",
              "      <td>-1</td>\n",
              "      <td>-1</td>\n",
              "      <td>989EEF92F2A525DD896557425EA7C4C7</td>\n",
              "      <td>1E458ADEFF2968AE82C51FEC92601259</td>\n",
              "      <td>616ECCB228546AE965263A89C50B77B3 B44908651DC5F...</td>\n",
              "      <td>6BFFDE668C5BC3938C875D3D0940E699</td>\n",
              "      <td>8F6415061DDB822A21F5B8B95C4BB361</td>\n",
              "      <td>27275</td>\n",
              "    </tr>\n",
              "    <tr>\n",
              "      <th>37502</th>\n",
              "      <td>0</td>\n",
              "      <td>NaN</td>\n",
              "      <td>-1</td>\n",
              "      <td>D7D1FB49049702BF6338894757E0D959</td>\n",
              "      <td>-1</td>\n",
              "      <td>-1</td>\n",
              "      <td>-1</td>\n",
              "      <td>-1</td>\n",
              "      <td>-1</td>\n",
              "      <td>-1</td>\n",
              "      <td>-1</td>\n",
              "      <td>-1</td>\n",
              "      <td>-1</td>\n",
              "      <td>-1</td>\n",
              "      <td>-1</td>\n",
              "      <td>-1</td>\n",
              "      <td>6CA1C3B2EF2011BCF281AA085370D386</td>\n",
              "      <td>7C7B76C0860076123E01C0D13F9D51B7</td>\n",
              "      <td>27625</td>\n",
              "    </tr>\n",
              "  </tbody>\n",
              "</table>\n",
              "</div>\n",
              "      <button class=\"colab-df-convert\" onclick=\"convertToInteractive('df-145cbfa2-13ee-4dad-a5c0-951dddf7c4e2')\"\n",
              "              title=\"Convert this dataframe to an interactive table.\"\n",
              "              style=\"display:none;\">\n",
              "        \n",
              "  <svg xmlns=\"http://www.w3.org/2000/svg\" height=\"24px\"viewBox=\"0 0 24 24\"\n",
              "       width=\"24px\">\n",
              "    <path d=\"M0 0h24v24H0V0z\" fill=\"none\"/>\n",
              "    <path d=\"M18.56 5.44l.94 2.06.94-2.06 2.06-.94-2.06-.94-.94-2.06-.94 2.06-2.06.94zm-11 1L8.5 8.5l.94-2.06 2.06-.94-2.06-.94L8.5 2.5l-.94 2.06-2.06.94zm10 10l.94 2.06.94-2.06 2.06-.94-2.06-.94-.94-2.06-.94 2.06-2.06.94z\"/><path d=\"M17.41 7.96l-1.37-1.37c-.4-.4-.92-.59-1.43-.59-.52 0-1.04.2-1.43.59L10.3 9.45l-7.72 7.72c-.78.78-.78 2.05 0 2.83L4 21.41c.39.39.9.59 1.41.59.51 0 1.02-.2 1.41-.59l7.78-7.78 2.81-2.81c.8-.78.8-2.07 0-2.86zM5.41 20L4 18.59l7.72-7.72 1.47 1.35L5.41 20z\"/>\n",
              "  </svg>\n",
              "      </button>\n",
              "      \n",
              "  <style>\n",
              "    .colab-df-container {\n",
              "      display:flex;\n",
              "      flex-wrap:wrap;\n",
              "      gap: 12px;\n",
              "    }\n",
              "\n",
              "    .colab-df-convert {\n",
              "      background-color: #E8F0FE;\n",
              "      border: none;\n",
              "      border-radius: 50%;\n",
              "      cursor: pointer;\n",
              "      display: none;\n",
              "      fill: #1967D2;\n",
              "      height: 32px;\n",
              "      padding: 0 0 0 0;\n",
              "      width: 32px;\n",
              "    }\n",
              "\n",
              "    .colab-df-convert:hover {\n",
              "      background-color: #E2EBFA;\n",
              "      box-shadow: 0px 1px 2px rgba(60, 64, 67, 0.3), 0px 1px 3px 1px rgba(60, 64, 67, 0.15);\n",
              "      fill: #174EA6;\n",
              "    }\n",
              "\n",
              "    [theme=dark] .colab-df-convert {\n",
              "      background-color: #3B4455;\n",
              "      fill: #D2E3FC;\n",
              "    }\n",
              "\n",
              "    [theme=dark] .colab-df-convert:hover {\n",
              "      background-color: #434B5C;\n",
              "      box-shadow: 0px 1px 3px 1px rgba(0, 0, 0, 0.15);\n",
              "      filter: drop-shadow(0px 1px 2px rgba(0, 0, 0, 0.3));\n",
              "      fill: #FFFFFF;\n",
              "    }\n",
              "  </style>\n",
              "\n",
              "      <script>\n",
              "        const buttonEl =\n",
              "          document.querySelector('#df-145cbfa2-13ee-4dad-a5c0-951dddf7c4e2 button.colab-df-convert');\n",
              "        buttonEl.style.display =\n",
              "          google.colab.kernel.accessAllowed ? 'block' : 'none';\n",
              "\n",
              "        async function convertToInteractive(key) {\n",
              "          const element = document.querySelector('#df-145cbfa2-13ee-4dad-a5c0-951dddf7c4e2');\n",
              "          const dataTable =\n",
              "            await google.colab.kernel.invokeFunction('convertToInteractive',\n",
              "                                                     [key], {});\n",
              "          if (!dataTable) return;\n",
              "\n",
              "          const docLinkHtml = 'Like what you see? Visit the ' +\n",
              "            '<a target=\"_blank\" href=https://colab.research.google.com/notebooks/data_table.ipynb>data table notebook</a>'\n",
              "            + ' to learn more about interactive tables.';\n",
              "          element.innerHTML = '';\n",
              "          dataTable['output_type'] = 'display_data';\n",
              "          await google.colab.output.renderOutput(dataTable, element);\n",
              "          const docLink = document.createElement('div');\n",
              "          docLink.innerHTML = docLinkHtml;\n",
              "          element.appendChild(docLink);\n",
              "        }\n",
              "      </script>\n",
              "    </div>\n",
              "  </div>\n",
              "  "
            ],
            "text/plain": [
              "       Sale  nb_clicks_1week  ...                           user_id click_second\n",
              "96611     0              NaN  ...  BFF48FC0B6D9E62551E7BED5340E7916        69877\n",
              "13194     0             66.0  ...  C50D6F63D0812026E9D55119DD7F2271        36634\n",
              "58902     0            409.0  ...  5D2DFA90296912C702A386D1D1D74C75        72660\n",
              "75063     0            166.0  ...  8F6415061DDB822A21F5B8B95C4BB361        27275\n",
              "37502     0              NaN  ...  7C7B76C0860076123E01C0D13F9D51B7        27625\n",
              "\n",
              "[5 rows x 19 columns]"
            ]
          },
          "execution_count": 91,
          "metadata": {},
          "output_type": "execute_result"
        }
      ],
      "source": [
        "data = data.replace({'product_title': np.nan}, '-1')\n",
        "data[numerical_cols] = data[numerical_cols].replace(-1, np.nan)\n",
        "data.head()"
      ]
    },
    {
      "cell_type": "markdown",
      "metadata": {
        "id": "UTb5mj8Srms-"
      },
      "source": [
        "#### Dealing with outliers\n",
        "For dealing with missing data, we should consider different methods for numerical and categorical columns.  \n",
        "For numerical columns a simple boxplot can help alot.\n",
        "Plotting boxplot for numerical values in order to find outliers:"
      ]
    },
    {
      "cell_type": "code",
      "execution_count": 92,
      "metadata": {
        "colab": {
          "base_uri": "https://localhost:8080/",
          "height": 322
        },
        "id": "kTR2W8_3igVq",
        "outputId": "82fb142a-6a30-44e4-cb1d-5bdf7db06d40"
      },
      "outputs": [
        {
          "data": {
            "image/png": "[encoded data removed]",
            "text/plain": [
              "<Figure size 864x360 with 2 Axes>"
            ]
          },
          "metadata": {
            "needs_background": "light"
          },
          "output_type": "display_data"
        }
      ],
      "source": [
        "fig, axes = plt.subplots(1, 2, figsize=(12, 5))\n",
        "for col, ax in zip(numerical_cols, axes.flatten()):\n",
        "    ax.set_title(col)\n",
        "    sns.boxplot(data=data, y=col, ax=ax)"
      ]
    },
    {
      "cell_type": "markdown",
      "metadata": {
        "id": "HK4xWa0prms_"
      },
      "source": [
        "As said, _'click_second'_ column have almost uniform distribution and its boxplot doesn't show any outlier. Butother plot suggests a very small range for non-outlier values for _'nb_clicks_1'_ week and if we remove outliers according to it, almost all of its values will be zero and we gain no information by using these features any more. So we choose to use 10000 for its upper limits respectively."
      ]
    },
    {
      "cell_type": "code",
      "execution_count": 93,
      "metadata": {
        "id": "U65LULphigVq"
      },
      "outputs": [],
      "source": [
        "nb_click_threshold = 10000\n",
        "data.loc[(data['nb_clicks_1week'] > nb_click_threshold), 'nb_clicks_1week'] = np.nan"
      ]
    },
    {
      "cell_type": "markdown",
      "metadata": {
        "id": "tVlPSWNbrmtA"
      },
      "source": [
        "We postpone dealing with categorical data outliers until examining their missing data."
      ]
    },
    {
      "cell_type": "markdown",
      "metadata": {
        "id": "LmHx4U88rmtA"
      },
      "source": [
        "#### Dealing with missing data\n",
        "As observed, our dataset has lots of missing values and it definitely makes training our model very difficult. As you saw, there was columns like _'product_category(7)'_ which had only missing values! One usefull trick can be dropping columns and rows with too many missing values so that our model would be trained on a more valid data set and corropted rows/cells won't affect our model:   "
      ]
    },
    {
      "cell_type": "code",
      "execution_count": 94,
      "metadata": {
        "colab": {
          "base_uri": "https://localhost:8080/"
        },
        "id": "ZDPkQv_nrmtA",
        "outputId": "e2b18774-f106-488c-b7b0-af9c09cb3ae4"
      },
      "outputs": [
        {
          "name": "stdout",
          "output_type": "stream",
          "text": [
            "(80000, 19)\n",
            "(60973, 17)\n"
          ]
        }
      ],
      "source": [
        "print(data.shape)\n",
        "data_with_null = data.replace('-1', np.nan)\n",
        "col_threshold = 0.8\n",
        "#Dropping categorical columns with missing value rate higher than threshold\n",
        "dropping_columns += data_with_null.columns[data_with_null.isnull().mean() >= col_threshold].tolist()\n",
        "data.drop(columns=dropping_columns, errors='ignore', inplace=True)\n",
        "data_with_null.drop(columns=dropping_columns, errors='ignore', inplace=True)\n",
        "categorical_cols = remove_from_list(categorical_cols, dropping_columns)\n",
        "numerical_cols = remove_from_list(numerical_cols, dropping_columns)\n",
        "\n",
        "row_threshold = 0.6\n",
        "# #Dropping rows with missing value rate higher than threshold\n",
        "data = data.loc[data_with_null.isnull().mean(axis=1) < row_threshold]\n",
        "print(data.shape)"
      ]
    },
    {
      "cell_type": "markdown",
      "metadata": {
        "id": "23XIIqrgrmtB"
      },
      "source": [
        "So this process droped $2$ columns and about $\\frac{1}{4}$ of rows.  \n",
        "Examining count of not null values in each column:"
      ]
    },
    {
      "cell_type": "code",
      "execution_count": 95,
      "metadata": {
        "colab": {
          "base_uri": "https://localhost:8080/",
          "height": 600
        },
        "id": "kELcJ0yYOFvn",
        "outputId": "6cbec889-accd-4a9c-8207-e3ca774a8054"
      },
      "outputs": [
        {
          "name": "stdout",
          "output_type": "stream",
          "text": [
            "60973\n"
          ]
        },
        {
          "data": {
            "text/html": [
              "\n",
              "  <div id=\"df-dea2484c-1f0d-40c0-a6b1-afe2b041c314\">\n",
              "    <div class=\"colab-df-container\">\n",
              "      <div>\n",
              "<style scoped>\n",
              "    .dataframe tbody tr th:only-of-type {\n",
              "        vertical-align: middle;\n",
              "    }\n",
              "\n",
              "    .dataframe tbody tr th {\n",
              "        vertical-align: top;\n",
              "    }\n",
              "\n",
              "    .dataframe thead th {\n",
              "        text-align: right;\n",
              "    }\n",
              "</style>\n",
              "<table border=\"1\" class=\"dataframe\">\n",
              "  <thead>\n",
              "    <tr style=\"text-align: right;\">\n",
              "      <th></th>\n",
              "      <th>count</th>\n",
              "    </tr>\n",
              "  </thead>\n",
              "  <tbody>\n",
              "    <tr>\n",
              "      <th>Sale</th>\n",
              "      <td>60973</td>\n",
              "    </tr>\n",
              "    <tr>\n",
              "      <th>nb_clicks_1week</th>\n",
              "      <td>43074</td>\n",
              "    </tr>\n",
              "    <tr>\n",
              "      <th>product_age_group</th>\n",
              "      <td>19535</td>\n",
              "    </tr>\n",
              "    <tr>\n",
              "      <th>device_type</th>\n",
              "      <td>60973</td>\n",
              "    </tr>\n",
              "    <tr>\n",
              "      <th>audience_id</th>\n",
              "      <td>16695</td>\n",
              "    </tr>\n",
              "    <tr>\n",
              "      <th>product_gender</th>\n",
              "      <td>19582</td>\n",
              "    </tr>\n",
              "    <tr>\n",
              "      <th>product_brand</th>\n",
              "      <td>27343</td>\n",
              "    </tr>\n",
              "    <tr>\n",
              "      <th>product_category(1)</th>\n",
              "      <td>43608</td>\n",
              "    </tr>\n",
              "    <tr>\n",
              "      <th>product_category(2)</th>\n",
              "      <td>43596</td>\n",
              "    </tr>\n",
              "    <tr>\n",
              "      <th>product_category(3)</th>\n",
              "      <td>38156</td>\n",
              "    </tr>\n",
              "    <tr>\n",
              "      <th>product_category(4)</th>\n",
              "      <td>23126</td>\n",
              "    </tr>\n",
              "    <tr>\n",
              "      <th>product_country</th>\n",
              "      <td>60973</td>\n",
              "    </tr>\n",
              "    <tr>\n",
              "      <th>product_id</th>\n",
              "      <td>60973</td>\n",
              "    </tr>\n",
              "    <tr>\n",
              "      <th>product_title</th>\n",
              "      <td>43399</td>\n",
              "    </tr>\n",
              "    <tr>\n",
              "      <th>partner_id</th>\n",
              "      <td>60973</td>\n",
              "    </tr>\n",
              "    <tr>\n",
              "      <th>user_id</th>\n",
              "      <td>60973</td>\n",
              "    </tr>\n",
              "    <tr>\n",
              "      <th>click_second</th>\n",
              "      <td>60973</td>\n",
              "    </tr>\n",
              "  </tbody>\n",
              "</table>\n",
              "</div>\n",
              "      <button class=\"colab-df-convert\" onclick=\"convertToInteractive('df-dea2484c-1f0d-40c0-a6b1-afe2b041c314')\"\n",
              "              title=\"Convert this dataframe to an interactive table.\"\n",
              "              style=\"display:none;\">\n",
              "        \n",
              "  <svg xmlns=\"http://www.w3.org/2000/svg\" height=\"24px\"viewBox=\"0 0 24 24\"\n",
              "       width=\"24px\">\n",
              "    <path d=\"M0 0h24v24H0V0z\" fill=\"none\"/>\n",
              "    <path d=\"M18.56 5.44l.94 2.06.94-2.06 2.06-.94-2.06-.94-.94-2.06-.94 2.06-2.06.94zm-11 1L8.5 8.5l.94-2.06 2.06-.94-2.06-.94L8.5 2.5l-.94 2.06-2.06.94zm10 10l.94 2.06.94-2.06 2.06-.94-2.06-.94-.94-2.06-.94 2.06-2.06.94z\"/><path d=\"M17.41 7.96l-1.37-1.37c-.4-.4-.92-.59-1.43-.59-.52 0-1.04.2-1.43.59L10.3 9.45l-7.72 7.72c-.78.78-.78 2.05 0 2.83L4 21.41c.39.39.9.59 1.41.59.51 0 1.02-.2 1.41-.59l7.78-7.78 2.81-2.81c.8-.78.8-2.07 0-2.86zM5.41 20L4 18.59l7.72-7.72 1.47 1.35L5.41 20z\"/>\n",
              "  </svg>\n",
              "      </button>\n",
              "      \n",
              "  <style>\n",
              "    .colab-df-container {\n",
              "      display:flex;\n",
              "      flex-wrap:wrap;\n",
              "      gap: 12px;\n",
              "    }\n",
              "\n",
              "    .colab-df-convert {\n",
              "      background-color: #E8F0FE;\n",
              "      border: none;\n",
              "      border-radius: 50%;\n",
              "      cursor: pointer;\n",
              "      display: none;\n",
              "      fill: #1967D2;\n",
              "      height: 32px;\n",
              "      padding: 0 0 0 0;\n",
              "      width: 32px;\n",
              "    }\n",
              "\n",
              "    .colab-df-convert:hover {\n",
              "      background-color: #E2EBFA;\n",
              "      box-shadow: 0px 1px 2px rgba(60, 64, 67, 0.3), 0px 1px 3px 1px rgba(60, 64, 67, 0.15);\n",
              "      fill: #174EA6;\n",
              "    }\n",
              "\n",
              "    [theme=dark] .colab-df-convert {\n",
              "      background-color: #3B4455;\n",
              "      fill: #D2E3FC;\n",
              "    }\n",
              "\n",
              "    [theme=dark] .colab-df-convert:hover {\n",
              "      background-color: #434B5C;\n",
              "      box-shadow: 0px 1px 3px 1px rgba(0, 0, 0, 0.15);\n",
              "      filter: drop-shadow(0px 1px 2px rgba(0, 0, 0, 0.3));\n",
              "      fill: #FFFFFF;\n",
              "    }\n",
              "  </style>\n",
              "\n",
              "      <script>\n",
              "        const buttonEl =\n",
              "          document.querySelector('#df-dea2484c-1f0d-40c0-a6b1-afe2b041c314 button.colab-df-convert');\n",
              "        buttonEl.style.display =\n",
              "          google.colab.kernel.accessAllowed ? 'block' : 'none';\n",
              "\n",
              "        async function convertToInteractive(key) {\n",
              "          const element = document.querySelector('#df-dea2484c-1f0d-40c0-a6b1-afe2b041c314');\n",
              "          const dataTable =\n",
              "            await google.colab.kernel.invokeFunction('convertToInteractive',\n",
              "                                                     [key], {});\n",
              "          if (!dataTable) return;\n",
              "\n",
              "          const docLinkHtml = 'Like what you see? Visit the ' +\n",
              "            '<a target=\"_blank\" href=https://colab.research.google.com/notebooks/data_table.ipynb>data table notebook</a>'\n",
              "            + ' to learn more about interactive tables.';\n",
              "          element.innerHTML = '';\n",
              "          dataTable['output_type'] = 'display_data';\n",
              "          await google.colab.output.renderOutput(dataTable, element);\n",
              "          const docLink = document.createElement('div');\n",
              "          docLink.innerHTML = docLinkHtml;\n",
              "          element.appendChild(docLink);\n",
              "        }\n",
              "      </script>\n",
              "    </div>\n",
              "  </div>\n",
              "  "
            ],
            "text/plain": [
              "                     count\n",
              "Sale                 60973\n",
              "nb_clicks_1week      43074\n",
              "product_age_group    19535\n",
              "device_type          60973\n",
              "audience_id          16695\n",
              "product_gender       19582\n",
              "product_brand        27343\n",
              "product_category(1)  43608\n",
              "product_category(2)  43596\n",
              "product_category(3)  38156\n",
              "product_category(4)  23126\n",
              "product_country      60973\n",
              "product_id           60973\n",
              "product_title        43399\n",
              "partner_id           60973\n",
              "user_id              60973\n",
              "click_second         60973"
            ]
          },
          "execution_count": 95,
          "metadata": {},
          "output_type": "execute_result"
        }
      ],
      "source": [
        "print(len(data))\n",
        "data.replace('-1', np.nan).count().to_frame().set_axis(['count'], axis=1)"
      ]
    },
    {
      "cell_type": "markdown",
      "metadata": {
        "id": "Oaeld1VmrmtC"
      },
      "source": [
        "Difference between count of rows in dataset and count of values in above is nothing other than missing values! Which deciding how to treat with them before going to training model is most important step in data cleaning."
      ]
    },
    {
      "cell_type": "markdown",
      "metadata": {
        "id": "fDmfOE6lrmtD"
      },
      "source": [
        "Again, we consider different methods for numerical and categorical columns.  \n",
        "For numerical data, we have to fill null values. We can consider two approaches for this purpose; filling them with the mean of corresponding columns and filling them with the median of their columns. But filling with median is a better choice in most cases. Because unlike mean that is affected by outliers, median is more robust against outliers.    \n",
        "When it comes to dealing with missing values in categorical data, we have three options for replacing NaN values in categorical columns.  \n",
        "1. Replacing them with the value that has maximum frequency in that column.  \n",
        "2. Replacing them with the median of their columns.\n",
        "3. Introducing a new category, e.g., 'other' for them.  \n",
        "4. Using Target Encoder\n",
        "\n",
        "For the second option, there should be an order between values and here we don't have any order (even in ordinal features like product_age_group, we can't deduce their order because of hashed strings). And because of the very high missing rate in our dataset, the first option doesn't seem very appropriate too.  \n",
        "One good choice is using a combination of options 1 and 3; setting NaN values to the value that have maximum frequency in that column and creating another column that indicates if this is value was NaN initially or not.  \n",
        "We are going to use option 3 for Deep Factorization Model and option 4 for XGBosst model.  \n",
        "We will show option 3 here and option 4 will be implemented in pipelines at the end of this notebook."
      ]
    },
    {
      "cell_type": "markdown",
      "metadata": {
        "id": "amqJDOfFrmtD"
      },
      "source": [
        "Observing count of each unique value in each column:"
      ]
    },
    {
      "cell_type": "code",
      "execution_count": 96,
      "metadata": {
        "id": "guUYtYbrOFvh"
      },
      "outputs": [],
      "source": [
        "# from IPython.display import display\n",
        "# for col in data.columns:\n",
        "#     display(data[col].value_counts().to_frame())"
      ]
    },
    {
      "cell_type": "markdown",
      "metadata": {
        "id": "hqByC6EFrmtE"
      },
      "source": [
        "As you can see, some of columns have too many unique values and it is impossible for them to be converted to one hot vectors. We will convert some of values with low frequencies in these columns to 'other' category (the same category as NaNs) so that converting these columns to one hot encoder feasible. This is some kind of outlier removing too (as you can remember, we posponed dealing with categorical data outliers) because for example, there are values that has occured only once (or very few times) in more than 60000 rows, which can be produced due to data corruption or something like that. There are columns like _'user_id'_ and _'product_id'_ which have too many unique values with very low frequencies that suggest their presence cannot help predicting our target and of course we cannot convert them to one hot vectors with reasonable size that we decide to drop them.  \n",
        "The reason that we retained '-1' values and even replaced nan values in categorical values with '-1' is that we wanted to use '-1' as class 'other' that you'll see here.\n"
      ]
    },
    {
      "cell_type": "code",
      "execution_count": 97,
      "metadata": {
        "id": "k65EXABgrmtF"
      },
      "outputs": [],
      "source": [
        "# dropping columns with unique values with low count:\n",
        "dropping_columns += ['product_category(5)', 'product_category(6)', 'user_id', 'product_id']\n",
        "data.drop(columns=dropping_columns, errors='ignore', inplace=True)\n",
        "categorical_cols = remove_from_list(categorical_cols, dropping_columns)"
      ]
    },
    {
      "cell_type": "code",
      "execution_count": 98,
      "metadata": {
        "id": "oLa0FBEhpupL"
      },
      "outputs": [],
      "source": [
        "# converting values with low frequency to other/nan\n",
        "def delete_low_frequency(data, col, threshold):\n",
        "    c = data[col]\n",
        "    counts = c.value_counts()\n",
        "    return c.replace(counts.index[counts < threshold], '-1')\n",
        "\n",
        "# this dictionary is used for converting values with low frequencies in each column to 'other' class,\n",
        "# values in this dictionary are minimum frequencies that we are going to retain\n",
        "frequency_threshold = {\n",
        "    'product_age_group': 100,\n",
        "    'audience_id': 100,\n",
        "    'product_gender': 1000,\n",
        "    'product_brand': 150,\n",
        "    'product_category(1)': 500,\n",
        "    'product_category(2)': 500,\n",
        "    'product_category(3)': 300,\n",
        "    'product_category(4)': 250,\n",
        "    'product_country': 100,\n",
        "    'product_title': 50,\n",
        "    'partner_id': 200\n",
        "}\n",
        "\n",
        "for col, freq in frequency_threshold.items():\n",
        "    if col in data.columns:\n",
        "        data[col] = delete_low_frequency(data, col, freq)"
      ]
    },
    {
      "cell_type": "markdown",
      "metadata": {
        "id": "xxpwqBueigVo"
      },
      "source": [
        "Now we map categorical values to integer values:"
      ]
    },
    {
      "cell_type": "code",
      "execution_count": 99,
      "metadata": {
        "colab": {
          "base_uri": "https://localhost:8080/",
          "height": 270
        },
        "id": "mLlpHaidigVp",
        "outputId": "28bc464e-a71c-4445-d23a-88d9d21d42c3"
      },
      "outputs": [
        {
          "data": {
            "text/html": [
              "\n",
              "  <div id=\"df-6409e451-3c9c-4526-8b56-fa438b8a1cd3\">\n",
              "    <div class=\"colab-df-container\">\n",
              "      <div>\n",
              "<style scoped>\n",
              "    .dataframe tbody tr th:only-of-type {\n",
              "        vertical-align: middle;\n",
              "    }\n",
              "\n",
              "    .dataframe tbody tr th {\n",
              "        vertical-align: top;\n",
              "    }\n",
              "\n",
              "    .dataframe thead th {\n",
              "        text-align: right;\n",
              "    }\n",
              "</style>\n",
              "<table border=\"1\" class=\"dataframe\">\n",
              "  <thead>\n",
              "    <tr style=\"text-align: right;\">\n",
              "      <th></th>\n",
              "      <th>Sale</th>\n",
              "      <th>nb_clicks_1week</th>\n",
              "      <th>product_age_group</th>\n",
              "      <th>device_type</th>\n",
              "      <th>audience_id</th>\n",
              "      <th>product_gender</th>\n",
              "      <th>product_brand</th>\n",
              "      <th>product_category(1)</th>\n",
              "      <th>product_category(2)</th>\n",
              "      <th>product_category(3)</th>\n",
              "      <th>product_category(4)</th>\n",
              "      <th>product_country</th>\n",
              "      <th>product_title</th>\n",
              "      <th>partner_id</th>\n",
              "      <th>click_second</th>\n",
              "    </tr>\n",
              "  </thead>\n",
              "  <tbody>\n",
              "    <tr>\n",
              "      <th>96611</th>\n",
              "      <td>0</td>\n",
              "      <td>NaN</td>\n",
              "      <td>0</td>\n",
              "      <td>1</td>\n",
              "      <td>0</td>\n",
              "      <td>0</td>\n",
              "      <td>0</td>\n",
              "      <td>0</td>\n",
              "      <td>0</td>\n",
              "      <td>0</td>\n",
              "      <td>0</td>\n",
              "      <td>2</td>\n",
              "      <td>0</td>\n",
              "      <td>34</td>\n",
              "      <td>69877</td>\n",
              "    </tr>\n",
              "    <tr>\n",
              "      <th>13194</th>\n",
              "      <td>0</td>\n",
              "      <td>66.0</td>\n",
              "      <td>2</td>\n",
              "      <td>1</td>\n",
              "      <td>0</td>\n",
              "      <td>3</td>\n",
              "      <td>0</td>\n",
              "      <td>1</td>\n",
              "      <td>20</td>\n",
              "      <td>0</td>\n",
              "      <td>0</td>\n",
              "      <td>7</td>\n",
              "      <td>0</td>\n",
              "      <td>39</td>\n",
              "      <td>36634</td>\n",
              "    </tr>\n",
              "    <tr>\n",
              "      <th>58902</th>\n",
              "      <td>0</td>\n",
              "      <td>409.0</td>\n",
              "      <td>0</td>\n",
              "      <td>2</td>\n",
              "      <td>0</td>\n",
              "      <td>0</td>\n",
              "      <td>0</td>\n",
              "      <td>5</td>\n",
              "      <td>23</td>\n",
              "      <td>7</td>\n",
              "      <td>0</td>\n",
              "      <td>2</td>\n",
              "      <td>0</td>\n",
              "      <td>25</td>\n",
              "      <td>72660</td>\n",
              "    </tr>\n",
              "    <tr>\n",
              "      <th>75063</th>\n",
              "      <td>0</td>\n",
              "      <td>166.0</td>\n",
              "      <td>0</td>\n",
              "      <td>0</td>\n",
              "      <td>0</td>\n",
              "      <td>0</td>\n",
              "      <td>11</td>\n",
              "      <td>6</td>\n",
              "      <td>12</td>\n",
              "      <td>1</td>\n",
              "      <td>3</td>\n",
              "      <td>3</td>\n",
              "      <td>0</td>\n",
              "      <td>15</td>\n",
              "      <td>27275</td>\n",
              "    </tr>\n",
              "    <tr>\n",
              "      <th>74574</th>\n",
              "      <td>0</td>\n",
              "      <td>0.0</td>\n",
              "      <td>2</td>\n",
              "      <td>1</td>\n",
              "      <td>0</td>\n",
              "      <td>3</td>\n",
              "      <td>0</td>\n",
              "      <td>1</td>\n",
              "      <td>9</td>\n",
              "      <td>0</td>\n",
              "      <td>0</td>\n",
              "      <td>4</td>\n",
              "      <td>0</td>\n",
              "      <td>0</td>\n",
              "      <td>14326</td>\n",
              "    </tr>\n",
              "  </tbody>\n",
              "</table>\n",
              "</div>\n",
              "      <button class=\"colab-df-convert\" onclick=\"convertToInteractive('df-6409e451-3c9c-4526-8b56-fa438b8a1cd3')\"\n",
              "              title=\"Convert this dataframe to an interactive table.\"\n",
              "              style=\"display:none;\">\n",
              "        \n",
              "  <svg xmlns=\"http://www.w3.org/2000/svg\" height=\"24px\"viewBox=\"0 0 24 24\"\n",
              "       width=\"24px\">\n",
              "    <path d=\"M0 0h24v24H0V0z\" fill=\"none\"/>\n",
              "    <path d=\"M18.56 5.44l.94 2.06.94-2.06 2.06-.94-2.06-.94-.94-2.06-.94 2.06-2.06.94zm-11 1L8.5 8.5l.94-2.06 2.06-.94-2.06-.94L8.5 2.5l-.94 2.06-2.06.94zm10 10l.94 2.06.94-2.06 2.06-.94-2.06-.94-.94-2.06-.94 2.06-2.06.94z\"/><path d=\"M17.41 7.96l-1.37-1.37c-.4-.4-.92-.59-1.43-.59-.52 0-1.04.2-1.43.59L10.3 9.45l-7.72 7.72c-.78.78-.78 2.05 0 2.83L4 21.41c.39.39.9.59 1.41.59.51 0 1.02-.2 1.41-.59l7.78-7.78 2.81-2.81c.8-.78.8-2.07 0-2.86zM5.41 20L4 18.59l7.72-7.72 1.47 1.35L5.41 20z\"/>\n",
              "  </svg>\n",
              "      </button>\n",
              "      \n",
              "  <style>\n",
              "    .colab-df-container {\n",
              "      display:flex;\n",
              "      flex-wrap:wrap;\n",
              "      gap: 12px;\n",
              "    }\n",
              "\n",
              "    .colab-df-convert {\n",
              "      background-color: #E8F0FE;\n",
              "      border: none;\n",
              "      border-radius: 50%;\n",
              "      cursor: pointer;\n",
              "      display: none;\n",
              "      fill: #1967D2;\n",
              "      height: 32px;\n",
              "      padding: 0 0 0 0;\n",
              "      width: 32px;\n",
              "    }\n",
              "\n",
              "    .colab-df-convert:hover {\n",
              "      background-color: #E2EBFA;\n",
              "      box-shadow: 0px 1px 2px rgba(60, 64, 67, 0.3), 0px 1px 3px 1px rgba(60, 64, 67, 0.15);\n",
              "      fill: #174EA6;\n",
              "    }\n",
              "\n",
              "    [theme=dark] .colab-df-convert {\n",
              "      background-color: #3B4455;\n",
              "      fill: #D2E3FC;\n",
              "    }\n",
              "\n",
              "    [theme=dark] .colab-df-convert:hover {\n",
              "      background-color: #434B5C;\n",
              "      box-shadow: 0px 1px 3px 1px rgba(0, 0, 0, 0.15);\n",
              "      filter: drop-shadow(0px 1px 2px rgba(0, 0, 0, 0.3));\n",
              "      fill: #FFFFFF;\n",
              "    }\n",
              "  </style>\n",
              "\n",
              "      <script>\n",
              "        const buttonEl =\n",
              "          document.querySelector('#df-6409e451-3c9c-4526-8b56-fa438b8a1cd3 button.colab-df-convert');\n",
              "        buttonEl.style.display =\n",
              "          google.colab.kernel.accessAllowed ? 'block' : 'none';\n",
              "\n",
              "        async function convertToInteractive(key) {\n",
              "          const element = document.querySelector('#df-6409e451-3c9c-4526-8b56-fa438b8a1cd3');\n",
              "          const dataTable =\n",
              "            await google.colab.kernel.invokeFunction('convertToInteractive',\n",
              "                                                     [key], {});\n",
              "          if (!dataTable) return;\n",
              "\n",
              "          const docLinkHtml = 'Like what you see? Visit the ' +\n",
              "            '<a target=\"_blank\" href=https://colab.research.google.com/notebooks/data_table.ipynb>data table notebook</a>'\n",
              "            + ' to learn more about interactive tables.';\n",
              "          element.innerHTML = '';\n",
              "          dataTable['output_type'] = 'display_data';\n",
              "          await google.colab.output.renderOutput(dataTable, element);\n",
              "          const docLink = document.createElement('div');\n",
              "          docLink.innerHTML = docLinkHtml;\n",
              "          element.appendChild(docLink);\n",
              "        }\n",
              "      </script>\n",
              "    </div>\n",
              "  </div>\n",
              "  "
            ],
            "text/plain": [
              "       Sale  nb_clicks_1week  ...  partner_id  click_second\n",
              "96611     0              NaN  ...          34         69877\n",
              "13194     0             66.0  ...          39         36634\n",
              "58902     0            409.0  ...          25         72660\n",
              "75063     0            166.0  ...          15         27275\n",
              "74574     0              0.0  ...           0         14326\n",
              "\n",
              "[5 rows x 15 columns]"
            ]
          },
          "execution_count": 99,
          "metadata": {},
          "output_type": "execute_result"
        }
      ],
      "source": [
        "data[categorical_cols] = data[categorical_cols].astype('category')\n",
        "column_categories = {}\n",
        "for col in categorical_cols:\n",
        "    column_categories[col] = data[col].cat.categories\n",
        "    data[col] = data[col].cat.codes\n",
        "# data = data.replace(-1, np.nan)\n",
        "\n",
        "data.head()"
      ]
    },
    {
      "cell_type": "markdown",
      "metadata": {
        "id": "QGY8PR7rigVs"
      },
      "source": [
        "We are not going to convert these values to one hot here. In our main model, i.e., Deep Factorization Model, the Embedding layer will convert them to one hot vectors it self."
      ]
    },
    {
      "cell_type": "markdown",
      "metadata": {
        "id": "AQlO0a1ZrmtI"
      },
      "source": [
        "If in test or validation sets there is a value for a column which is not in our categories, we will convert it to 'other' class. but if that column doesn't have 'other' class, we will replace mentioned value with mode of that column."
      ]
    },
    {
      "cell_type": "code",
      "execution_count": 100,
      "metadata": {
        "id": "Jfk3XeS0rmtJ"
      },
      "outputs": [],
      "source": [
        "saved_modes = data.mode()"
      ]
    },
    {
      "cell_type": "markdown",
      "metadata": {
        "id": "zpn23iLrrmtJ"
      },
      "source": [
        "Filling numerical columns' NaN values with their median as it was mentioned before:"
      ]
    },
    {
      "cell_type": "code",
      "execution_count": 101,
      "metadata": {
        "id": "P0HuxFSgigVs"
      },
      "outputs": [],
      "source": [
        "numerical_cols_medians = data[numerical_cols].median()\n",
        "data[numerical_cols] = data[numerical_cols].fillna(numerical_cols_medians)"
      ]
    },
    {
      "cell_type": "markdown",
      "metadata": {
        "id": "cgFumLlAOFvp"
      },
      "source": [
        "#### Normalizing data:\n",
        "As you can know, we should not normalize value of category columns; specially if we are going to convert them to one hot vectors. So we only normalize numerical data:"
      ]
    },
    {
      "cell_type": "code",
      "execution_count": 102,
      "metadata": {
        "colab": {
          "base_uri": "https://localhost:8080/",
          "height": 488
        },
        "id": "ex7nUYbFigVt",
        "outputId": "922bb088-5fc3-4ba3-fcd3-b21261a48101"
      },
      "outputs": [
        {
          "data": {
            "text/html": [
              "\n",
              "  <div id=\"df-6b364749-e116-42bc-b21f-ebf2f5af7e5d\">\n",
              "    <div class=\"colab-df-container\">\n",
              "      <div>\n",
              "<style scoped>\n",
              "    .dataframe tbody tr th:only-of-type {\n",
              "        vertical-align: middle;\n",
              "    }\n",
              "\n",
              "    .dataframe tbody tr th {\n",
              "        vertical-align: top;\n",
              "    }\n",
              "\n",
              "    .dataframe thead th {\n",
              "        text-align: right;\n",
              "    }\n",
              "</style>\n",
              "<table border=\"1\" class=\"dataframe\">\n",
              "  <thead>\n",
              "    <tr style=\"text-align: right;\">\n",
              "      <th></th>\n",
              "      <th>Sale</th>\n",
              "      <th>nb_clicks_1week</th>\n",
              "      <th>product_age_group</th>\n",
              "      <th>device_type</th>\n",
              "      <th>audience_id</th>\n",
              "      <th>product_gender</th>\n",
              "      <th>product_brand</th>\n",
              "      <th>product_category(1)</th>\n",
              "      <th>product_category(2)</th>\n",
              "      <th>product_category(3)</th>\n",
              "      <th>product_category(4)</th>\n",
              "      <th>product_country</th>\n",
              "      <th>product_title</th>\n",
              "      <th>partner_id</th>\n",
              "      <th>click_second</th>\n",
              "    </tr>\n",
              "  </thead>\n",
              "  <tbody>\n",
              "    <tr>\n",
              "      <th>96611</th>\n",
              "      <td>0</td>\n",
              "      <td>-0.249462</td>\n",
              "      <td>0</td>\n",
              "      <td>1</td>\n",
              "      <td>0</td>\n",
              "      <td>0</td>\n",
              "      <td>0</td>\n",
              "      <td>0</td>\n",
              "      <td>0</td>\n",
              "      <td>0</td>\n",
              "      <td>0</td>\n",
              "      <td>2</td>\n",
              "      <td>0</td>\n",
              "      <td>34</td>\n",
              "      <td>1.003475</td>\n",
              "    </tr>\n",
              "    <tr>\n",
              "      <th>13194</th>\n",
              "      <td>0</td>\n",
              "      <td>-0.222510</td>\n",
              "      <td>2</td>\n",
              "      <td>1</td>\n",
              "      <td>0</td>\n",
              "      <td>3</td>\n",
              "      <td>0</td>\n",
              "      <td>1</td>\n",
              "      <td>20</td>\n",
              "      <td>0</td>\n",
              "      <td>0</td>\n",
              "      <td>7</td>\n",
              "      <td>0</td>\n",
              "      <td>39</td>\n",
              "      <td>-0.298235</td>\n",
              "    </tr>\n",
              "    <tr>\n",
              "      <th>58902</th>\n",
              "      <td>0</td>\n",
              "      <td>0.107646</td>\n",
              "      <td>0</td>\n",
              "      <td>2</td>\n",
              "      <td>0</td>\n",
              "      <td>0</td>\n",
              "      <td>0</td>\n",
              "      <td>5</td>\n",
              "      <td>23</td>\n",
              "      <td>7</td>\n",
              "      <td>0</td>\n",
              "      <td>2</td>\n",
              "      <td>0</td>\n",
              "      <td>25</td>\n",
              "      <td>1.112450</td>\n",
              "    </tr>\n",
              "    <tr>\n",
              "      <th>75063</th>\n",
              "      <td>0</td>\n",
              "      <td>-0.126255</td>\n",
              "      <td>0</td>\n",
              "      <td>0</td>\n",
              "      <td>0</td>\n",
              "      <td>0</td>\n",
              "      <td>11</td>\n",
              "      <td>6</td>\n",
              "      <td>12</td>\n",
              "      <td>1</td>\n",
              "      <td>3</td>\n",
              "      <td>3</td>\n",
              "      <td>0</td>\n",
              "      <td>15</td>\n",
              "      <td>-0.664709</td>\n",
              "    </tr>\n",
              "    <tr>\n",
              "      <th>74574</th>\n",
              "      <td>0</td>\n",
              "      <td>-0.286039</td>\n",
              "      <td>2</td>\n",
              "      <td>1</td>\n",
              "      <td>0</td>\n",
              "      <td>3</td>\n",
              "      <td>0</td>\n",
              "      <td>1</td>\n",
              "      <td>9</td>\n",
              "      <td>0</td>\n",
              "      <td>0</td>\n",
              "      <td>4</td>\n",
              "      <td>0</td>\n",
              "      <td>0</td>\n",
              "      <td>-1.171758</td>\n",
              "    </tr>\n",
              "    <tr>\n",
              "      <th>...</th>\n",
              "      <td>...</td>\n",
              "      <td>...</td>\n",
              "      <td>...</td>\n",
              "      <td>...</td>\n",
              "      <td>...</td>\n",
              "      <td>...</td>\n",
              "      <td>...</td>\n",
              "      <td>...</td>\n",
              "      <td>...</td>\n",
              "      <td>...</td>\n",
              "      <td>...</td>\n",
              "      <td>...</td>\n",
              "      <td>...</td>\n",
              "      <td>...</td>\n",
              "      <td>...</td>\n",
              "    </tr>\n",
              "    <tr>\n",
              "      <th>11920</th>\n",
              "      <td>0</td>\n",
              "      <td>-0.267751</td>\n",
              "      <td>2</td>\n",
              "      <td>0</td>\n",
              "      <td>0</td>\n",
              "      <td>1</td>\n",
              "      <td>0</td>\n",
              "      <td>8</td>\n",
              "      <td>14</td>\n",
              "      <td>0</td>\n",
              "      <td>0</td>\n",
              "      <td>1</td>\n",
              "      <td>0</td>\n",
              "      <td>27</td>\n",
              "      <td>-0.132403</td>\n",
              "    </tr>\n",
              "    <tr>\n",
              "      <th>29148</th>\n",
              "      <td>0</td>\n",
              "      <td>-0.279301</td>\n",
              "      <td>4</td>\n",
              "      <td>1</td>\n",
              "      <td>0</td>\n",
              "      <td>0</td>\n",
              "      <td>0</td>\n",
              "      <td>3</td>\n",
              "      <td>4</td>\n",
              "      <td>20</td>\n",
              "      <td>0</td>\n",
              "      <td>6</td>\n",
              "      <td>0</td>\n",
              "      <td>2</td>\n",
              "      <td>-1.230729</td>\n",
              "    </tr>\n",
              "    <tr>\n",
              "      <th>50345</th>\n",
              "      <td>0</td>\n",
              "      <td>-0.284114</td>\n",
              "      <td>2</td>\n",
              "      <td>0</td>\n",
              "      <td>0</td>\n",
              "      <td>1</td>\n",
              "      <td>0</td>\n",
              "      <td>8</td>\n",
              "      <td>0</td>\n",
              "      <td>0</td>\n",
              "      <td>0</td>\n",
              "      <td>1</td>\n",
              "      <td>0</td>\n",
              "      <td>27</td>\n",
              "      <td>-1.332264</td>\n",
              "    </tr>\n",
              "    <tr>\n",
              "      <th>93226</th>\n",
              "      <td>0</td>\n",
              "      <td>-0.283151</td>\n",
              "      <td>0</td>\n",
              "      <td>0</td>\n",
              "      <td>0</td>\n",
              "      <td>0</td>\n",
              "      <td>0</td>\n",
              "      <td>10</td>\n",
              "      <td>10</td>\n",
              "      <td>9</td>\n",
              "      <td>0</td>\n",
              "      <td>2</td>\n",
              "      <td>0</td>\n",
              "      <td>41</td>\n",
              "      <td>-1.730809</td>\n",
              "    </tr>\n",
              "    <tr>\n",
              "      <th>31317</th>\n",
              "      <td>0</td>\n",
              "      <td>-0.286039</td>\n",
              "      <td>2</td>\n",
              "      <td>1</td>\n",
              "      <td>0</td>\n",
              "      <td>1</td>\n",
              "      <td>0</td>\n",
              "      <td>1</td>\n",
              "      <td>20</td>\n",
              "      <td>0</td>\n",
              "      <td>0</td>\n",
              "      <td>2</td>\n",
              "      <td>0</td>\n",
              "      <td>0</td>\n",
              "      <td>1.188298</td>\n",
              "    </tr>\n",
              "  </tbody>\n",
              "</table>\n",
              "<p>60973 rows × 15 columns</p>\n",
              "</div>\n",
              "      <button class=\"colab-df-convert\" onclick=\"convertToInteractive('df-6b364749-e116-42bc-b21f-ebf2f5af7e5d')\"\n",
              "              title=\"Convert this dataframe to an interactive table.\"\n",
              "              style=\"display:none;\">\n",
              "        \n",
              "  <svg xmlns=\"http://www.w3.org/2000/svg\" height=\"24px\"viewBox=\"0 0 24 24\"\n",
              "       width=\"24px\">\n",
              "    <path d=\"M0 0h24v24H0V0z\" fill=\"none\"/>\n",
              "    <path d=\"M18.56 5.44l.94 2.06.94-2.06 2.06-.94-2.06-.94-.94-2.06-.94 2.06-2.06.94zm-11 1L8.5 8.5l.94-2.06 2.06-.94-2.06-.94L8.5 2.5l-.94 2.06-2.06.94zm10 10l.94 2.06.94-2.06 2.06-.94-2.06-.94-.94-2.06-.94 2.06-2.06.94z\"/><path d=\"M17.41 7.96l-1.37-1.37c-.4-.4-.92-.59-1.43-.59-.52 0-1.04.2-1.43.59L10.3 9.45l-7.72 7.72c-.78.78-.78 2.05 0 2.83L4 21.41c.39.39.9.59 1.41.59.51 0 1.02-.2 1.41-.59l7.78-7.78 2.81-2.81c.8-.78.8-2.07 0-2.86zM5.41 20L4 18.59l7.72-7.72 1.47 1.35L5.41 20z\"/>\n",
              "  </svg>\n",
              "      </button>\n",
              "      \n",
              "  <style>\n",
              "    .colab-df-container {\n",
              "      display:flex;\n",
              "      flex-wrap:wrap;\n",
              "      gap: 12px;\n",
              "    }\n",
              "\n",
              "    .colab-df-convert {\n",
              "      background-color: #E8F0FE;\n",
              "      border: none;\n",
              "      border-radius: 50%;\n",
              "      cursor: pointer;\n",
              "      display: none;\n",
              "      fill: #1967D2;\n",
              "      height: 32px;\n",
              "      padding: 0 0 0 0;\n",
              "      width: 32px;\n",
              "    }\n",
              "\n",
              "    .colab-df-convert:hover {\n",
              "      background-color: #E2EBFA;\n",
              "      box-shadow: 0px 1px 2px rgba(60, 64, 67, 0.3), 0px 1px 3px 1px rgba(60, 64, 67, 0.15);\n",
              "      fill: #174EA6;\n",
              "    }\n",
              "\n",
              "    [theme=dark] .colab-df-convert {\n",
              "      background-color: #3B4455;\n",
              "      fill: #D2E3FC;\n",
              "    }\n",
              "\n",
              "    [theme=dark] .colab-df-convert:hover {\n",
              "      background-color: #434B5C;\n",
              "      box-shadow: 0px 1px 3px 1px rgba(0, 0, 0, 0.15);\n",
              "      filter: drop-shadow(0px 1px 2px rgba(0, 0, 0, 0.3));\n",
              "      fill: #FFFFFF;\n",
              "    }\n",
              "  </style>\n",
              "\n",
              "      <script>\n",
              "        const buttonEl =\n",
              "          document.querySelector('#df-6b364749-e116-42bc-b21f-ebf2f5af7e5d button.colab-df-convert');\n",
              "        buttonEl.style.display =\n",
              "          google.colab.kernel.accessAllowed ? 'block' : 'none';\n",
              "\n",
              "        async function convertToInteractive(key) {\n",
              "          const element = document.querySelector('#df-6b364749-e116-42bc-b21f-ebf2f5af7e5d');\n",
              "          const dataTable =\n",
              "            await google.colab.kernel.invokeFunction('convertToInteractive',\n",
              "                                                     [key], {});\n",
              "          if (!dataTable) return;\n",
              "\n",
              "          const docLinkHtml = 'Like what you see? Visit the ' +\n",
              "            '<a target=\"_blank\" href=https://colab.research.google.com/notebooks/data_table.ipynb>data table notebook</a>'\n",
              "            + ' to learn more about interactive tables.';\n",
              "          element.innerHTML = '';\n",
              "          dataTable['output_type'] = 'display_data';\n",
              "          await google.colab.output.renderOutput(dataTable, element);\n",
              "          const docLink = document.createElement('div');\n",
              "          docLink.innerHTML = docLinkHtml;\n",
              "          element.appendChild(docLink);\n",
              "        }\n",
              "      </script>\n",
              "    </div>\n",
              "  </div>\n",
              "  "
            ],
            "text/plain": [
              "       Sale  nb_clicks_1week  ...  partner_id  click_second\n",
              "96611     0        -0.249462  ...          34      1.003475\n",
              "13194     0        -0.222510  ...          39     -0.298235\n",
              "58902     0         0.107646  ...          25      1.112450\n",
              "75063     0        -0.126255  ...          15     -0.664709\n",
              "74574     0        -0.286039  ...           0     -1.171758\n",
              "...     ...              ...  ...         ...           ...\n",
              "11920     0        -0.267751  ...          27     -0.132403\n",
              "29148     0        -0.279301  ...           2     -1.230729\n",
              "50345     0        -0.284114  ...          27     -1.332264\n",
              "93226     0        -0.283151  ...          41     -1.730809\n",
              "31317     0        -0.286039  ...           0      1.188298\n",
              "\n",
              "[60973 rows x 15 columns]"
            ]
          },
          "execution_count": 102,
          "metadata": {},
          "output_type": "execute_result"
        }
      ],
      "source": [
        "saved_mean = data[numerical_cols].mean()\n",
        "saved_std = data[numerical_cols].std()\n",
        "data[numerical_cols] = (data[numerical_cols] - saved_mean) / saved_std\n",
        "data"
      ]
    },
    {
      "cell_type": "markdown",
      "metadata": {
        "id": "0tHtcdCSOFvp"
      },
      "source": [
        "Generating final correlation matrix and its heatmap:"
      ]
    },
    {
      "cell_type": "code",
      "execution_count": 103,
      "metadata": {
        "colab": {
          "base_uri": "https://localhost:8080/",
          "height": 452
        },
        "id": "F7XxdcPfOFvp",
        "outputId": "c6f84b0d-ee6b-4d7e-d71a-e1fc70700877"
      },
      "outputs": [
        {
          "data": {
            "text/html": [
              "\n",
              "  <div id=\"df-546ab680-c875-4bab-a7ea-b51d48320acc\">\n",
              "    <div class=\"colab-df-container\">\n",
              "      <div>\n",
              "<style scoped>\n",
              "    .dataframe tbody tr th:only-of-type {\n",
              "        vertical-align: middle;\n",
              "    }\n",
              "\n",
              "    .dataframe tbody tr th {\n",
              "        vertical-align: top;\n",
              "    }\n",
              "\n",
              "    .dataframe thead th {\n",
              "        text-align: right;\n",
              "    }\n",
              "</style>\n",
              "<table border=\"1\" class=\"dataframe\">\n",
              "  <thead>\n",
              "    <tr style=\"text-align: right;\">\n",
              "      <th></th>\n",
              "      <th>Sale</th>\n",
              "      <th>nb_clicks_1week</th>\n",
              "      <th>click_second</th>\n",
              "    </tr>\n",
              "  </thead>\n",
              "  <tbody>\n",
              "    <tr>\n",
              "      <th>nb_clicks_1week</th>\n",
              "      <td>-0.053798</td>\n",
              "      <td>1.000000</td>\n",
              "      <td>-0.048177</td>\n",
              "    </tr>\n",
              "    <tr>\n",
              "      <th>click_second</th>\n",
              "      <td>0.030495</td>\n",
              "      <td>-0.048177</td>\n",
              "      <td>1.000000</td>\n",
              "    </tr>\n",
              "    <tr>\n",
              "      <th>Sale</th>\n",
              "      <td>1.000000</td>\n",
              "      <td>-0.053798</td>\n",
              "      <td>0.030495</td>\n",
              "    </tr>\n",
              "  </tbody>\n",
              "</table>\n",
              "</div>\n",
              "      <button class=\"colab-df-convert\" onclick=\"convertToInteractive('df-546ab680-c875-4bab-a7ea-b51d48320acc')\"\n",
              "              title=\"Convert this dataframe to an interactive table.\"\n",
              "              style=\"display:none;\">\n",
              "        \n",
              "  <svg xmlns=\"http://www.w3.org/2000/svg\" height=\"24px\"viewBox=\"0 0 24 24\"\n",
              "       width=\"24px\">\n",
              "    <path d=\"M0 0h24v24H0V0z\" fill=\"none\"/>\n",
              "    <path d=\"M18.56 5.44l.94 2.06.94-2.06 2.06-.94-2.06-.94-.94-2.06-.94 2.06-2.06.94zm-11 1L8.5 8.5l.94-2.06 2.06-.94-2.06-.94L8.5 2.5l-.94 2.06-2.06.94zm10 10l.94 2.06.94-2.06 2.06-.94-2.06-.94-.94-2.06-.94 2.06-2.06.94z\"/><path d=\"M17.41 7.96l-1.37-1.37c-.4-.4-.92-.59-1.43-.59-.52 0-1.04.2-1.43.59L10.3 9.45l-7.72 7.72c-.78.78-.78 2.05 0 2.83L4 21.41c.39.39.9.59 1.41.59.51 0 1.02-.2 1.41-.59l7.78-7.78 2.81-2.81c.8-.78.8-2.07 0-2.86zM5.41 20L4 18.59l7.72-7.72 1.47 1.35L5.41 20z\"/>\n",
              "  </svg>\n",
              "      </button>\n",
              "      \n",
              "  <style>\n",
              "    .colab-df-container {\n",
              "      display:flex;\n",
              "      flex-wrap:wrap;\n",
              "      gap: 12px;\n",
              "    }\n",
              "\n",
              "    .colab-df-convert {\n",
              "      background-color: #E8F0FE;\n",
              "      border: none;\n",
              "      border-radius: 50%;\n",
              "      cursor: pointer;\n",
              "      display: none;\n",
              "      fill: #1967D2;\n",
              "      height: 32px;\n",
              "      padding: 0 0 0 0;\n",
              "      width: 32px;\n",
              "    }\n",
              "\n",
              "    .colab-df-convert:hover {\n",
              "      background-color: #E2EBFA;\n",
              "      box-shadow: 0px 1px 2px rgba(60, 64, 67, 0.3), 0px 1px 3px 1px rgba(60, 64, 67, 0.15);\n",
              "      fill: #174EA6;\n",
              "    }\n",
              "\n",
              "    [theme=dark] .colab-df-convert {\n",
              "      background-color: #3B4455;\n",
              "      fill: #D2E3FC;\n",
              "    }\n",
              "\n",
              "    [theme=dark] .colab-df-convert:hover {\n",
              "      background-color: #434B5C;\n",
              "      box-shadow: 0px 1px 3px 1px rgba(0, 0, 0, 0.15);\n",
              "      filter: drop-shadow(0px 1px 2px rgba(0, 0, 0, 0.3));\n",
              "      fill: #FFFFFF;\n",
              "    }\n",
              "  </style>\n",
              "\n",
              "      <script>\n",
              "        const buttonEl =\n",
              "          document.querySelector('#df-546ab680-c875-4bab-a7ea-b51d48320acc button.colab-df-convert');\n",
              "        buttonEl.style.display =\n",
              "          google.colab.kernel.accessAllowed ? 'block' : 'none';\n",
              "\n",
              "        async function convertToInteractive(key) {\n",
              "          const element = document.querySelector('#df-546ab680-c875-4bab-a7ea-b51d48320acc');\n",
              "          const dataTable =\n",
              "            await google.colab.kernel.invokeFunction('convertToInteractive',\n",
              "                                                     [key], {});\n",
              "          if (!dataTable) return;\n",
              "\n",
              "          const docLinkHtml = 'Like what you see? Visit the ' +\n",
              "            '<a target=\"_blank\" href=https://colab.research.google.com/notebooks/data_table.ipynb>data table notebook</a>'\n",
              "            + ' to learn more about interactive tables.';\n",
              "          element.innerHTML = '';\n",
              "          dataTable['output_type'] = 'display_data';\n",
              "          await google.colab.output.renderOutput(dataTable, element);\n",
              "          const docLink = document.createElement('div');\n",
              "          docLink.innerHTML = docLinkHtml;\n",
              "          element.appendChild(docLink);\n",
              "        }\n",
              "      </script>\n",
              "    </div>\n",
              "  </div>\n",
              "  "
            ],
            "text/plain": [
              "                     Sale  nb_clicks_1week  click_second\n",
              "nb_clicks_1week -0.053798         1.000000     -0.048177\n",
              "click_second     0.030495        -0.048177      1.000000\n",
              "Sale             1.000000        -0.053798      0.030495"
            ]
          },
          "execution_count": 103,
          "metadata": {},
          "output_type": "execute_result"
        },
        {
          "data": {
            "image/png": "[encoded data removed]",
            "text/plain": [
              "<Figure size 360x360 with 2 Axes>"
            ]
          },
          "metadata": {
            "needs_background": "light"
          },
          "output_type": "display_data"
        }
      ],
      "source": [
        "plt.figure(figsize = (5, 5))\n",
        "correlation_matrix = data[[target] + numerical_cols].corr()\n",
        "sns.heatmap(correlation_matrix)\n",
        "correlation_matrix.sort_values('Sale')"
      ]
    },
    {
      "cell_type": "markdown",
      "metadata": {
        "id": "5Ei4BwX5OFvp"
      },
      "source": [
        "The correlation of the remaining columns seems logical; neither too high like _'product_price'_ nor too low."
      ]
    },
    {
      "cell_type": "markdown",
      "metadata": {
        "id": "9g8OQj0armtM"
      },
      "source": [
        "Reordering data as target - numerical columns - categorical columns:  \n",
        "(Specially for Deep Factorization Model, this reordering is necessary. Because it treats numerical and categorical columns differently)"
      ]
    },
    {
      "cell_type": "code",
      "execution_count": 104,
      "metadata": {
        "colab": {
          "base_uri": "https://localhost:8080/",
          "height": 270
        },
        "id": "k-ySPJIkOFvq",
        "outputId": "ab48d475-4b0e-4473-ac37-d0b3916914ba"
      },
      "outputs": [
        {
          "data": {
            "text/html": [
              "\n",
              "  <div id=\"df-40a4d739-bd86-42ff-aad0-df48fb6893d5\">\n",
              "    <div class=\"colab-df-container\">\n",
              "      <div>\n",
              "<style scoped>\n",
              "    .dataframe tbody tr th:only-of-type {\n",
              "        vertical-align: middle;\n",
              "    }\n",
              "\n",
              "    .dataframe tbody tr th {\n",
              "        vertical-align: top;\n",
              "    }\n",
              "\n",
              "    .dataframe thead th {\n",
              "        text-align: right;\n",
              "    }\n",
              "</style>\n",
              "<table border=\"1\" class=\"dataframe\">\n",
              "  <thead>\n",
              "    <tr style=\"text-align: right;\">\n",
              "      <th></th>\n",
              "      <th>Sale</th>\n",
              "      <th>nb_clicks_1week</th>\n",
              "      <th>click_second</th>\n",
              "      <th>product_country</th>\n",
              "      <th>device_type</th>\n",
              "      <th>audience_id</th>\n",
              "      <th>product_gender</th>\n",
              "      <th>product_category(4)</th>\n",
              "      <th>product_brand</th>\n",
              "      <th>product_category(2)</th>\n",
              "      <th>product_age_group</th>\n",
              "      <th>product_category(3)</th>\n",
              "      <th>partner_id</th>\n",
              "      <th>product_category(1)</th>\n",
              "      <th>product_title</th>\n",
              "    </tr>\n",
              "  </thead>\n",
              "  <tbody>\n",
              "    <tr>\n",
              "      <th>96611</th>\n",
              "      <td>0</td>\n",
              "      <td>-0.249462</td>\n",
              "      <td>1.003475</td>\n",
              "      <td>2</td>\n",
              "      <td>1</td>\n",
              "      <td>0</td>\n",
              "      <td>0</td>\n",
              "      <td>0</td>\n",
              "      <td>0</td>\n",
              "      <td>0</td>\n",
              "      <td>0</td>\n",
              "      <td>0</td>\n",
              "      <td>34</td>\n",
              "      <td>0</td>\n",
              "      <td>0</td>\n",
              "    </tr>\n",
              "    <tr>\n",
              "      <th>13194</th>\n",
              "      <td>0</td>\n",
              "      <td>-0.222510</td>\n",
              "      <td>-0.298235</td>\n",
              "      <td>7</td>\n",
              "      <td>1</td>\n",
              "      <td>0</td>\n",
              "      <td>3</td>\n",
              "      <td>0</td>\n",
              "      <td>0</td>\n",
              "      <td>20</td>\n",
              "      <td>2</td>\n",
              "      <td>0</td>\n",
              "      <td>39</td>\n",
              "      <td>1</td>\n",
              "      <td>0</td>\n",
              "    </tr>\n",
              "    <tr>\n",
              "      <th>58902</th>\n",
              "      <td>0</td>\n",
              "      <td>0.107646</td>\n",
              "      <td>1.112450</td>\n",
              "      <td>2</td>\n",
              "      <td>2</td>\n",
              "      <td>0</td>\n",
              "      <td>0</td>\n",
              "      <td>0</td>\n",
              "      <td>0</td>\n",
              "      <td>23</td>\n",
              "      <td>0</td>\n",
              "      <td>7</td>\n",
              "      <td>25</td>\n",
              "      <td>5</td>\n",
              "      <td>0</td>\n",
              "    </tr>\n",
              "    <tr>\n",
              "      <th>75063</th>\n",
              "      <td>0</td>\n",
              "      <td>-0.126255</td>\n",
              "      <td>-0.664709</td>\n",
              "      <td>3</td>\n",
              "      <td>0</td>\n",
              "      <td>0</td>\n",
              "      <td>0</td>\n",
              "      <td>3</td>\n",
              "      <td>11</td>\n",
              "      <td>12</td>\n",
              "      <td>0</td>\n",
              "      <td>1</td>\n",
              "      <td>15</td>\n",
              "      <td>6</td>\n",
              "      <td>0</td>\n",
              "    </tr>\n",
              "    <tr>\n",
              "      <th>74574</th>\n",
              "      <td>0</td>\n",
              "      <td>-0.286039</td>\n",
              "      <td>-1.171758</td>\n",
              "      <td>4</td>\n",
              "      <td>1</td>\n",
              "      <td>0</td>\n",
              "      <td>3</td>\n",
              "      <td>0</td>\n",
              "      <td>0</td>\n",
              "      <td>9</td>\n",
              "      <td>2</td>\n",
              "      <td>0</td>\n",
              "      <td>0</td>\n",
              "      <td>1</td>\n",
              "      <td>0</td>\n",
              "    </tr>\n",
              "  </tbody>\n",
              "</table>\n",
              "</div>\n",
              "      <button class=\"colab-df-convert\" onclick=\"convertToInteractive('df-40a4d739-bd86-42ff-aad0-df48fb6893d5')\"\n",
              "              title=\"Convert this dataframe to an interactive table.\"\n",
              "              style=\"display:none;\">\n",
              "        \n",
              "  <svg xmlns=\"http://www.w3.org/2000/svg\" height=\"24px\"viewBox=\"0 0 24 24\"\n",
              "       width=\"24px\">\n",
              "    <path d=\"M0 0h24v24H0V0z\" fill=\"none\"/>\n",
              "    <path d=\"M18.56 5.44l.94 2.06.94-2.06 2.06-.94-2.06-.94-.94-2.06-.94 2.06-2.06.94zm-11 1L8.5 8.5l.94-2.06 2.06-.94-2.06-.94L8.5 2.5l-.94 2.06-2.06.94zm10 10l.94 2.06.94-2.06 2.06-.94-2.06-.94-.94-2.06-.94 2.06-2.06.94z\"/><path d=\"M17.41 7.96l-1.37-1.37c-.4-.4-.92-.59-1.43-.59-.52 0-1.04.2-1.43.59L10.3 9.45l-7.72 7.72c-.78.78-.78 2.05 0 2.83L4 21.41c.39.39.9.59 1.41.59.51 0 1.02-.2 1.41-.59l7.78-7.78 2.81-2.81c.8-.78.8-2.07 0-2.86zM5.41 20L4 18.59l7.72-7.72 1.47 1.35L5.41 20z\"/>\n",
              "  </svg>\n",
              "      </button>\n",
              "      \n",
              "  <style>\n",
              "    .colab-df-container {\n",
              "      display:flex;\n",
              "      flex-wrap:wrap;\n",
              "      gap: 12px;\n",
              "    }\n",
              "\n",
              "    .colab-df-convert {\n",
              "      background-color: #E8F0FE;\n",
              "      border: none;\n",
              "      border-radius: 50%;\n",
              "      cursor: pointer;\n",
              "      display: none;\n",
              "      fill: #1967D2;\n",
              "      height: 32px;\n",
              "      padding: 0 0 0 0;\n",
              "      width: 32px;\n",
              "    }\n",
              "\n",
              "    .colab-df-convert:hover {\n",
              "      background-color: #E2EBFA;\n",
              "      box-shadow: 0px 1px 2px rgba(60, 64, 67, 0.3), 0px 1px 3px 1px rgba(60, 64, 67, 0.15);\n",
              "      fill: #174EA6;\n",
              "    }\n",
              "\n",
              "    [theme=dark] .colab-df-convert {\n",
              "      background-color: #3B4455;\n",
              "      fill: #D2E3FC;\n",
              "    }\n",
              "\n",
              "    [theme=dark] .colab-df-convert:hover {\n",
              "      background-color: #434B5C;\n",
              "      box-shadow: 0px 1px 3px 1px rgba(0, 0, 0, 0.15);\n",
              "      filter: drop-shadow(0px 1px 2px rgba(0, 0, 0, 0.3));\n",
              "      fill: #FFFFFF;\n",
              "    }\n",
              "  </style>\n",
              "\n",
              "      <script>\n",
              "        const buttonEl =\n",
              "          document.querySelector('#df-40a4d739-bd86-42ff-aad0-df48fb6893d5 button.colab-df-convert');\n",
              "        buttonEl.style.display =\n",
              "          google.colab.kernel.accessAllowed ? 'block' : 'none';\n",
              "\n",
              "        async function convertToInteractive(key) {\n",
              "          const element = document.querySelector('#df-40a4d739-bd86-42ff-aad0-df48fb6893d5');\n",
              "          const dataTable =\n",
              "            await google.colab.kernel.invokeFunction('convertToInteractive',\n",
              "                                                     [key], {});\n",
              "          if (!dataTable) return;\n",
              "\n",
              "          const docLinkHtml = 'Like what you see? Visit the ' +\n",
              "            '<a target=\"_blank\" href=https://colab.research.google.com/notebooks/data_table.ipynb>data table notebook</a>'\n",
              "            + ' to learn more about interactive tables.';\n",
              "          element.innerHTML = '';\n",
              "          dataTable['output_type'] = 'display_data';\n",
              "          await google.colab.output.renderOutput(dataTable, element);\n",
              "          const docLink = document.createElement('div');\n",
              "          docLink.innerHTML = docLinkHtml;\n",
              "          element.appendChild(docLink);\n",
              "        }\n",
              "      </script>\n",
              "    </div>\n",
              "  </div>\n",
              "  "
            ],
            "text/plain": [
              "       Sale  nb_clicks_1week  ...  product_category(1)  product_title\n",
              "96611     0        -0.249462  ...                    0              0\n",
              "13194     0        -0.222510  ...                    1              0\n",
              "58902     0         0.107646  ...                    5              0\n",
              "75063     0        -0.126255  ...                    6              0\n",
              "74574     0        -0.286039  ...                    1              0\n",
              "\n",
              "[5 rows x 15 columns]"
            ]
          },
          "execution_count": 104,
          "metadata": {},
          "output_type": "execute_result"
        }
      ],
      "source": [
        "data = data[[target] + numerical_cols + categorical_cols]\n",
        "data.head()"
      ]
    },
    {
      "cell_type": "markdown",
      "metadata": {
        "id": "RFN2Un7NOFvq"
      },
      "source": [
        "For more convenience, we define a method that gets a dataframe and performs all above steps on it. This function will be helpfull for validating our validation (and of course, test) set."
      ]
    },
    {
      "cell_type": "code",
      "execution_count": 105,
      "metadata": {
        "id": "lcS0QJ7zigVu"
      },
      "outputs": [],
      "source": [
        "TARGET_ENCODER = 'target_encoder'\n",
        "OTHER = 'other'\n",
        "\n",
        "def data_preprocess(data, dropping_columns, numerical_median, categories_mode, column_categories, saved_mean, saved_std, cleaning_type, ce=None):\n",
        "    # convert 'click_timestamp' to 'click_second'\n",
        "    data['click_second'] = data['click_timestamp'].apply(get_seconds)\n",
        "    data = data.drop(columns=['click_timestamp'], errors='ignore')\n",
        "    # drop columns\n",
        "    data = data.drop(columns=dropping_columns, errors='ignore')\n",
        "\n",
        "    # replace outliers with nan\n",
        "    data.loc[(data['nb_clicks_1week'] > nb_click_threshold), 'nb_clicks_1week'] = np.nan\n",
        "    # missing values:\n",
        "    if cleaning_type == 'target_encoder':\n",
        "        data = data.replace([-1, '-1'], np.nan).replace({'product_price': 0}, np.nan)\n",
        "        for col in categorical_cols:\n",
        "            data[f'{col}_is_na'] = data[col].isna() * 1\n",
        "            data[col] = data[col].fillna(categories_mode[col])\n",
        "        # encode categories\n",
        "        data[categorical_cols] = ce.transform(data[categorical_cols])\n",
        "        # removing columns with zero std\n",
        "        data = data.drop(columns=dropping_columns, errors='ignore')\n",
        "    elif cleaning_type == 'other':\n",
        "        data = data.replace({'product_title': np.nan}, '-1')\n",
        "        data[numerical_cols] = data[numerical_cols].replace(-1, np.nan)\n",
        "        for col in categorical_cols:\n",
        "            data[col] = pd.Categorical(data[col], column_categories[col]).codes\n",
        "            cc = column_categories[col].tolist()\n",
        "            data[col] = data[col].replace(-1, cc.index('-1') if '-1' in cc else categories_mode[col][0])\n",
        "    data[numerical_cols] = data[numerical_cols].fillna(numerical_median)\n",
        "    data[numerical_cols] = (data[numerical_cols] - saved_mean) / saved_std\n",
        "    data = data[[target] +numerical_cols + categorical_cols]\n",
        "    return data"
      ]
    },
    {
      "cell_type": "markdown",
      "metadata": {
        "id": "dZ4MeM9bigVu"
      },
      "source": [
        "# 2. Model Training"
      ]
    },
    {
      "cell_type": "markdown",
      "metadata": {
        "id": "GpSyM-wQOFvq"
      },
      "source": [
        "Now we will define different models and train them with our training set and evaluate our model with validation set."
      ]
    },
    {
      "cell_type": "code",
      "execution_count": null,
      "metadata": {
        "id": "hEY83F_2igVu"
      },
      "outputs": [],
      "source": [
        "!pip install mlflow\n",
        "\n",
        "# import required libraries\n",
        "import torch\n",
        "import torch.nn as nn\n",
        "import torch.nn.functional as F\n",
        "import tqdm\n",
        "import mlflow\n",
        "import mlflow.pytorch\n",
        "import pickle\n",
        "\n",
        "from typing import Tuple\n",
        "from torch.utils.data import Dataset, DataLoader\n",
        "from sklearn.metrics import precision_score, recall_score, f1_score"
      ]
    },
    {
      "cell_type": "code",
      "execution_count": 107,
      "metadata": {
        "colab": {
          "base_uri": "https://localhost:8080/"
        },
        "id": "idzbkWnNigVv",
        "outputId": "1c5ce272-650f-4379-86e3-58fc468fabaa"
      },
      "outputs": [
        {
          "data": {
            "text/plain": [
              "device(type='cuda')"
            ]
          },
          "execution_count": 107,
          "metadata": {},
          "output_type": "execute_result"
        }
      ],
      "source": [
        "# for using GPU if possible\n",
        "device = torch.device('cuda' if torch.cuda.is_available() else 'cpu')\n",
        "device"
      ]
    },
    {
      "cell_type": "markdown",
      "metadata": {
        "id": "7bA0hZnErmtP"
      },
      "source": [
        "Defining a simple Dataset class for our data used by pytorch models:"
      ]
    },
    {
      "cell_type": "code",
      "execution_count": 108,
      "metadata": {
        "id": "JxsLpJmYigVw"
      },
      "outputs": [],
      "source": [
        "class SalePredictionDataset(Dataset):\n",
        "    def __init__(self, X: np.ndarray, Y: np.ndarray):\n",
        "        self.X = torch.from_numpy(X)\n",
        "        self.Y = torch.from_numpy(Y)\n",
        "\n",
        "    def __len__(self) -> int:\n",
        "        return self.X.shape[0]\n",
        "\n",
        "    def __getitem__(self, i: int) -> Tuple[torch.Tensor, ...]:\n",
        "        return self.X[i], self.Y[i]"
      ]
    },
    {
      "cell_type": "markdown",
      "metadata": {
        "id": "92zqvbeXrmtP"
      },
      "source": [
        "Because we are dealing with an imbalanced classification problem and our main metric is F1 score and True Positives are important to us, we give each class a weight and in our [pytorch] models, use them in BCE Loss Function to make model emphasis more on positive data."
      ]
    },
    {
      "cell_type": "code",
      "execution_count": 109,
      "metadata": {
        "id": "3il79Gk-rmtQ"
      },
      "outputs": [],
      "source": [
        "class_weight = data[target].count() / data[target].value_counts()\n",
        "class_weight = torch.tensor([class_weight[0], class_weight[1]])"
      ]
    },
    {
      "cell_type": "markdown",
      "metadata": {
        "id": "m5hzHDiRGSGw"
      },
      "source": [
        "Defining a pipeline-like structure for cleaning train and validation data more easily:"
      ]
    },
    {
      "cell_type": "code",
      "execution_count": 154,
      "metadata": {
        "id": "FZJgmWAQGENJ"
      },
      "outputs": [],
      "source": [
        "from sklearn.pipeline import Pipeline\n",
        "from sklearn.base import BaseEstimator, TransformerMixin\n",
        "\n",
        "class MyTargetEncoder(BaseEstimator, TransformerMixin):\n",
        "    def __init__(self, target, columns):\n",
        "        self.columns = columns\n",
        "        self.target = target\n",
        "        self.encoders = {}\n",
        "\n",
        "    def fit(self, df, y=None):\n",
        "        for col in self.columns:\n",
        "            ce = TargetEncoder()\n",
        "            ce.fit(df[col], df[self.target])\n",
        "\n",
        "            self.encoders[col] = ce\n",
        "\n",
        "        return self\n",
        "    \n",
        "    def transform(self, df, y=None):\n",
        "        for col in self.columns:\n",
        "            df[col] = self.encoders[col].transform(df[col])\n",
        "        return df[self.columns]\n",
        "\n",
        "class Preproccess(BaseEstimator, TransformerMixin):\n",
        "    def __init__(self, process_func, cleaning_type):\n",
        "        self.process_func = process_func\n",
        "        self.nb_click_threshold = 10000\n",
        "        self.col_threshold = 0.8\n",
        "        self.row_threshold = 0.7\n",
        "        self.cleaning_type = cleaning_type\n",
        "        self.dropping_columns = ['product_category(7)', 'product_category(5)', 'SalesAmountInEuro', 'product_category(6)', 'time_delay_for_conversion', 'product_price', 'user_id', 'product_id']\n",
        "        self.categorical_cols = ['product_category(2)', 'product_title', 'device_type', 'product_category(1)', 'product_brand', 'product_gender', 'audience_id', 'product_category(4)', 'product_country', 'partner_id', 'product_category(3)', 'product_age_group']\n",
        "        self.numercal_cols = ['click_second', 'nb_clicks_1week']\n",
        "\n",
        "    def fit(self, df, y=None):\n",
        "        print('-----[start fitting preproccessore transformer to data]-----')\n",
        "        # convert 'click_timestamp' to 'click_second'\n",
        "        df['click_second'] = df['click_timestamp'].apply(get_seconds)\n",
        "        df = df.drop(columns=['click_timestamp'], errors='ignore')\n",
        "        # drop columns\n",
        "        df = df.drop(columns=self.dropping_columns, errors='ignore')\n",
        "        # replace outliers with nan\n",
        "        df.loc[(df['nb_clicks_1week'] > self.nb_click_threshold), 'nb_clicks_1week'] = np.nan\n",
        "        categories_mode = df[self.categorical_cols].mode()\n",
        "        ce = None\n",
        "        column_categories = None\n",
        "        if self.cleaning_type == 'target_encoder':\n",
        "            ce = MyTargetEncoder('Sale', self.categorical_cols)\n",
        "            df = df.replace([-1, '-1'], np.nan)\n",
        "            # drop rows from df\n",
        "            self.dropping_rows = df.isnull().mean(axis=1) > self.row_threshold\n",
        "            df.drop(df.index[self.dropping_rows], errors='ignore', axis=0, inplace=True)\n",
        "            for col in self.categorical_cols:\n",
        "                df[f'{col}_is_na'] = df[col].isna() * 1\n",
        "                df[col] = df[col].fillna(categories_mode[col])\n",
        "            df[self.categorical_cols] = ce.fit_transform(df)\n",
        "        elif self.cleaning_type == 'other':\n",
        "            df = df.replace({'product_title': np.nan}, '-1')\n",
        "            df[self.numercal_cols] = df[self.numercal_cols].replace(-1, np.nan)\n",
        "            # drop rows from df\n",
        "            self.dropping_rows = df.replace('-1', np.nan).isnull().mean(axis=1) > self.row_threshold\n",
        "            for col, freq in frequency_threshold.items():\n",
        "                if col in df.columns:\n",
        "                    df[col] = delete_low_frequency(df, col, freq)\n",
        "            df[self.categorical_cols] = df[self.categorical_cols].astype('category')\n",
        "            column_categories = {}\n",
        "            for col in self.categorical_cols:\n",
        "                column_categories[col] = df[col].cat.categories\n",
        "                df[col] = df[col].cat.codes\n",
        "            categories_mode = df[self.categorical_cols].mode()\n",
        "\n",
        "        # numerical columns median and categorical columns mode\n",
        "        numerical_median = df[self.numercal_cols].median()\n",
        "        df[self.numercal_cols] = df[self.numercal_cols].fillna(numerical_median)\n",
        "        # save mean and std of columns\n",
        "        saved_mean = df[self.numercal_cols].mean()\n",
        "        saved_std = df[self.numercal_cols].std()\n",
        "\n",
        "        # drop those columns with std = 0\n",
        "        self.dropping_columns += df.columns[df.std() == 0].tolist()\n",
        "\n",
        "        df[self.numercal_cols] = (df[self.numercal_cols] - saved_mean) / saved_std\n",
        "        df = df[[target] +self.numercal_cols + self.categorical_cols]\n",
        "\n",
        "        # saving parameters to use in transform\n",
        "        self.ce = ce\n",
        "        self.numerical_median = numerical_median\n",
        "        self.categories_mode = categories_mode\n",
        "        self.saved_mean = saved_mean\n",
        "        self.saved_std = saved_std\n",
        "        self.column_categories = column_categories\n",
        "        \n",
        "        print('-----[fitting transformer to data is done!]-----')\n",
        "        return self\n",
        "\n",
        "    def transform(self, df, y=None):\n",
        "        return self.process_func(df, self.dropping_columns, self.numerical_median, self.categories_mode, self.column_categories, self.saved_mean, self.saved_std, self.cleaning_type, self.ce)\n",
        "\n",
        "    def train_fit_transform(self, df, y=None):\n",
        "        df = self.fit_transform(df)\n",
        "        return df.drop(df.index[self.dropping_rows], errors='ignore', axis=0)"
      ]
    },
    {
      "cell_type": "code",
      "execution_count": 147,
      "metadata": {
        "id": "EQ-M20QNGesw"
      },
      "outputs": [],
      "source": [
        "df = pd.read_csv('https://github.com/a80-abbasi/ML_Project/blob/main/train_dataset.csv?raw=true')\n",
        "# df = pd.read_csv('train_dataset.csv')\n",
        "train_data, val_data = train_test_split(df, test_size=0.2)"
      ]
    },
    {
      "cell_type": "markdown",
      "metadata": {
        "id": "BRhQgd5MOFvq"
      },
      "source": [
        "## 2.1. Pytorch Neural Network Model"
      ]
    },
    {
      "cell_type": "markdown",
      "metadata": {
        "id": "6EcPrU5MOFvr"
      },
      "source": [
        "We define a simple neural network model consisting multiple Linear layers, ReLU activation functions and Dropout for preventing overfitting on training data.  "
      ]
    },
    {
      "cell_type": "code",
      "execution_count": 37,
      "metadata": {
        "id": "SmeM2kzJigVw"
      },
      "outputs": [],
      "source": [
        "class SalePrediction(nn.Module):\n",
        "\n",
        "    def __init__(self, input_size):\n",
        "        super().__init__()\n",
        "        #input\n",
        "        self.input_size = input_size\n",
        "        self.dropout = nn.Dropout(p=0.4)\n",
        "        self.lnn = nn.Sequential(\n",
        "            nn.Linear(self.input_size, 256),\n",
        "            nn.ReLU(),\n",
        "            self.dropout,\n",
        "            nn.Linear(256, 128),\n",
        "            nn.ReLU(),\n",
        "            self.dropout,\n",
        "            nn.Linear(128, 64),\n",
        "            nn.ReLU(),\n",
        "            self.dropout,\n",
        "            nn.Linear(64, 32),\n",
        "            nn.ReLU(),\n",
        "            self.dropout,\n",
        "            nn.Linear(32, 1),\n",
        "            nn.Sigmoid()\n",
        "        )\n",
        "        \n",
        "    \n",
        "    def forward(self, x: torch.tensor):\n",
        "        x = x.view(-1, self.input_size)\n",
        "        return self.lnn(x)\n",
        "\n",
        "    def predict(self, x):\n",
        "        return self.forward(x)"
      ]
    },
    {
      "cell_type": "markdown",
      "metadata": {
        "id": "doRocVRcOFvs"
      },
      "source": [
        "Creating Dataset and Dataloader from our training and validation data:"
      ]
    },
    {
      "cell_type": "code",
      "execution_count": 166,
      "metadata": {
        "id": "34NQ5behigVw"
      },
      "outputs": [],
      "source": [
        "# for pickling processor\n",
        "from pickle import load, dump\n",
        "\n",
        "# creating function for getting dataloaders of train data and val data\n",
        "def get_dataloaders(train_data, val_data,  batch_size=32):\n",
        "    Y_train = train_data[target].to_numpy(dtype='float32')\n",
        "    X_train = train_data.drop(columns=[target]).to_numpy(dtype='float32')\n",
        "    Y_val = val_data[target].to_numpy(dtype='float32')\n",
        "    X_val = val_data.drop(columns=[target], errors='ignore').to_numpy(dtype='float32')\n",
        "    train_set = SalePredictionDataset(X_train, Y_train)\n",
        "    val_set = SalePredictionDataset(X_val, Y_val)\n",
        "    train_loader = DataLoader(dataset=train_set, batch_size=batch_size, shuffle=False)\n",
        "    val_loader = DataLoader(dataset=val_set, batch_size=batch_size, shuffle=False)\n",
        "    return train_loader, val_loader\n",
        "\n",
        "preprocessor = Preproccess(data_preprocess, OTHER)\n",
        "processed_train = preprocessor.fit_transform(train_data)\n",
        "processed_val = preprocessor.transform(val_data)\n",
        "dump(preprocessor, open('other_preprocessor.pkl', 'wb'))\n",
        "train_loader, val_loader = get_dataloaders(processed_train, processed_val, 32)"
      ]
    },
    {
      "cell_type": "markdown",
      "metadata": {
        "id": "zmgT6n9V_qHS"
      },
      "source": [
        "Creating train and validate functions for more convenience.  \n",
        "Note how we used class weights in BCELoss in order to get a better F1 score:"
      ]
    },
    {
      "cell_type": "code",
      "execution_count": 167,
      "metadata": {
        "id": "qW6-bnEkigVx"
      },
      "outputs": [],
      "source": [
        "def train(model, optimizer, epoch):\n",
        "    train_loss = 0\n",
        "    N_train = len(train_loader.dataset)\n",
        "\n",
        "    model.train()\n",
        "    with tqdm.tqdm(enumerate(train_loader), total=len(train_loader)) as pbar:\n",
        "        for i, (x, y) in pbar:\n",
        "            optimizer.zero_grad()\n",
        "\n",
        "            x = x.to(device)\n",
        "            y = y.view(-1, 1).to(device)\n",
        "            p = model(x)\n",
        "            \n",
        "            # Weighted BCELoss, punishing wrong prediction of true label more heavily\n",
        "            criterion = nn.BCELoss(weight=torch.tensor([class_weight[val] for val in y.to(torch.long)]).view(-1, 1)).to(device)\n",
        "            loss = criterion(p, y)\n",
        "            train_loss += loss.item() * len(x)\n",
        "\n",
        "            pbar.set_description(f'Epoch:{epoch}, Train Loss: {train_loss / N_train:.3e}')\n",
        "            \n",
        "            loss.backward()\n",
        "            optimizer.step()\n",
        "    \n",
        "    train_loss /= N_train\n",
        "    mlflow.log_metric('train_loss', train_loss)\n",
        "    return train_loss\n",
        "\n",
        "\n",
        "def validate(model, epoch):\n",
        "    val_loss = 0\n",
        "    N_val = len(val_loader.dataset)\n",
        "\n",
        "    model.eval()\n",
        "    with torch.no_grad(), tqdm.tqdm(enumerate(val_loader), total=len(val_loader)) as pbar:\n",
        "        for i, (x, y) in pbar:\n",
        "            x = x.to(device)\n",
        "            y = y.view(-1, 1).to(device)\n",
        "            p = model(x)\n",
        "\n",
        "            criterion = nn.BCELoss(weight=torch.tensor([class_weight[val] for val in y.to(torch.long)]).view(-1, 1)).to(device)\n",
        "            loss = criterion(p, y)\n",
        "            val_loss += loss.item() * len(x)\n",
        "\n",
        "            pbar.set_description(f'Epoch:{epoch}, Val Loss: {val_loss / N_val:.3e}')\n",
        "    \n",
        "    print('-------------------------------------------------------------------')\n",
        "    val_loss /= N_val\n",
        "    mlflow.log_metric('val_loss', val_loss)\n",
        "    return val_loss"
      ]
    },
    {
      "cell_type": "markdown",
      "metadata": {
        "id": "FX6OALlqOFvs"
      },
      "source": [
        "This function trians given pytorch model and returns the best result of training process, plots learning curves for train and validation sets and finally prints metrics' values. Also this function tracks and logs hyperparameters, learning curves and model it self with MLFlow."
      ]
    },
    {
      "cell_type": "code",
      "execution_count": 168,
      "metadata": {
        "id": "9jwmZQYsKHN3"
      },
      "outputs": [],
      "source": [
        "def do_expriment(model, optimizer, num_epochs, model_name, threshold=0.5):\n",
        "\n",
        "    train_loss_arr, val_loss_arr = np.zeros(num_epochs), np.zeros(num_epochs)\n",
        "\n",
        "    with mlflow.start_run():\n",
        "        mlflow.log_param('learning_rate', lr)\n",
        "        mlflow.log_param('num_epochs', num_epochs)\n",
        "        \n",
        "        val_loss_min = float('inf')\n",
        "\n",
        "        for epoch in range(num_epochs):\n",
        "            train_loss = train(model, optimizer, epoch)\n",
        "            val_loss = validate(model, epoch)\n",
        "\n",
        "            train_loss_arr[epoch] = train_loss\n",
        "            val_loss_arr[epoch] = val_loss\n",
        "\n",
        "            if val_loss <= val_loss_min:\n",
        "                torch.save(model.state_dict(), f'{model_name}.pt')\n",
        "                val_loss_min = val_loss\n",
        "\n",
        "        # load best model during different epochs\n",
        "        model.load_state_dict(torch.load(f'{model_name}.pt'))\n",
        "\n",
        "        # log trained model\n",
        "        print(\"\\nLogging the trained model as a run artifact...\")\n",
        "        mlflow.pytorch.log_model(model, artifact_path=\"pytorch-model\", pickle_module=pickle)\n",
        "        print('Logging the trained model is done')\n",
        "\n",
        "        # metrics\n",
        "        X_train, Y_train = train_loader.dataset[:]\n",
        "        X_val, Y_val = val_loader.dataset[:]\n",
        "\n",
        "        model = model.to('cpu')\n",
        "\n",
        "        train_preds = model(X_train).view(-1) >= 0\n",
        "        val_preds = model(X_val).view(-1) >= 0\n",
        "\n",
        "        mlflow.log_metric('Train Precision', precision_score(Y_train, train_preds, average='macro'))\n",
        "        mlflow.log_metric('Train Recall' ,recall_score(Y_train, train_preds, average='macro'))\n",
        "        mlflow.log_metric('Train F1Score', f1_score(Y_train, train_preds))\n",
        "\n",
        "        mlflow.log_metric('val Precision', precision_score(Y_val, val_preds, average='macro'))\n",
        "        mlflow.log_metric('val Recall', recall_score(Y_val, val_preds, average='macro'))\n",
        "        mlflow.log_metric('val F1Score', f1_score(Y_val, val_preds))\n",
        "\n",
        "        plt.plot(train_loss_arr, label='train')\n",
        "        plt.plot(val_loss_arr, label='val')\n",
        "        plt.legend();\n",
        "\n",
        "        print_metrics_evaluation(Y_train.view(-1).detach(), model(X_train).view(-1).detach() >= threshold, f'{model_name}: Metrics on Training Data')\n",
        "        print_metrics_evaluation(Y_val.view(-1).detach(), model(X_val).view(-1).detach() >= threshold, f'{model_name}: Metrics on Validation Data')\n",
        "\n",
        "        model = model.to(device)\n",
        "\n",
        "        return train_loss_arr, val_loss_arr, model"
      ]
    },
    {
      "cell_type": "code",
      "execution_count": 45,
      "metadata": {
        "colab": {
          "base_uri": "https://localhost:8080/",
          "height": 1000
        },
        "id": "kIdFiSvORVsk",
        "outputId": "116a5080-cff3-44be-c1fd-c244adda2dfb"
      },
      "outputs": [
        {
          "name": "stderr",
          "output_type": "stream",
          "text": [
            "Epoch:0, Train Loss: 1.370e+00: 100%|██████████| 1904/1904 [00:18<00:00, 105.27it/s]\n",
            "Epoch:0, Val Loss: 1.355e+00: 100%|██████████| 625/625 [00:04<00:00, 147.19it/s]\n"
          ]
        },
        {
          "name": "stdout",
          "output_type": "stream",
          "text": [
            "-------------------------------------------------------------------\n"
          ]
        },
        {
          "name": "stderr",
          "output_type": "stream",
          "text": [
            "Epoch:1, Train Loss: 1.347e+00: 100%|██████████| 1904/1904 [00:18<00:00, 103.09it/s]\n",
            "Epoch:1, Val Loss: 1.339e+00: 100%|██████████| 625/625 [00:04<00:00, 149.88it/s]\n"
          ]
        },
        {
          "name": "stdout",
          "output_type": "stream",
          "text": [
            "-------------------------------------------------------------------\n"
          ]
        },
        {
          "name": "stderr",
          "output_type": "stream",
          "text": [
            "Epoch:2, Train Loss: 1.336e+00: 100%|██████████| 1904/1904 [00:18<00:00, 105.19it/s]\n",
            "Epoch:2, Val Loss: 1.331e+00: 100%|██████████| 625/625 [00:04<00:00, 147.78it/s]\n"
          ]
        },
        {
          "name": "stdout",
          "output_type": "stream",
          "text": [
            "-------------------------------------------------------------------\n"
          ]
        },
        {
          "name": "stderr",
          "output_type": "stream",
          "text": [
            "Epoch:3, Train Loss: 1.329e+00: 100%|██████████| 1904/1904 [00:18<00:00, 105.38it/s]\n",
            "Epoch:3, Val Loss: 1.327e+00: 100%|██████████| 625/625 [00:04<00:00, 146.11it/s]\n"
          ]
        },
        {
          "name": "stdout",
          "output_type": "stream",
          "text": [
            "-------------------------------------------------------------------\n"
          ]
        },
        {
          "name": "stderr",
          "output_type": "stream",
          "text": [
            "Epoch:4, Train Loss: 1.325e+00: 100%|██████████| 1904/1904 [00:19<00:00, 98.54it/s] \n",
            "Epoch:4, Val Loss: 1.321e+00: 100%|██████████| 625/625 [00:04<00:00, 149.50it/s]\n"
          ]
        },
        {
          "name": "stdout",
          "output_type": "stream",
          "text": [
            "-------------------------------------------------------------------\n"
          ]
        },
        {
          "name": "stderr",
          "output_type": "stream",
          "text": [
            "Epoch:5, Train Loss: 1.324e+00: 100%|██████████| 1904/1904 [00:18<00:00, 103.56it/s]\n",
            "Epoch:5, Val Loss: 1.318e+00: 100%|██████████| 625/625 [00:04<00:00, 148.51it/s]\n"
          ]
        },
        {
          "name": "stdout",
          "output_type": "stream",
          "text": [
            "-------------------------------------------------------------------\n"
          ]
        },
        {
          "name": "stderr",
          "output_type": "stream",
          "text": [
            "Epoch:6, Train Loss: 1.318e+00: 100%|██████████| 1904/1904 [00:18<00:00, 104.44it/s]\n",
            "Epoch:6, Val Loss: 1.316e+00: 100%|██████████| 625/625 [00:04<00:00, 146.62it/s]\n"
          ]
        },
        {
          "name": "stdout",
          "output_type": "stream",
          "text": [
            "-------------------------------------------------------------------\n"
          ]
        },
        {
          "name": "stderr",
          "output_type": "stream",
          "text": [
            "Epoch:7, Train Loss: 1.315e+00: 100%|██████████| 1904/1904 [00:18<00:00, 104.99it/s]\n",
            "Epoch:7, Val Loss: 1.313e+00: 100%|██████████| 625/625 [00:04<00:00, 148.55it/s]\n"
          ]
        },
        {
          "name": "stdout",
          "output_type": "stream",
          "text": [
            "-------------------------------------------------------------------\n"
          ]
        },
        {
          "name": "stderr",
          "output_type": "stream",
          "text": [
            "Epoch:8, Train Loss: 1.317e+00: 100%|██████████| 1904/1904 [00:18<00:00, 105.11it/s]\n",
            "Epoch:8, Val Loss: 1.312e+00: 100%|██████████| 625/625 [00:04<00:00, 148.55it/s]\n"
          ]
        },
        {
          "name": "stdout",
          "output_type": "stream",
          "text": [
            "-------------------------------------------------------------------\n"
          ]
        },
        {
          "name": "stderr",
          "output_type": "stream",
          "text": [
            "Epoch:9, Train Loss: 1.309e+00: 100%|██████████| 1904/1904 [00:18<00:00, 105.21it/s]\n",
            "Epoch:9, Val Loss: 1.309e+00: 100%|██████████| 625/625 [00:04<00:00, 144.95it/s]\n"
          ]
        },
        {
          "name": "stdout",
          "output_type": "stream",
          "text": [
            "-------------------------------------------------------------------\n"
          ]
        },
        {
          "name": "stderr",
          "output_type": "stream",
          "text": [
            "Epoch:10, Train Loss: 1.313e+00: 100%|██████████| 1904/1904 [00:18<00:00, 103.86it/s]\n",
            "Epoch:10, Val Loss: 1.310e+00: 100%|██████████| 625/625 [00:04<00:00, 145.48it/s]\n"
          ]
        },
        {
          "name": "stdout",
          "output_type": "stream",
          "text": [
            "-------------------------------------------------------------------\n"
          ]
        },
        {
          "name": "stderr",
          "output_type": "stream",
          "text": [
            "Epoch:11, Train Loss: 1.309e+00: 100%|██████████| 1904/1904 [00:18<00:00, 104.51it/s]\n",
            "Epoch:11, Val Loss: 1.308e+00: 100%|██████████| 625/625 [00:04<00:00, 147.18it/s]\n"
          ]
        },
        {
          "name": "stdout",
          "output_type": "stream",
          "text": [
            "-------------------------------------------------------------------\n"
          ]
        },
        {
          "name": "stderr",
          "output_type": "stream",
          "text": [
            "Epoch:12, Train Loss: 1.308e+00: 100%|██████████| 1904/1904 [00:18<00:00, 105.05it/s]\n",
            "Epoch:12, Val Loss: 1.314e+00: 100%|██████████| 625/625 [00:04<00:00, 145.98it/s]\n"
          ]
        },
        {
          "name": "stdout",
          "output_type": "stream",
          "text": [
            "-------------------------------------------------------------------\n"
          ]
        },
        {
          "name": "stderr",
          "output_type": "stream",
          "text": [
            "Epoch:13, Train Loss: 1.305e+00: 100%|██████████| 1904/1904 [00:18<00:00, 104.67it/s]\n",
            "Epoch:13, Val Loss: 1.308e+00: 100%|██████████| 625/625 [00:04<00:00, 144.81it/s]\n"
          ]
        },
        {
          "name": "stdout",
          "output_type": "stream",
          "text": [
            "-------------------------------------------------------------------\n"
          ]
        },
        {
          "name": "stderr",
          "output_type": "stream",
          "text": [
            "Epoch:14, Train Loss: 1.306e+00: 100%|██████████| 1904/1904 [00:18<00:00, 104.12it/s]\n",
            "Epoch:14, Val Loss: 1.309e+00: 100%|██████████| 625/625 [00:04<00:00, 145.97it/s]\n"
          ]
        },
        {
          "name": "stdout",
          "output_type": "stream",
          "text": [
            "-------------------------------------------------------------------\n"
          ]
        },
        {
          "name": "stderr",
          "output_type": "stream",
          "text": [
            "Epoch:15, Train Loss: 1.306e+00: 100%|██████████| 1904/1904 [00:18<00:00, 103.77it/s]\n",
            "Epoch:15, Val Loss: 1.304e+00: 100%|██████████| 625/625 [00:04<00:00, 146.89it/s]\n"
          ]
        },
        {
          "name": "stdout",
          "output_type": "stream",
          "text": [
            "-------------------------------------------------------------------\n"
          ]
        },
        {
          "name": "stderr",
          "output_type": "stream",
          "text": [
            "Epoch:16, Train Loss: 1.304e+00: 100%|██████████| 1904/1904 [00:18<00:00, 104.03it/s]\n",
            "Epoch:16, Val Loss: 1.315e+00: 100%|██████████| 625/625 [00:04<00:00, 146.32it/s]\n"
          ]
        },
        {
          "name": "stdout",
          "output_type": "stream",
          "text": [
            "-------------------------------------------------------------------\n"
          ]
        },
        {
          "name": "stderr",
          "output_type": "stream",
          "text": [
            "Epoch:17, Train Loss: 1.306e+00: 100%|██████████| 1904/1904 [00:18<00:00, 104.05it/s]\n",
            "Epoch:17, Val Loss: 1.309e+00: 100%|██████████| 625/625 [00:04<00:00, 145.58it/s]\n"
          ]
        },
        {
          "name": "stdout",
          "output_type": "stream",
          "text": [
            "-------------------------------------------------------------------\n"
          ]
        },
        {
          "name": "stderr",
          "output_type": "stream",
          "text": [
            "Epoch:18, Train Loss: 1.302e+00: 100%|██████████| 1904/1904 [00:18<00:00, 104.40it/s]\n",
            "Epoch:18, Val Loss: 1.311e+00: 100%|██████████| 625/625 [00:04<00:00, 145.45it/s]\n"
          ]
        },
        {
          "name": "stdout",
          "output_type": "stream",
          "text": [
            "-------------------------------------------------------------------\n"
          ]
        },
        {
          "name": "stderr",
          "output_type": "stream",
          "text": [
            "Epoch:19, Train Loss: 1.301e+00: 100%|██████████| 1904/1904 [00:18<00:00, 103.54it/s]\n",
            "Epoch:19, Val Loss: 1.309e+00: 100%|██████████| 625/625 [00:04<00:00, 145.19it/s]\n"
          ]
        },
        {
          "name": "stdout",
          "output_type": "stream",
          "text": [
            "-------------------------------------------------------------------\n"
          ]
        },
        {
          "name": "stderr",
          "output_type": "stream",
          "text": [
            "Epoch:20, Train Loss: 1.300e+00: 100%|██████████| 1904/1904 [00:18<00:00, 104.49it/s]\n",
            "Epoch:20, Val Loss: 1.307e+00: 100%|██████████| 625/625 [00:04<00:00, 143.05it/s]\n"
          ]
        },
        {
          "name": "stdout",
          "output_type": "stream",
          "text": [
            "-------------------------------------------------------------------\n"
          ]
        },
        {
          "name": "stderr",
          "output_type": "stream",
          "text": [
            "Epoch:21, Train Loss: 1.300e+00: 100%|██████████| 1904/1904 [00:18<00:00, 103.95it/s]\n",
            "Epoch:21, Val Loss: 1.305e+00: 100%|██████████| 625/625 [00:04<00:00, 145.22it/s]\n"
          ]
        },
        {
          "name": "stdout",
          "output_type": "stream",
          "text": [
            "-------------------------------------------------------------------\n"
          ]
        },
        {
          "name": "stderr",
          "output_type": "stream",
          "text": [
            "Epoch:22, Train Loss: 1.305e+00: 100%|██████████| 1904/1904 [00:18<00:00, 103.99it/s]\n",
            "Epoch:22, Val Loss: 1.313e+00: 100%|██████████| 625/625 [00:04<00:00, 142.57it/s]\n"
          ]
        },
        {
          "name": "stdout",
          "output_type": "stream",
          "text": [
            "-------------------------------------------------------------------\n"
          ]
        },
        {
          "name": "stderr",
          "output_type": "stream",
          "text": [
            "Epoch:23, Train Loss: 1.300e+00: 100%|██████████| 1904/1904 [00:18<00:00, 102.21it/s]\n",
            "Epoch:23, Val Loss: 1.307e+00: 100%|██████████| 625/625 [00:04<00:00, 141.67it/s]\n"
          ]
        },
        {
          "name": "stdout",
          "output_type": "stream",
          "text": [
            "-------------------------------------------------------------------\n"
          ]
        },
        {
          "name": "stderr",
          "output_type": "stream",
          "text": [
            "Epoch:24, Train Loss: 1.303e+00: 100%|██████████| 1904/1904 [00:18<00:00, 103.43it/s]\n",
            "Epoch:24, Val Loss: 1.305e+00: 100%|██████████| 625/625 [00:04<00:00, 142.10it/s]\n"
          ]
        },
        {
          "name": "stdout",
          "output_type": "stream",
          "text": [
            "-------------------------------------------------------------------\n"
          ]
        },
        {
          "name": "stderr",
          "output_type": "stream",
          "text": [
            "Epoch:25, Train Loss: 1.299e+00: 100%|██████████| 1904/1904 [00:18<00:00, 102.87it/s]\n",
            "Epoch:25, Val Loss: 1.309e+00: 100%|██████████| 625/625 [00:04<00:00, 142.68it/s]\n"
          ]
        },
        {
          "name": "stdout",
          "output_type": "stream",
          "text": [
            "-------------------------------------------------------------------\n"
          ]
        },
        {
          "name": "stderr",
          "output_type": "stream",
          "text": [
            "Epoch:26, Train Loss: 1.300e+00: 100%|██████████| 1904/1904 [00:18<00:00, 102.98it/s]\n",
            "Epoch:26, Val Loss: 1.306e+00: 100%|██████████| 625/625 [00:04<00:00, 144.21it/s]\n"
          ]
        },
        {
          "name": "stdout",
          "output_type": "stream",
          "text": [
            "-------------------------------------------------------------------\n"
          ]
        },
        {
          "name": "stderr",
          "output_type": "stream",
          "text": [
            "Epoch:27, Train Loss: 1.303e+00: 100%|██████████| 1904/1904 [00:18<00:00, 102.79it/s]\n",
            "Epoch:27, Val Loss: 1.308e+00: 100%|██████████| 625/625 [00:04<00:00, 142.73it/s]\n"
          ]
        },
        {
          "name": "stdout",
          "output_type": "stream",
          "text": [
            "-------------------------------------------------------------------\n"
          ]
        },
        {
          "name": "stderr",
          "output_type": "stream",
          "text": [
            "Epoch:28, Train Loss: 1.299e+00: 100%|██████████| 1904/1904 [00:18<00:00, 102.85it/s]\n",
            "Epoch:28, Val Loss: 1.299e+00: 100%|██████████| 625/625 [00:04<00:00, 142.80it/s]\n"
          ]
        },
        {
          "name": "stdout",
          "output_type": "stream",
          "text": [
            "-------------------------------------------------------------------\n"
          ]
        },
        {
          "name": "stderr",
          "output_type": "stream",
          "text": [
            "Epoch:29, Train Loss: 1.297e+00: 100%|██████████| 1904/1904 [00:18<00:00, 103.60it/s]\n",
            "Epoch:29, Val Loss: 1.303e+00: 100%|██████████| 625/625 [00:04<00:00, 143.13it/s]\n",
            "2022/02/09 01:33:37 WARNING mlflow.utils.requirements_utils: Found torch version (1.10.0+cu111) contains a local version label (+cu111). MLflow logged a pip requirement for this package as 'torch==1.10.0' without the local version label to make it installable from PyPI. To specify pip requirements containing local version labels, please use `conda_env` or `pip_requirements`.\n"
          ]
        },
        {
          "name": "stdout",
          "output_type": "stream",
          "text": [
            "-------------------------------------------------------------------\n",
            "\n",
            "Logging the trained model as a run artifact...\n"
          ]
        },
        {
          "name": "stderr",
          "output_type": "stream",
          "text": [
            "2022/02/09 01:33:39 WARNING mlflow.utils.environment: Encountered an unexpected error while inferring pip requirements (model URI: /tmp/tmpzh2qt89l/model/data, flavor: pytorch), fall back to return ['torch==1.10.0', 'cloudpickle==1.3.0']. Set logging level to DEBUG to see the full traceback.\n"
          ]
        },
        {
          "name": "stdout",
          "output_type": "stream",
          "text": [
            "Logging the trained model is done\n"
          ]
        },
        {
          "name": "stderr",
          "output_type": "stream",
          "text": [
            "/usr/local/lib/python3.7/dist-packages/sklearn/metrics/_classification.py:1318: UndefinedMetricWarning: Precision is ill-defined and being set to 0.0 in labels with no predicted samples. Use `zero_division` parameter to control this behavior.\n",
            "  _warn_prf(average, modifier, msg_start, len(result))\n",
            "/usr/local/lib/python3.7/dist-packages/sklearn/metrics/_classification.py:1318: UndefinedMetricWarning: Precision is ill-defined and being set to 0.0 in labels with no predicted samples. Use `zero_division` parameter to control this behavior.\n",
            "  _warn_prf(average, modifier, msg_start, len(result))\n"
          ]
        },
        {
          "name": "stdout",
          "output_type": "stream",
          "text": [
            "NNModel1: Metrics on Training Data:\n",
            "accuracy_score = 0.6130334865397242\n",
            "precision_score = 0.2114649199197304\n",
            "recall_score = 0.6702268090723629\n",
            "f1_score = 0.32149435873819937\n",
            "\n",
            "NNModel1: Metrics on Validation Data:\n",
            "accuracy_score = 0.60105\n",
            "precision_score = 0.20082295119442223\n",
            "recall_score = 0.6403061224489796\n",
            "f1_score = 0.30575132689463147\n",
            "\n"
          ]
        },
        {
          "data": {
            "image/png": "[encoded data removed]",
            "text/plain": [
              "<Figure size 432x288 with 1 Axes>"
            ]
          },
          "metadata": {
            "needs_background": "light"
          },
          "output_type": "display_data"
        }
      ],
      "source": [
        "model = SalePrediction(data.shape[1] - 1).to(device)\n",
        "lr=1e-3\n",
        "optimizer = torch.optim.Adam(model.parameters(), lr=lr)\n",
        "train_loss_arr, val_loss_arr, model = do_expriment(model, optimizer, num_epochs=30, model_name='NNModel1', threshold=0.5)"
      ]
    },
    {
      "cell_type": "markdown",
      "metadata": {
        "id": "AIRzBVC6uQu-"
      },
      "source": [
        "## 2.2. TensorFlow"
      ]
    },
    {
      "cell_type": "markdown",
      "metadata": {
        "id": "ZOG4NsTD_qHT"
      },
      "source": [
        "Simple Neural Network Model implented via Tensorflow. It is much like above model but tensorflow has a much simpler process of training.  \n",
        "Their only difference is that our Tensorflow model use Target Encoding to encode categorical data:"
      ]
    },
    {
      "cell_type": "code",
      "execution_count": 159,
      "metadata": {
        "id": "jWhaG2YjuWLH"
      },
      "outputs": [],
      "source": [
        "import mlflow.tensorflow\n",
        "import tensorflow as tf\n",
        "from tensorflow import keras\n",
        "from tensorflow.keras import Sequential\n",
        "from tensorflow.keras.layers import Dense, Dropout\n",
        "from keras.constraints import maxnorm"
      ]
    },
    {
      "cell_type": "code",
      "execution_count": 160,
      "metadata": {
        "id": "cqSdYioSuoA_"
      },
      "outputs": [],
      "source": [
        "model = Sequential([\n",
        "    Dense(60, activation='relu', kernel_constraint=maxnorm(3)),\n",
        "    Dense(60, activation='relu', kernel_constraint=maxnorm(3)),\n",
        "    Dense(60, activation='relu', kernel_constraint=maxnorm(3)),\n",
        "    Dense(30, activation='relu', kernel_constraint=maxnorm(3)),\n",
        "    Dense(1, activation='sigmoid')\n",
        "])\n",
        "\n",
        "model.compile(\n",
        "    # loss='binary_focal_crossentropy',\n",
        "    loss=keras.losses.BinaryCrossentropy(),\n",
        "    optimizer=keras.optimizers.Adam(learning_rate=1e-4),\n",
        "    metrics=['TruePositives']\n",
        ")"
      ]
    },
    {
      "cell_type": "code",
      "execution_count": 161,
      "metadata": {
        "colab": {
          "base_uri": "https://localhost:8080/"
        },
        "id": "1pxDyFKMurH4",
        "outputId": "52095017-02a4-4686-f654-793af2798e70"
      },
      "outputs": [
        {
          "name": "stdout",
          "output_type": "stream",
          "text": [
            "-----[start fitting preproccessore transformer to data]-----\n",
            "-----[fitting transformer to data is done!]-----\n"
          ]
        }
      ],
      "source": [
        "preprocessor = Preproccess(data_preprocess, TARGET_ENCODER)\n",
        "processed_train = preprocessor.fit_transform(train_data)\n",
        "processed_val = preprocessor.transform(val_data)\n",
        "\n",
        "X_train = processed_train.drop(columns=[target], errors='ignore').astype('float32')\n",
        "Y_train = processed_train[target].astype('float32')\n",
        "X_val = processed_val.drop(columns=[target], errors='ignore').astype('float32')\n",
        "Y_val = processed_val['Sale'].astype('float32')"
      ]
    },
    {
      "cell_type": "code",
      "execution_count": 162,
      "metadata": {
        "colab": {
          "base_uri": "https://localhost:8080/"
        },
        "id": "QRvG6bt8u7nW",
        "outputId": "2b90ea0e-6e83-4abf-8cbb-61f296842ada"
      },
      "outputs": [
        {
          "name": "stderr",
          "output_type": "stream",
          "text": [
            "2022/02/09 07:28:04 WARNING mlflow.utils.autologging_utils: Encountered unexpected error during autologging: This model has not yet been built. Build the model first by calling `build()` or by calling the model on a batch of data.\n"
          ]
        },
        {
          "name": "stdout",
          "output_type": "stream",
          "text": [
            "Epoch 1/30\n",
            "1250/1250 [==============================] - 9s 6ms/step - loss: 0.1298 - true_positives: 10328.0000 - val_loss: 0.6974 - val_true_positives: 1848.0000\n",
            "Epoch 2/30\n",
            "1250/1250 [==============================] - 8s 6ms/step - loss: 0.1136 - true_positives: 9260.0000 - val_loss: 0.7157 - val_true_positives: 1957.0000\n",
            "Epoch 3/30\n",
            "1250/1250 [==============================] - 7s 6ms/step - loss: 0.1103 - true_positives: 9350.0000 - val_loss: 0.7589 - val_true_positives: 2146.0000\n",
            "Epoch 4/30\n",
            "1250/1250 [==============================] - 7s 6ms/step - loss: 0.1084 - true_positives: 9425.0000 - val_loss: 0.7714 - val_true_positives: 2166.0000\n",
            "Epoch 5/30\n",
            "1250/1250 [==============================] - 8s 6ms/step - loss: 0.1074 - true_positives: 9474.0000 - val_loss: 0.7016 - val_true_positives: 1999.0000\n",
            "Epoch 6/30\n",
            "1250/1250 [==============================] - 8s 6ms/step - loss: 0.1067 - true_positives: 9516.0000 - val_loss: 0.6725 - val_true_positives: 1790.0000\n",
            "Epoch 7/30\n",
            "1250/1250 [==============================] - 8s 6ms/step - loss: 0.1061 - true_positives: 9533.0000 - val_loss: 0.7251 - val_true_positives: 2070.0000\n",
            "Epoch 8/30\n",
            "1250/1250 [==============================] - 8s 6ms/step - loss: 0.1056 - true_positives: 9583.0000 - val_loss: 0.6926 - val_true_positives: 1833.0000\n",
            "Epoch 9/30\n",
            "1250/1250 [==============================] - 12s 10ms/step - loss: 0.1054 - true_positives: 9589.0000 - val_loss: 0.7231 - val_true_positives: 2060.0000\n",
            "Epoch 10/30\n",
            "1250/1250 [==============================] - 8s 6ms/step - loss: 0.1052 - true_positives: 9648.0000 - val_loss: 0.7423 - val_true_positives: 2124.0000\n",
            "Epoch 11/30\n",
            "1250/1250 [==============================] - 8s 6ms/step - loss: 0.1048 - true_positives: 9630.0000 - val_loss: 0.6750 - val_true_positives: 1844.0000\n",
            "Epoch 12/30\n",
            "1250/1250 [==============================] - 7s 6ms/step - loss: 0.1047 - true_positives: 9660.0000 - val_loss: 0.7320 - val_true_positives: 2052.0000\n",
            "Epoch 13/30\n",
            "1250/1250 [==============================] - 8s 6ms/step - loss: 0.1044 - true_positives: 9671.0000 - val_loss: 0.7141 - val_true_positives: 2030.0000\n",
            "Epoch 14/30\n",
            "1250/1250 [==============================] - 8s 6ms/step - loss: 0.1043 - true_positives: 9681.0000 - val_loss: 0.7751 - val_true_positives: 2195.0000\n",
            "Epoch 15/30\n",
            "1250/1250 [==============================] - 8s 6ms/step - loss: 0.1043 - true_positives: 9715.0000 - val_loss: 0.7588 - val_true_positives: 2111.0000\n",
            "Epoch 16/30\n",
            "1250/1250 [==============================] - 7s 6ms/step - loss: 0.1042 - true_positives: 9715.0000 - val_loss: 0.6676 - val_true_positives: 1755.0000\n",
            "Epoch 17/30\n",
            "1250/1250 [==============================] - 7s 6ms/step - loss: 0.1040 - true_positives: 9722.0000 - val_loss: 0.6695 - val_true_positives: 1821.0000\n",
            "Epoch 18/30\n",
            "1250/1250 [==============================] - 8s 6ms/step - loss: 0.1040 - true_positives: 9713.0000 - val_loss: 0.7533 - val_true_positives: 2128.0000\n",
            "Epoch 19/30\n",
            "1250/1250 [==============================] - 8s 6ms/step - loss: 0.1039 - true_positives: 9722.0000 - val_loss: 0.7427 - val_true_positives: 2104.0000\n",
            "Epoch 20/30\n",
            "1250/1250 [==============================] - 7s 6ms/step - loss: 0.1038 - true_positives: 9750.0000 - val_loss: 0.7494 - val_true_positives: 2112.0000\n",
            "Epoch 21/30\n",
            "1250/1250 [==============================] - 8s 6ms/step - loss: 0.1037 - true_positives: 9740.0000 - val_loss: 0.7362 - val_true_positives: 2101.0000\n",
            "Epoch 22/30\n",
            "1250/1250 [==============================] - 8s 6ms/step - loss: 0.1035 - true_positives: 9746.0000 - val_loss: 0.7464 - val_true_positives: 2099.0000\n",
            "Epoch 23/30\n",
            "1250/1250 [==============================] - 7s 6ms/step - loss: 0.1036 - true_positives: 9747.0000 - val_loss: 0.7052 - val_true_positives: 1973.0000\n",
            "Epoch 24/30\n",
            "1250/1250 [==============================] - 8s 6ms/step - loss: 0.1036 - true_positives: 9717.0000 - val_loss: 0.7221 - val_true_positives: 2027.0000\n",
            "Epoch 25/30\n",
            "1250/1250 [==============================] - 8s 6ms/step - loss: 0.1035 - true_positives: 9789.0000 - val_loss: 0.6899 - val_true_positives: 1915.0000\n",
            "Epoch 26/30\n",
            "1250/1250 [==============================] - 8s 6ms/step - loss: 0.1034 - true_positives: 9750.0000 - val_loss: 0.7313 - val_true_positives: 2083.0000\n",
            "Epoch 27/30\n",
            "1250/1250 [==============================] - 8s 6ms/step - loss: 0.1033 - true_positives: 9817.0000 - val_loss: 0.7206 - val_true_positives: 1977.0000\n",
            "Epoch 28/30\n",
            "1250/1250 [==============================] - 8s 6ms/step - loss: 0.1033 - true_positives: 9806.0000 - val_loss: 0.6507 - val_true_positives: 1703.0000\n",
            "Epoch 29/30\n",
            "1250/1250 [==============================] - 8s 6ms/step - loss: 0.1031 - true_positives: 9787.0000 - val_loss: 0.7165 - val_true_positives: 1949.0000\n",
            "Epoch 30/30\n",
            "1250/1250 [==============================] - 8s 6ms/step - loss: 0.1032 - true_positives: 9789.0000 - val_loss: 0.7736 - val_true_positives: 2169.0000\n",
            "INFO:tensorflow:Assets written to: /tmp/tmph6bfs5ek/model/data/model/assets\n"
          ]
        },
        {
          "name": "stderr",
          "output_type": "stream",
          "text": [
            "2022/02/09 07:32:26 WARNING mlflow.utils.requirements_utils: Found jaxlib version (0.1.71+cuda111) contains a local version label (+cuda111). MLflow logged a pip requirement for this package as 'jaxlib==0.1.71' without the local version label to make it installable from PyPI. To specify pip requirements containing local version labels, please use `conda_env` or `pip_requirements`.\n"
          ]
        }
      ],
      "source": [
        "# mlflow.set_experiment('TensorflowModel')\n",
        "\n",
        "with mlflow.start_run():\n",
        "  mlflow.tensorflow.autolog()\n",
        "  \n",
        "  model.fit(\n",
        "      X_train,\n",
        "      Y_train,\n",
        "      batch_size=64,\n",
        "      epochs=30,\n",
        "      validation_data=(X_val, Y_val),\n",
        "      class_weight={0:0.1, 1:0.9}\n",
        "  )"
      ]
    },
    {
      "cell_type": "code",
      "execution_count": 163,
      "metadata": {
        "id": "x7Hd7s4nvW5g"
      },
      "outputs": [],
      "source": [
        "train_predict = model.predict(X_train) >= 0.5\n",
        "val_predict = model.predict(X_val) >= 0.5"
      ]
    },
    {
      "cell_type": "code",
      "execution_count": 164,
      "metadata": {
        "colab": {
          "base_uri": "https://localhost:8080/"
        },
        "id": "tssX4GoovXcG",
        "outputId": "6b2f3dc7-5678-4d03-cc1b-a43b96f66eb4"
      },
      "outputs": [
        {
          "name": "stdout",
          "output_type": "stream",
          "text": [
            "accuracy_score = 0.5432125\n",
            "precision_score = 0.22291860944243239\n",
            "recall_score = 0.935304822565969\n",
            "f1_score = 0.3600287210381604\n",
            "\n",
            "accuracy_score = 0.4823\n",
            "precision_score = 0.18043424007986025\n",
            "recall_score = 0.812055409958817\n",
            "f1_score = 0.2952627280152464\n",
            "\n"
          ]
        }
      ],
      "source": [
        "print_metrics_evaluation(Y_train, train_predict)\n",
        "print_metrics_evaluation(Y_val, val_predict)"
      ]
    },
    {
      "cell_type": "markdown",
      "metadata": {
        "id": "S4NEcKqj9YhN"
      },
      "source": [
        "## 2.3 XGBoost  \n",
        "XGBoost is a Desicion-Tree based model which benefits from ensembles and gradient boosting:"
      ]
    },
    {
      "cell_type": "code",
      "execution_count": 148,
      "metadata": {
        "id": "EdMgCf3n9hjY"
      },
      "outputs": [],
      "source": [
        "import xgboost as xgb"
      ]
    },
    {
      "cell_type": "code",
      "execution_count": 155,
      "metadata": {
        "colab": {
          "base_uri": "https://localhost:8080/"
        },
        "id": "Ds_7kSe-BTzQ",
        "outputId": "09658d2f-cb59-4b9c-ae40-83dc77abc85f"
      },
      "outputs": [
        {
          "name": "stdout",
          "output_type": "stream",
          "text": [
            "-----[start fitting preproccessore transformer to data]-----\n",
            "-----[fitting transformer to data is done!]-----\n"
          ]
        }
      ],
      "source": [
        "preprocessor = Preproccess(data_preprocess, TARGET_ENCODER)\n",
        "processed_train = preprocessor.train_fit_transform(train_data)\n",
        "processed_val = preprocessor.transform(val_data)\n",
        "\n",
        "X_train = processed_train.drop(columns=[target], errors='ignore').astype('float32')\n",
        "Y_train = processed_train[target].astype('float32')\n",
        "X_val = processed_val.drop(columns=[target], errors='ignore').astype('float32')\n",
        "Y_val = processed_val['Sale'].astype('float32')\n",
        "\n",
        "D_train = xgb.DMatrix(X_train, label=Y_train)\n",
        "D_val = xgb.DMatrix(X_val, label=Y_val)"
      ]
    },
    {
      "cell_type": "code",
      "execution_count": 156,
      "metadata": {
        "id": "3ogkyWPo-0Th"
      },
      "outputs": [],
      "source": [
        "param = {\n",
        "    'eta': 0.3,\n",
        "    'max_depth': 4,\n",
        "    'objective': 'binary:logitraw'\n",
        "}\n",
        "\n",
        "step = 20"
      ]
    },
    {
      "cell_type": "code",
      "execution_count": 157,
      "metadata": {
        "id": "udoMKWlHBGbO"
      },
      "outputs": [],
      "source": [
        "model = xgb.train(param, D_train, step)"
      ]
    },
    {
      "cell_type": "code",
      "execution_count": 158,
      "metadata": {
        "colab": {
          "base_uri": "https://localhost:8080/"
        },
        "id": "GYLwvNvHBPc9",
        "outputId": "787f10d9-4e69-4081-ee36-7d127e81a7f6"
      },
      "outputs": [
        {
          "name": "stdout",
          "output_type": "stream",
          "text": [
            "accuracy_score = 0.8765709156193896\n",
            "precision_score = 0.7078891257995735\n",
            "recall_score = 0.21146496815286625\n",
            "f1_score = 0.32564982834722905\n",
            "\n",
            "accuracy_score = 0.86065\n",
            "precision_score = 0.37815126050420167\n",
            "recall_score = 0.06739049045301385\n",
            "f1_score = 0.11439466158245949\n",
            "\n"
          ]
        }
      ],
      "source": [
        "train_preds = model.predict(D_train) > 0\n",
        "val_preds = model.predict(D_val) > 0\n",
        "\n",
        "print_metrics_evaluation(Y_train, train_preds)\n",
        "print_metrics_evaluation(Y_val, val_preds)"
      ]
    },
    {
      "cell_type": "markdown",
      "metadata": {
        "id": "HJDVcWi1pupS"
      },
      "source": [
        "## 2.4. Deep Factorization"
      ]
    },
    {
      "cell_type": "markdown",
      "metadata": {
        "id": "dxMdyd_T_qHV"
      },
      "source": [
        "And finally, Deep Factorization Model is going to be our main model. Because of its Embedding layer, it is able to learn mixed affect of different features on the target and is most easy to use for categorical data, without need to convert them to one hot vector and does it itself internally.  \n",
        "For mentioned reasons and of course for better f1 score, we are going to use Deep Factorization Model as our main model.  \n",
        "Our architecture for this model is similar as below's:"
      ]
    },
    {
      "cell_type": "markdown",
      "metadata": {
        "id": "iHMbrhgp_qHV"
      },
      "source": [
        "<img src=\"https://d2l.ai/_images/rec-deepfm.svg\">"
      ]
    },
    {
      "cell_type": "code",
      "execution_count": 169,
      "metadata": {
        "id": "VijyTwrypupT"
      },
      "outputs": [],
      "source": [
        "class DeepFactorization(nn.Module):\n",
        "    def __init__(self, category_dims, MLP_dims, numerical_dim, embed_vector_size = 8):\n",
        "        super().__init__()\n",
        "        self.numerical_dim = numerical_dim\n",
        "        sum_category_dims = sum(category_dims)\n",
        "        self.embedding = nn.Embedding(sum_category_dims, embed_vector_size)\n",
        "        linear_size = len(category_dims) * embed_vector_size + numerical_dim\n",
        "        self.FM = nn.Sequential(nn.Linear(linear_size, 1), nn.ReLU())\n",
        "        linear_layers = []\n",
        "        for output_size in MLP_dims:\n",
        "            linear_layers.extend([\n",
        "                nn.Linear(linear_size, output_size),\n",
        "                nn.ReLU(),\n",
        "                nn.Dropout(0.2)])\n",
        "            linear_size = output_size\n",
        "        linear_layers.append(nn.Linear(linear_size, 1))\n",
        "        self.MLP = nn.Sequential(*linear_layers)\n",
        "        self.Flatten = nn.Flatten()\n",
        "        self.Sigmoid = nn.Sigmoid()\n",
        "    \n",
        "    def forward(self, x):\n",
        "        x_n = x[:, :self.numerical_dim]\n",
        "        x_c = x[:, self.numerical_dim:].to(torch.int32)\n",
        "        embed_x_c = self.embedding(x_c)\n",
        "        flatten_embed = self.Flatten(embed_x_c)\n",
        "        square_of_sum = torch.sum(embed_x_c, axis=1) ** 2\n",
        "        sum_of_square = torch.sum(embed_x_c ** 2, axis=1)\n",
        "        linear_input = torch.cat((flatten_embed, x_n), dim=-1)\n",
        "        # TODO: linear_input or flatten_embed to FM?\n",
        "        output = self.FM(linear_input) + self.MLP(linear_input) \\\n",
        "                 + 0.5 * (square_of_sum - sum_of_square).sum(1, keepdims=True)\n",
        "        return self.Sigmoid(output)\n",
        "\n",
        "    def predict(self, x):\n",
        "        return self.forward(x)"
      ]
    },
    {
      "cell_type": "code",
      "execution_count": 170,
      "metadata": {
        "colab": {
          "base_uri": "https://localhost:8080/"
        },
        "id": "Hz8TommKpupV",
        "outputId": "f78e8ed4-8077-48a3-962f-75ab65fa6395"
      },
      "outputs": [
        {
          "data": {
            "text/plain": [
              "DeepFactorization(\n",
              "  (embedding): Embedding(212, 8)\n",
              "  (FM): Sequential(\n",
              "    (0): Linear(in_features=98, out_features=1, bias=True)\n",
              "    (1): ReLU()\n",
              "  )\n",
              "  (MLP): Sequential(\n",
              "    (0): Linear(in_features=98, out_features=2000, bias=True)\n",
              "    (1): ReLU()\n",
              "    (2): Dropout(p=0.2, inplace=False)\n",
              "    (3): Linear(in_features=2000, out_features=1000, bias=True)\n",
              "    (4): ReLU()\n",
              "    (5): Dropout(p=0.2, inplace=False)\n",
              "    (6): Linear(in_features=1000, out_features=500, bias=True)\n",
              "    (7): ReLU()\n",
              "    (8): Dropout(p=0.2, inplace=False)\n",
              "    (9): Linear(in_features=500, out_features=256, bias=True)\n",
              "    (10): ReLU()\n",
              "    (11): Dropout(p=0.2, inplace=False)\n",
              "    (12): Linear(in_features=256, out_features=128, bias=True)\n",
              "    (13): ReLU()\n",
              "    (14): Dropout(p=0.2, inplace=False)\n",
              "    (15): Linear(in_features=128, out_features=64, bias=True)\n",
              "    (16): ReLU()\n",
              "    (17): Dropout(p=0.2, inplace=False)\n",
              "    (18): Linear(in_features=64, out_features=32, bias=True)\n",
              "    (19): ReLU()\n",
              "    (20): Dropout(p=0.2, inplace=False)\n",
              "    (21): Linear(in_features=32, out_features=16, bias=True)\n",
              "    (22): ReLU()\n",
              "    (23): Dropout(p=0.2, inplace=False)\n",
              "    (24): Linear(in_features=16, out_features=8, bias=True)\n",
              "    (25): ReLU()\n",
              "    (26): Dropout(p=0.2, inplace=False)\n",
              "    (27): Linear(in_features=8, out_features=1, bias=True)\n",
              "  )\n",
              "  (Flatten): Flatten(start_dim=1, end_dim=-1)\n",
              "  (Sigmoid): Sigmoid()\n",
              ")"
            ]
          },
          "execution_count": 170,
          "metadata": {},
          "output_type": "execute_result"
        }
      ],
      "source": [
        "numerical_dim = len(numerical_cols)\n",
        "category_dims = [len(column_categories[col]) for col in categorical_cols]\n",
        "MLP_dims = [2000, 1000, 500, 256, 128, 64, 32, 16, 8]\n",
        "model = DeepFactorization(category_dims, MLP_dims, numerical_dim).to(device)\n",
        "\n",
        "criterion = nn.BCELoss().to(device)\n",
        "lr=1e-3\n",
        "optimizer = torch.optim.Adam(model.parameters(), lr=lr)\n",
        "# lr_scheduler = torch.optim.lr_scheduler.StepLR(optimizer, step_size=10, gamma=0.2)\n",
        "model"
      ]
    },
    {
      "cell_type": "code",
      "execution_count": 171,
      "metadata": {
        "colab": {
          "base_uri": "https://localhost:8080/",
          "height": 1000
        },
        "id": "Kq8oMUCQpupV",
        "outputId": "f163764b-de27-49ae-a1ab-e808eb2c08ef"
      },
      "outputs": [
        {
          "name": "stderr",
          "output_type": "stream",
          "text": [
            "Epoch:0, Train Loss: 3.327e+01: 100%|██████████| 1906/1906 [00:30<00:00, 62.66it/s]\n",
            "Epoch:0, Val Loss: 3.596e+00: 100%|██████████| 625/625 [00:05<00:00, 116.92it/s]\n"
          ]
        },
        {
          "name": "stdout",
          "output_type": "stream",
          "text": [
            "-------------------------------------------------------------------\n"
          ]
        },
        {
          "name": "stderr",
          "output_type": "stream",
          "text": [
            "Epoch:1, Train Loss: 2.193e+00: 100%|██████████| 1906/1906 [00:30<00:00, 62.90it/s]\n",
            "Epoch:1, Val Loss: 1.743e+00: 100%|██████████| 625/625 [00:05<00:00, 117.20it/s]\n"
          ]
        },
        {
          "name": "stdout",
          "output_type": "stream",
          "text": [
            "-------------------------------------------------------------------\n"
          ]
        },
        {
          "name": "stderr",
          "output_type": "stream",
          "text": [
            "Epoch:2, Train Loss: 1.581e+00: 100%|██████████| 1906/1906 [00:30<00:00, 62.29it/s]\n",
            "Epoch:2, Val Loss: 1.534e+00: 100%|██████████| 625/625 [00:05<00:00, 113.13it/s]\n"
          ]
        },
        {
          "name": "stdout",
          "output_type": "stream",
          "text": [
            "-------------------------------------------------------------------\n"
          ]
        },
        {
          "name": "stderr",
          "output_type": "stream",
          "text": [
            "Epoch:3, Train Loss: 1.400e+00: 100%|██████████| 1906/1906 [00:30<00:00, 62.40it/s]\n",
            "Epoch:3, Val Loss: 1.365e+00: 100%|██████████| 625/625 [00:05<00:00, 113.88it/s]\n"
          ]
        },
        {
          "name": "stdout",
          "output_type": "stream",
          "text": [
            "-------------------------------------------------------------------\n"
          ]
        },
        {
          "name": "stderr",
          "output_type": "stream",
          "text": [
            "Epoch:4, Train Loss: 1.332e+00: 100%|██████████| 1906/1906 [00:40<00:00, 47.50it/s]\n",
            "Epoch:4, Val Loss: 1.350e+00: 100%|██████████| 625/625 [00:05<00:00, 113.42it/s]\n"
          ]
        },
        {
          "name": "stdout",
          "output_type": "stream",
          "text": [
            "-------------------------------------------------------------------\n"
          ]
        },
        {
          "name": "stderr",
          "output_type": "stream",
          "text": [
            "Epoch:5, Train Loss: 1.300e+00: 100%|██████████| 1906/1906 [00:30<00:00, 63.01it/s]\n",
            "Epoch:5, Val Loss: 1.302e+00: 100%|██████████| 625/625 [00:05<00:00, 113.50it/s]\n"
          ]
        },
        {
          "name": "stdout",
          "output_type": "stream",
          "text": [
            "-------------------------------------------------------------------\n"
          ]
        },
        {
          "name": "stderr",
          "output_type": "stream",
          "text": [
            "Epoch:6, Train Loss: 1.281e+00: 100%|██████████| 1906/1906 [00:30<00:00, 62.83it/s]\n",
            "Epoch:6, Val Loss: 1.299e+00: 100%|██████████| 625/625 [00:05<00:00, 115.13it/s]\n"
          ]
        },
        {
          "name": "stdout",
          "output_type": "stream",
          "text": [
            "-------------------------------------------------------------------\n"
          ]
        },
        {
          "name": "stderr",
          "output_type": "stream",
          "text": [
            "Epoch:7, Train Loss: 1.267e+00: 100%|██████████| 1906/1906 [00:30<00:00, 61.98it/s]\n",
            "Epoch:7, Val Loss: 1.273e+00: 100%|██████████| 625/625 [00:05<00:00, 111.59it/s]\n"
          ]
        },
        {
          "name": "stdout",
          "output_type": "stream",
          "text": [
            "-------------------------------------------------------------------\n"
          ]
        },
        {
          "name": "stderr",
          "output_type": "stream",
          "text": [
            "Epoch:8, Train Loss: 1.263e+00: 100%|██████████| 1906/1906 [00:30<00:00, 63.22it/s]\n",
            "Epoch:8, Val Loss: 1.279e+00: 100%|██████████| 625/625 [00:05<00:00, 116.36it/s]\n"
          ]
        },
        {
          "name": "stdout",
          "output_type": "stream",
          "text": [
            "-------------------------------------------------------------------\n"
          ]
        },
        {
          "name": "stderr",
          "output_type": "stream",
          "text": [
            "Epoch:9, Train Loss: 1.254e+00: 100%|██████████| 1906/1906 [00:29<00:00, 64.37it/s]\n",
            "Epoch:9, Val Loss: 1.270e+00: 100%|██████████| 625/625 [00:05<00:00, 115.39it/s]\n"
          ]
        },
        {
          "name": "stdout",
          "output_type": "stream",
          "text": [
            "-------------------------------------------------------------------\n"
          ]
        },
        {
          "name": "stderr",
          "output_type": "stream",
          "text": [
            "Epoch:10, Train Loss: 1.248e+00: 100%|██████████| 1906/1906 [00:29<00:00, 64.20it/s]\n",
            "Epoch:10, Val Loss: 1.296e+00: 100%|██████████| 625/625 [00:05<00:00, 115.49it/s]\n"
          ]
        },
        {
          "name": "stdout",
          "output_type": "stream",
          "text": [
            "-------------------------------------------------------------------\n"
          ]
        },
        {
          "name": "stderr",
          "output_type": "stream",
          "text": [
            "Epoch:11, Train Loss: 1.247e+00: 100%|██████████| 1906/1906 [00:29<00:00, 64.51it/s]\n",
            "Epoch:11, Val Loss: 1.282e+00: 100%|██████████| 625/625 [00:05<00:00, 115.59it/s]\n"
          ]
        },
        {
          "name": "stdout",
          "output_type": "stream",
          "text": [
            "-------------------------------------------------------------------\n"
          ]
        },
        {
          "name": "stderr",
          "output_type": "stream",
          "text": [
            "Epoch:12, Train Loss: 1.243e+00: 100%|██████████| 1906/1906 [00:29<00:00, 64.64it/s]\n",
            "Epoch:12, Val Loss: 1.268e+00: 100%|██████████| 625/625 [00:05<00:00, 117.29it/s]\n"
          ]
        },
        {
          "name": "stdout",
          "output_type": "stream",
          "text": [
            "-------------------------------------------------------------------\n"
          ]
        },
        {
          "name": "stderr",
          "output_type": "stream",
          "text": [
            "Epoch:13, Train Loss: 1.247e+00: 100%|██████████| 1906/1906 [00:29<00:00, 64.38it/s]\n",
            "Epoch:13, Val Loss: 1.257e+00: 100%|██████████| 625/625 [00:05<00:00, 117.27it/s]\n"
          ]
        },
        {
          "name": "stdout",
          "output_type": "stream",
          "text": [
            "-------------------------------------------------------------------\n"
          ]
        },
        {
          "name": "stderr",
          "output_type": "stream",
          "text": [
            "Epoch:14, Train Loss: 1.237e+00: 100%|██████████| 1906/1906 [00:29<00:00, 64.54it/s]\n",
            "Epoch:14, Val Loss: 1.248e+00: 100%|██████████| 625/625 [00:05<00:00, 115.31it/s]\n"
          ]
        },
        {
          "name": "stdout",
          "output_type": "stream",
          "text": [
            "-------------------------------------------------------------------\n"
          ]
        },
        {
          "name": "stderr",
          "output_type": "stream",
          "text": [
            "Epoch:15, Train Loss: 1.234e+00: 100%|██████████| 1906/1906 [00:29<00:00, 64.19it/s]\n",
            "Epoch:15, Val Loss: 1.256e+00: 100%|██████████| 625/625 [00:05<00:00, 115.95it/s]\n"
          ]
        },
        {
          "name": "stdout",
          "output_type": "stream",
          "text": [
            "-------------------------------------------------------------------\n"
          ]
        },
        {
          "name": "stderr",
          "output_type": "stream",
          "text": [
            "Epoch:16, Train Loss: 1.233e+00: 100%|██████████| 1906/1906 [00:29<00:00, 64.57it/s]\n",
            "Epoch:16, Val Loss: 1.257e+00: 100%|██████████| 625/625 [00:05<00:00, 115.39it/s]\n"
          ]
        },
        {
          "name": "stdout",
          "output_type": "stream",
          "text": [
            "-------------------------------------------------------------------\n"
          ]
        },
        {
          "name": "stderr",
          "output_type": "stream",
          "text": [
            "Epoch:17, Train Loss: 1.230e+00: 100%|██████████| 1906/1906 [00:29<00:00, 64.22it/s]\n",
            "Epoch:17, Val Loss: 1.256e+00: 100%|██████████| 625/625 [00:05<00:00, 117.19it/s]\n"
          ]
        },
        {
          "name": "stdout",
          "output_type": "stream",
          "text": [
            "-------------------------------------------------------------------\n"
          ]
        },
        {
          "name": "stderr",
          "output_type": "stream",
          "text": [
            "Epoch:18, Train Loss: 1.235e+00: 100%|██████████| 1906/1906 [00:29<00:00, 64.18it/s]\n",
            "Epoch:18, Val Loss: 1.262e+00: 100%|██████████| 625/625 [00:05<00:00, 114.75it/s]\n"
          ]
        },
        {
          "name": "stdout",
          "output_type": "stream",
          "text": [
            "-------------------------------------------------------------------\n"
          ]
        },
        {
          "name": "stderr",
          "output_type": "stream",
          "text": [
            "Epoch:19, Train Loss: 1.228e+00: 100%|██████████| 1906/1906 [00:29<00:00, 63.90it/s]\n",
            "Epoch:19, Val Loss: 1.264e+00: 100%|██████████| 625/625 [00:05<00:00, 115.53it/s]\n"
          ]
        },
        {
          "name": "stdout",
          "output_type": "stream",
          "text": [
            "-------------------------------------------------------------------\n"
          ]
        },
        {
          "name": "stderr",
          "output_type": "stream",
          "text": [
            "Epoch:20, Train Loss: 1.235e+00: 100%|██████████| 1906/1906 [00:29<00:00, 63.93it/s]\n",
            "Epoch:20, Val Loss: 1.256e+00: 100%|██████████| 625/625 [00:05<00:00, 114.12it/s]\n"
          ]
        },
        {
          "name": "stdout",
          "output_type": "stream",
          "text": [
            "-------------------------------------------------------------------\n"
          ]
        },
        {
          "name": "stderr",
          "output_type": "stream",
          "text": [
            "Epoch:21, Train Loss: 1.231e+00: 100%|██████████| 1906/1906 [00:29<00:00, 63.91it/s]\n",
            "Epoch:21, Val Loss: 1.281e+00: 100%|██████████| 625/625 [00:05<00:00, 116.36it/s]\n"
          ]
        },
        {
          "name": "stdout",
          "output_type": "stream",
          "text": [
            "-------------------------------------------------------------------\n"
          ]
        },
        {
          "name": "stderr",
          "output_type": "stream",
          "text": [
            "Epoch:22, Train Loss: 1.225e+00: 100%|██████████| 1906/1906 [00:30<00:00, 63.17it/s]\n",
            "Epoch:22, Val Loss: 1.327e+00: 100%|██████████| 625/625 [00:05<00:00, 112.71it/s]\n"
          ]
        },
        {
          "name": "stdout",
          "output_type": "stream",
          "text": [
            "-------------------------------------------------------------------\n"
          ]
        },
        {
          "name": "stderr",
          "output_type": "stream",
          "text": [
            "Epoch:23, Train Loss: 1.226e+00: 100%|██████████| 1906/1906 [00:30<00:00, 62.02it/s]\n",
            "Epoch:23, Val Loss: 1.323e+00: 100%|██████████| 625/625 [00:05<00:00, 112.95it/s]\n"
          ]
        },
        {
          "name": "stdout",
          "output_type": "stream",
          "text": [
            "-------------------------------------------------------------------\n"
          ]
        },
        {
          "name": "stderr",
          "output_type": "stream",
          "text": [
            "Epoch:24, Train Loss: 1.225e+00: 100%|██████████| 1906/1906 [00:30<00:00, 63.31it/s]\n",
            "Epoch:24, Val Loss: 1.293e+00: 100%|██████████| 625/625 [00:05<00:00, 113.10it/s]\n"
          ]
        },
        {
          "name": "stdout",
          "output_type": "stream",
          "text": [
            "-------------------------------------------------------------------\n"
          ]
        },
        {
          "name": "stderr",
          "output_type": "stream",
          "text": [
            "Epoch:25, Train Loss: 1.225e+00: 100%|██████████| 1906/1906 [00:30<00:00, 62.46it/s]\n",
            "Epoch:25, Val Loss: 1.277e+00: 100%|██████████| 625/625 [00:05<00:00, 110.21it/s]\n"
          ]
        },
        {
          "name": "stdout",
          "output_type": "stream",
          "text": [
            "-------------------------------------------------------------------\n"
          ]
        },
        {
          "name": "stderr",
          "output_type": "stream",
          "text": [
            "Epoch:26, Train Loss: 1.216e+00: 100%|██████████| 1906/1906 [00:30<00:00, 62.52it/s]\n",
            "Epoch:26, Val Loss: 1.342e+00: 100%|██████████| 625/625 [00:05<00:00, 111.66it/s]\n"
          ]
        },
        {
          "name": "stdout",
          "output_type": "stream",
          "text": [
            "-------------------------------------------------------------------\n"
          ]
        },
        {
          "name": "stderr",
          "output_type": "stream",
          "text": [
            "Epoch:27, Train Loss: 1.228e+00: 100%|██████████| 1906/1906 [00:30<00:00, 61.60it/s]\n",
            "Epoch:27, Val Loss: 1.314e+00: 100%|██████████| 625/625 [00:05<00:00, 111.69it/s]\n"
          ]
        },
        {
          "name": "stdout",
          "output_type": "stream",
          "text": [
            "-------------------------------------------------------------------\n"
          ]
        },
        {
          "name": "stderr",
          "output_type": "stream",
          "text": [
            "Epoch:28, Train Loss: 1.227e+00: 100%|██████████| 1906/1906 [00:30<00:00, 62.69it/s]\n",
            "Epoch:28, Val Loss: 1.260e+00: 100%|██████████| 625/625 [00:05<00:00, 113.47it/s]\n"
          ]
        },
        {
          "name": "stdout",
          "output_type": "stream",
          "text": [
            "-------------------------------------------------------------------\n"
          ]
        },
        {
          "name": "stderr",
          "output_type": "stream",
          "text": [
            "Epoch:29, Train Loss: 1.229e+00: 100%|██████████| 1906/1906 [00:30<00:00, 63.18it/s]\n",
            "Epoch:29, Val Loss: 1.256e+00: 100%|██████████| 625/625 [00:05<00:00, 113.24it/s]\n"
          ]
        },
        {
          "name": "stdout",
          "output_type": "stream",
          "text": [
            "-------------------------------------------------------------------\n"
          ]
        },
        {
          "name": "stderr",
          "output_type": "stream",
          "text": [
            "Epoch:30, Train Loss: 1.225e+00: 100%|██████████| 1906/1906 [00:30<00:00, 63.46it/s]\n",
            "Epoch:30, Val Loss: 1.246e+00: 100%|██████████| 625/625 [00:05<00:00, 114.11it/s]\n"
          ]
        },
        {
          "name": "stdout",
          "output_type": "stream",
          "text": [
            "-------------------------------------------------------------------\n"
          ]
        },
        {
          "name": "stderr",
          "output_type": "stream",
          "text": [
            "Epoch:31, Train Loss: 1.223e+00: 100%|██████████| 1906/1906 [00:29<00:00, 63.57it/s]\n",
            "Epoch:31, Val Loss: 1.247e+00: 100%|██████████| 625/625 [00:05<00:00, 114.11it/s]\n"
          ]
        },
        {
          "name": "stdout",
          "output_type": "stream",
          "text": [
            "-------------------------------------------------------------------\n"
          ]
        },
        {
          "name": "stderr",
          "output_type": "stream",
          "text": [
            "Epoch:32, Train Loss: 1.222e+00: 100%|██████████| 1906/1906 [00:30<00:00, 62.68it/s]\n",
            "Epoch:32, Val Loss: 1.252e+00: 100%|██████████| 625/625 [00:05<00:00, 112.50it/s]\n"
          ]
        },
        {
          "name": "stdout",
          "output_type": "stream",
          "text": [
            "-------------------------------------------------------------------\n"
          ]
        },
        {
          "name": "stderr",
          "output_type": "stream",
          "text": [
            "Epoch:33, Train Loss: 1.217e+00: 100%|██████████| 1906/1906 [00:30<00:00, 62.85it/s]\n",
            "Epoch:33, Val Loss: 1.247e+00: 100%|██████████| 625/625 [00:05<00:00, 112.87it/s]\n"
          ]
        },
        {
          "name": "stdout",
          "output_type": "stream",
          "text": [
            "-------------------------------------------------------------------\n"
          ]
        },
        {
          "name": "stderr",
          "output_type": "stream",
          "text": [
            "Epoch:34, Train Loss: 1.221e+00: 100%|██████████| 1906/1906 [00:30<00:00, 62.81it/s]\n",
            "Epoch:34, Val Loss: 1.248e+00: 100%|██████████| 625/625 [00:05<00:00, 112.60it/s]\n"
          ]
        },
        {
          "name": "stdout",
          "output_type": "stream",
          "text": [
            "-------------------------------------------------------------------\n"
          ]
        },
        {
          "name": "stderr",
          "output_type": "stream",
          "text": [
            "Epoch:35, Train Loss: 1.213e+00: 100%|██████████| 1906/1906 [00:30<00:00, 62.94it/s]\n",
            "Epoch:35, Val Loss: 1.255e+00: 100%|██████████| 625/625 [00:05<00:00, 113.45it/s]\n"
          ]
        },
        {
          "name": "stdout",
          "output_type": "stream",
          "text": [
            "-------------------------------------------------------------------\n"
          ]
        },
        {
          "name": "stderr",
          "output_type": "stream",
          "text": [
            "Epoch:36, Train Loss: 1.213e+00: 100%|██████████| 1906/1906 [00:30<00:00, 62.92it/s]\n",
            "Epoch:36, Val Loss: 1.293e+00: 100%|██████████| 625/625 [00:05<00:00, 111.95it/s]\n"
          ]
        },
        {
          "name": "stdout",
          "output_type": "stream",
          "text": [
            "-------------------------------------------------------------------\n"
          ]
        },
        {
          "name": "stderr",
          "output_type": "stream",
          "text": [
            "Epoch:37, Train Loss: 1.215e+00: 100%|██████████| 1906/1906 [00:30<00:00, 63.16it/s]\n",
            "Epoch:37, Val Loss: 1.260e+00: 100%|██████████| 625/625 [00:05<00:00, 112.21it/s]\n"
          ]
        },
        {
          "name": "stdout",
          "output_type": "stream",
          "text": [
            "-------------------------------------------------------------------\n"
          ]
        },
        {
          "name": "stderr",
          "output_type": "stream",
          "text": [
            "Epoch:38, Train Loss: 1.208e+00: 100%|██████████| 1906/1906 [00:30<00:00, 63.04it/s]\n",
            "Epoch:38, Val Loss: 1.321e+00: 100%|██████████| 625/625 [00:05<00:00, 112.93it/s]\n"
          ]
        },
        {
          "name": "stdout",
          "output_type": "stream",
          "text": [
            "-------------------------------------------------------------------\n"
          ]
        },
        {
          "name": "stderr",
          "output_type": "stream",
          "text": [
            "Epoch:39, Train Loss: 1.206e+00: 100%|██████████| 1906/1906 [00:30<00:00, 62.67it/s]\n",
            "Epoch:39, Val Loss: 1.261e+00: 100%|██████████| 625/625 [00:05<00:00, 112.45it/s]\n",
            "2022/02/09 07:59:02 WARNING mlflow.utils.requirements_utils: Found torch version (1.10.0+cu111) contains a local version label (+cu111). MLflow logged a pip requirement for this package as 'torch==1.10.0' without the local version label to make it installable from PyPI. To specify pip requirements containing local version labels, please use `conda_env` or `pip_requirements`.\n"
          ]
        },
        {
          "name": "stdout",
          "output_type": "stream",
          "text": [
            "-------------------------------------------------------------------\n",
            "\n",
            "Logging the trained model as a run artifact...\n"
          ]
        },
        {
          "name": "stderr",
          "output_type": "stream",
          "text": [
            "2022/02/09 07:59:05 WARNING mlflow.utils.environment: Encountered an unexpected error while inferring pip requirements (model URI: /tmp/tmpmf0leuah/model/data, flavor: pytorch), fall back to return ['torch==1.10.0', 'cloudpickle==1.3.0']. Set logging level to DEBUG to see the full traceback.\n"
          ]
        },
        {
          "name": "stdout",
          "output_type": "stream",
          "text": [
            "Logging the trained model is done\n"
          ]
        },
        {
          "name": "stderr",
          "output_type": "stream",
          "text": [
            "/usr/local/lib/python3.7/dist-packages/sklearn/metrics/_classification.py:1318: UndefinedMetricWarning: Precision is ill-defined and being set to 0.0 in labels with no predicted samples. Use `zero_division` parameter to control this behavior.\n",
            "  _warn_prf(average, modifier, msg_start, len(result))\n",
            "/usr/local/lib/python3.7/dist-packages/sklearn/metrics/_classification.py:1318: UndefinedMetricWarning: Precision is ill-defined and being set to 0.0 in labels with no predicted samples. Use `zero_division` parameter to control this behavior.\n",
            "  _warn_prf(average, modifier, msg_start, len(result))\n"
          ]
        },
        {
          "name": "stdout",
          "output_type": "stream",
          "text": [
            "DeepFactorization: Metrics on Training Data:\n",
            "accuracy_score = 0.6380529086644908\n",
            "precision_score = 0.23178677971424086\n",
            "recall_score = 0.7027252171843389\n",
            "f1_score = 0.3485935240119248\n",
            "\n",
            "DeepFactorization: Metrics on Validation Data:\n",
            "accuracy_score = 0.59465\n",
            "precision_score = 0.20105587329520458\n",
            "recall_score = 0.6843878697117185\n",
            "f1_score = 0.3108050667346765\n",
            "\n"
          ]
        },
        {
          "data": {
            "image/png": "[encoded data removed]",
            "text/plain": [
              "<Figure size 432x288 with 1 Axes>"
            ]
          },
          "metadata": {
            "needs_background": "light"
          },
          "output_type": "display_data"
        }
      ],
      "source": [
        "train_loss_arr, val_loss_arr, model = do_expriment(model, optimizer, num_epochs=40, model_name='DeepFactorization', threshold=0.5)"
      ]
    },
    {
      "cell_type": "markdown",
      "metadata": {
        "id": "L0ph4AcMm3qv"
      },
      "source": [
        "As you can see, we achived our best result (best f1 score) with our deep factorization model. Its f1 score on validation set is almost as good as on training set. For weakness of model, we can mention its low precision score. The reason behind this low metric is that our model generates positive results more than it should and it is so because we have given different weights to positive and negative calss and it punishes positve misclassifications more than negative misclassifications and our model tries to minimize its FNs with generating more positive rewards."
      ]
    },
    {
      "cell_type": "markdown",
      "metadata": {
        "id": "D4kpNDStFvqa"
      },
      "source": [
        "\n",
        "Using a pipeline-like structure for training of our models:"
      ]
    },
    {
      "cell_type": "code",
      "execution_count": 44,
      "metadata": {
        "id": "4WXfZVivFvqa"
      },
      "outputs": [],
      "source": [
        "class Model(BaseEstimator, TransformerMixin):\n",
        "    def __init__(self, model, model_name, target='Sale', num_epochs=30, lr=1e-4):\n",
        "        self.model = model\n",
        "        self.model_name = model_name\n",
        "        self.target = target\n",
        "        self.num_epochs = num_epochs\n",
        "        self.lr = lr\n",
        "        self.train_func\n",
        "    \n",
        "    def fit(self, df, y=None):\n",
        "        # model, optimizer, num_epochs, model_name, threshold=0.5\n",
        "        optimizer = torch.optim.Adam(model.parameters(), lr=lr)\n",
        "        _, _, self.model = do_expriment(self.model, optimizer, self.num_epochs, self.model_name, 0.5)\n",
        "        return self\n",
        "\n",
        "    def transform(self, df, y=None):\n",
        "        X = torch.from_numpy(df.drop(columns=[target]).to_numpy(dtype=np.float32)).to(device)\n",
        "        return self.model(X)"
      ]
    },
    {
      "cell_type": "markdown",
      "metadata": {
        "id": "8yQUpkcnFvqb"
      },
      "source": [
        "# 4. Deployment"
      ]
    },
    {
      "cell_type": "markdown",
      "metadata": {
        "id": "X_WWcJ7KvNo1"
      },
      "source": [
        "Now we can serve our pickled model during training process with following command:"
      ]
    },
    {
      "cell_type": "code",
      "execution_count": 174,
      "metadata": {
        "colab": {
          "base_uri": "https://localhost:8080/"
        },
        "id": "CLCt1N8WFvqb",
        "outputId": "b365658d-d0d6-4e11-927e-35d76c74716b"
      },
      "outputs": [
        {
          "name": "stdout",
          "output_type": "stream",
          "text": [
            "2022/02/09 08:29:45 INFO mlflow.models.cli: Selected backend for flavor 'python_function'\n",
            "2022/02/09 08:29:45 INFO mlflow.pyfunc.backend: === Running command 'gunicorn --timeout=60 -b 127.0.0.1:1234 -w 1 ${GUNICORN_CMD_ARGS} -- mlflow.pyfunc.scoring_server.wsgi:app'\n",
            "[2022-02-09 08:29:46 +0000] [1461] [INFO] Starting gunicorn 20.1.0\n",
            "[2022-02-09 08:29:46 +0000] [1461] [INFO] Listening at: http://127.0.0.1:1234 (1461)\n",
            "[2022-02-09 08:29:46 +0000] [1461] [INFO] Using worker: sync\n",
            "[2022-02-09 08:29:46 +0000] [1464] [INFO] Booting worker with pid: 1464\n",
            "/usr/local/lib/python3.7/dist-packages/keras/backend.py:414: UserWarning: `tf.keras.backend.set_learning_phase` is deprecated and will be removed after 2020-10-11. To update it, simply pass a True/False value to the `training` argument of the `__call__` method of your layer or model.\n",
            "  warnings.warn('`tf.keras.backend.set_learning_phase` is deprecated and '\n",
            "2022-02-09 08:29:56.366077: W tensorflow/core/common_runtime/gpu/gpu_bfc_allocator.cc:39] Overriding allow_growth setting because the TF_FORCE_GPU_ALLOW_GROWTH environment variable is set. Original config value was 0.\n",
            "[2022-02-09 08:37:02 +0000] [1461] [INFO] Handling signal: int\n",
            "\n",
            "Aborted!\n",
            "[2022-02-09 08:37:02 +0000] [1464] [INFO] Worker exiting (pid: 1464)\n",
            "[2022-02-09 08:37:03 +0000] [1461] [INFO] Shutting down: Master\n"
          ]
        }
      ],
      "source": [
        "!mlflow models serve -m '/content/mlruns/1/f5eac64da126407aba7da0876367335f/artifacts/model' --no-conda -p 1234"
      ]
    },
    {
      "cell_type": "markdown",
      "metadata": {
        "id": "3TMbRKXZvSgF"
      },
      "source": [
        "And get model's prediction for test set data as follow:"
      ]
    },
    {
      "cell_type": "code",
      "execution_count": null,
      "metadata": {
        "id": "28eZbERPFvqb"
      },
      "outputs": [],
      "source": [
        "import requests\n",
        "# set DATA_PATH for your test dataset\n",
        "DATA_PATH = 'https://github.com/a80-abbasi/ML_Project/blob/main/train_dataset.csv?raw=true'\n",
        "HOST = '127.0.0.1'\n",
        "PORT = 8080\n",
        "URL = f'http://{HOST}:{PORT}/invocations'\n",
        "header = {\n",
        "    'Content-Type': 'application/json',\n",
        "}\n",
        "data = pd.read_csv(DATA_PATH)\n",
        "# load preproceesor object\n",
        "preprocessor = load(open('other_preprocessor.pkl', 'rb'))\n",
        "processed_data = preprocessor.transform(data)\n",
        "# set your test batch\n",
        "test_data = processed_data.loc[20:30, :]\n",
        "\n",
        "json = test_data.to_json(orient='split')\n",
        "\n",
        "r = requests.post(url=URL, headers=header, data=json)\n",
        "\n",
        "print(f'Predictions: {r.text}')"
      ]
    },
    {
      "cell_type": "code",
      "execution_count": null,
      "metadata": {
        "id": "USFkj4YAFvqb"
      },
      "outputs": [],
      "source": [
        "# for downloading mlruns folder from colab\n",
        "# !zip -r mlruns.zip ./mlruns/"
      ]
    }
  ],
  "metadata": {
    "accelerator": "GPU",
    "colab": {
      "collapsed_sections": [],
      "name": "ML_Project_tofinal.ipynb",
      "provenance": []
    },
    "kernelspec": {
      "display_name": "Python 3",
      "name": "python3"
    },
    "language_info": {
      "codemirror_mode": {
        "name": "ipython",
        "version": 3
      },
      "file_extension": ".py",
      "mimetype": "text/x-python",
      "name": "python",
      "nbconvert_exporter": "python",
      "pygments_lexer": "ipython3",
      "version": "3.9.7"
    }
  },
  "nbformat": 4,
  "nbformat_minor": 0
}
